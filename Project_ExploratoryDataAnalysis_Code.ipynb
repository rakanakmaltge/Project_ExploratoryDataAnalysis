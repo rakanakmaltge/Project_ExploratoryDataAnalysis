{
  "cells": [
    {
      "cell_type": "markdown",
      "metadata": {
        "id": "view-in-github",
        "colab_type": "text"
      },
      "source": [
        "<a href=\"https://colab.research.google.com/github/rakanakmaltge/Project_ExploratoryDataAnalysis/blob/main/Project_ExploratoryDataAnalysis_Code.ipynb\" target=\"_parent\"><img src=\"https://colab.research.google.com/assets/colab-badge.svg\" alt=\"Open In Colab\"/></a>"
      ]
    },
    {
      "cell_type": "markdown",
      "source": [
        "# **Project EDA Kelompok 4**\n",
        "Anggota:<br>\n",
        "\n",
        "\n",
        "* Muhammad Rakan Akmal (210663574)\n",
        "* Rafly Witjaksana Hartyanto (2106651572)\n",
        "* Rima Fitrianti Azahra (2106701974)\n",
        "* Tsabita Asir Saladin (210670786)\n",
        "\n",
        "\n",
        "Permasalahan: *Subscription Video On Demand* (SVOD) mana yang harus dipilih?<br>\n",
        "\n",
        "Sumber data CSV: https://raw.githubusercontent.com/smartinternz02/SBSPS-Challenge-5372-OTT-Platform-Analysis-Tool/main/MoviesOnStreamingPlatforms_updated.csv <br>\n",
        "\n",
        "Sumber data text : API Twitter"
      ],
      "metadata": {
        "id": "n03uXNC7C0S_"
      }
    },
    {
      "cell_type": "markdown",
      "source": [
        "## **Import Module**"
      ],
      "metadata": {
        "id": "P5ysM-OZbxOF"
      }
    },
    {
      "cell_type": "code",
      "execution_count": null,
      "metadata": {
        "id": "hNR1VjnqcWxY",
        "colab": {
          "base_uri": "https://localhost:8080/"
        },
        "outputId": "d0ab86aa-e3d3-49e1-9f52-21f996862ae9"
      },
      "outputs": [
        {
          "output_type": "display_data",
          "data": {
            "text/html": [
              "        <script type=\"text/javascript\">\n",
              "        window.PlotlyConfig = {MathJaxConfig: 'local'};\n",
              "        if (window.MathJax) {MathJax.Hub.Config({SVG: {font: \"STIX-Web\"}});}\n",
              "        if (typeof require !== 'undefined') {\n",
              "        require.undef(\"plotly\");\n",
              "        requirejs.config({\n",
              "            paths: {\n",
              "                'plotly': ['https://cdn.plot.ly/plotly-2.8.3.min']\n",
              "            }\n",
              "        });\n",
              "        require(['plotly'], function(Plotly) {\n",
              "            window._Plotly = Plotly;\n",
              "        });\n",
              "        }\n",
              "        </script>\n",
              "        "
            ]
          },
          "metadata": {}
        }
      ],
      "source": [
        "import pandas as pd\n",
        "import matplotlib.pyplot as plt\n",
        "import seaborn as sns\n",
        "from plotly.offline import iplot\n",
        "import cufflinks as cf\n",
        "cf.go_offline()\n",
        "import numpy as np\n",
        "import math"
      ]
    },
    {
      "cell_type": "code",
      "source": [
        "#import untuk data text\n",
        "import warnings; warnings.simplefilter('ignore')\n",
        "import nltk\n",
        "\n",
        "try:\n",
        "    import google.colab\n",
        "    IN_COLAB = True\n",
        "    !wget https://raw.githubusercontent.com/taudata-indonesia/eLearning/master/taudataEDA02CTA.py\n",
        "    !mkdir data\n",
        "    !wget -P data/ https://raw.githubusercontent.com/taudata-indonesia/eLearning/master/data/slang.dic\n",
        "    !wget -P data/ https://raw.githubusercontent.com/taudata-indonesia/eLearning/master/data/slang.txt\n",
        "    !wget -P data/ https://raw.githubusercontent.com/taudata-indonesia/eLearning/master/data/stopwords_id.txt\n",
        "    !wget -P data/ https://raw.githubusercontent.com/taudata-indonesia/eLearning/master/data/stopwords_en.txt\n",
        "    !wget -P data/ https://raw.githubusercontent.com/taudata-indonesia/eLearning/master/data/kata_dasar.txt\n",
        "    !wget -P data/ https://raw.githubusercontent.com/taudata-indonesia/eLearning/master/data/wn-ind-def.tab\n",
        "    !wget -P data/ https://raw.githubusercontent.com/taudata-indonesia/eLearning/master/data/wn-msa-all.tab\n",
        "    !wget -P data/ https://raw.githubusercontent.com/taudata-indonesia/eLearning/master/data/ind_SA.csv\n",
        "    !wget -P data/ https://raw.githubusercontent.com/taudata-indonesia/eLearning/master/data/all_indo_man_tag_corpus_model.crf.tagger\n",
        "\n",
        "    !pip install --upgrade spacy python-crfsuite unidecode textblob sastrawi sklearn-pycrfsuite\n",
        "    !pip install --upgrade unidecode twython tweepy beautifulsoup4\n",
        "    !python -m spacy download xx_ent_wiki_sm\n",
        "    !python -m spacy download en_core_web_sm\n",
        "    nltk.download('popular')\n",
        "except:\n",
        "    IN_COLAB = False\n",
        "    print(\"Running the code locally, please make sure all the python module versions agree with colab environment and all data/assets downloaded\")"
      ],
      "metadata": {
        "id": "LSCyVG7fmwcJ",
        "colab": {
          "base_uri": "https://localhost:8080/"
        },
        "outputId": "59f4363a-d452-498b-9455-d38b50195a24"
      },
      "execution_count": null,
      "outputs": [
        {
          "output_type": "stream",
          "name": "stdout",
          "text": [
            "--2022-06-12 13:41:05--  https://raw.githubusercontent.com/taudata-indonesia/eLearning/master/taudataEDA02CTA.py\n",
            "Resolving raw.githubusercontent.com (raw.githubusercontent.com)... 185.199.109.133, 185.199.111.133, 185.199.110.133, ...\n",
            "Connecting to raw.githubusercontent.com (raw.githubusercontent.com)|185.199.109.133|:443... connected.\n",
            "HTTP request sent, awaiting response... 200 OK\n",
            "Length: 8834 (8.6K) [text/plain]\n",
            "Saving to: ‘taudataEDA02CTA.py’\n",
            "\n",
            "\rtaudataEDA02CTA.py    0%[                    ]       0  --.-KB/s               \rtaudataEDA02CTA.py  100%[===================>]   8.63K  --.-KB/s    in 0s      \n",
            "\n",
            "2022-06-12 13:41:05 (67.8 MB/s) - ‘taudataEDA02CTA.py’ saved [8834/8834]\n",
            "\n",
            "--2022-06-12 13:41:05--  https://raw.githubusercontent.com/taudata-indonesia/eLearning/master/data/slang.dic\n",
            "Resolving raw.githubusercontent.com (raw.githubusercontent.com)... 185.199.109.133, 185.199.108.133, 185.199.111.133, ...\n",
            "Connecting to raw.githubusercontent.com (raw.githubusercontent.com)|185.199.109.133|:443... connected.\n",
            "HTTP request sent, awaiting response... 200 OK\n",
            "Length: 41272 (40K) [text/plain]\n",
            "Saving to: ‘data/slang.dic’\n",
            "\n",
            "slang.dic           100%[===================>]  40.30K  --.-KB/s    in 0.001s  \n",
            "\n",
            "2022-06-12 13:41:05 (35.5 MB/s) - ‘data/slang.dic’ saved [41272/41272]\n",
            "\n",
            "--2022-06-12 13:41:05--  https://raw.githubusercontent.com/taudata-indonesia/eLearning/master/data/slang.txt\n",
            "Resolving raw.githubusercontent.com (raw.githubusercontent.com)... 185.199.108.133, 185.199.109.133, 185.199.110.133, ...\n",
            "Connecting to raw.githubusercontent.com (raw.githubusercontent.com)|185.199.108.133|:443... connected.\n",
            "HTTP request sent, awaiting response... 200 OK\n",
            "Length: 29041 (28K) [text/plain]\n",
            "Saving to: ‘data/slang.txt’\n",
            "\n",
            "slang.txt           100%[===================>]  28.36K  --.-KB/s    in 0s      \n",
            "\n",
            "2022-06-12 13:41:05 (106 MB/s) - ‘data/slang.txt’ saved [29041/29041]\n",
            "\n",
            "--2022-06-12 13:41:05--  https://raw.githubusercontent.com/taudata-indonesia/eLearning/master/data/stopwords_id.txt\n",
            "Resolving raw.githubusercontent.com (raw.githubusercontent.com)... 185.199.108.133, 185.199.109.133, 185.199.110.133, ...\n",
            "Connecting to raw.githubusercontent.com (raw.githubusercontent.com)|185.199.108.133|:443... connected.\n",
            "HTTP request sent, awaiting response... 200 OK\n",
            "Length: 6446 (6.3K) [text/plain]\n",
            "Saving to: ‘data/stopwords_id.txt’\n",
            "\n",
            "stopwords_id.txt    100%[===================>]   6.29K  --.-KB/s    in 0s      \n",
            "\n",
            "2022-06-12 13:41:05 (53.6 MB/s) - ‘data/stopwords_id.txt’ saved [6446/6446]\n",
            "\n",
            "--2022-06-12 13:41:05--  https://raw.githubusercontent.com/taudata-indonesia/eLearning/master/data/stopwords_en.txt\n",
            "Resolving raw.githubusercontent.com (raw.githubusercontent.com)... 185.199.108.133, 185.199.109.133, 185.199.110.133, ...\n",
            "Connecting to raw.githubusercontent.com (raw.githubusercontent.com)|185.199.108.133|:443... connected.\n",
            "HTTP request sent, awaiting response... 200 OK\n",
            "Length: 15140 (15K) [text/plain]\n",
            "Saving to: ‘data/stopwords_en.txt’\n",
            "\n",
            "stopwords_en.txt    100%[===================>]  14.79K  --.-KB/s    in 0s      \n",
            "\n",
            "2022-06-12 13:41:05 (96.6 MB/s) - ‘data/stopwords_en.txt’ saved [15140/15140]\n",
            "\n",
            "--2022-06-12 13:41:05--  https://raw.githubusercontent.com/taudata-indonesia/eLearning/master/data/kata_dasar.txt\n",
            "Resolving raw.githubusercontent.com (raw.githubusercontent.com)... 185.199.108.133, 185.199.109.133, 185.199.110.133, ...\n",
            "Connecting to raw.githubusercontent.com (raw.githubusercontent.com)|185.199.108.133|:443... connected.\n",
            "HTTP request sent, awaiting response... 200 OK\n",
            "Length: 348507 (340K) [text/plain]\n",
            "Saving to: ‘data/kata_dasar.txt’\n",
            "\n",
            "kata_dasar.txt      100%[===================>] 340.34K  --.-KB/s    in 0.006s  \n",
            "\n",
            "2022-06-12 13:41:05 (58.6 MB/s) - ‘data/kata_dasar.txt’ saved [348507/348507]\n",
            "\n",
            "--2022-06-12 13:41:06--  https://raw.githubusercontent.com/taudata-indonesia/eLearning/master/data/wn-ind-def.tab\n",
            "Resolving raw.githubusercontent.com (raw.githubusercontent.com)... 185.199.108.133, 185.199.109.133, 185.199.110.133, ...\n",
            "Connecting to raw.githubusercontent.com (raw.githubusercontent.com)|185.199.108.133|:443... connected.\n",
            "HTTP request sent, awaiting response... 200 OK\n",
            "Length: 868322 (848K) [text/plain]\n",
            "Saving to: ‘data/wn-ind-def.tab’\n",
            "\n",
            "wn-ind-def.tab      100%[===================>] 847.97K  --.-KB/s    in 0.008s  \n",
            "\n",
            "2022-06-12 13:41:06 (110 MB/s) - ‘data/wn-ind-def.tab’ saved [868322/868322]\n",
            "\n",
            "--2022-06-12 13:41:06--  https://raw.githubusercontent.com/taudata-indonesia/eLearning/master/data/wn-msa-all.tab\n",
            "Resolving raw.githubusercontent.com (raw.githubusercontent.com)... 185.199.108.133, 185.199.109.133, 185.199.110.133, ...\n",
            "Connecting to raw.githubusercontent.com (raw.githubusercontent.com)|185.199.108.133|:443... connected.\n",
            "HTTP request sent, awaiting response... 200 OK\n",
            "Length: 17003012 (16M) [text/plain]\n",
            "Saving to: ‘data/wn-msa-all.tab’\n",
            "\n",
            "wn-msa-all.tab      100%[===================>]  16.21M  --.-KB/s    in 0.08s   \n",
            "\n",
            "2022-06-12 13:41:06 (201 MB/s) - ‘data/wn-msa-all.tab’ saved [17003012/17003012]\n",
            "\n",
            "--2022-06-12 13:41:06--  https://raw.githubusercontent.com/taudata-indonesia/eLearning/master/data/ind_SA.csv\n",
            "Resolving raw.githubusercontent.com (raw.githubusercontent.com)... 185.199.109.133, 185.199.108.133, 185.199.111.133, ...\n",
            "Connecting to raw.githubusercontent.com (raw.githubusercontent.com)|185.199.109.133|:443... connected.\n",
            "HTTP request sent, awaiting response... 200 OK\n",
            "Length: 918025 (897K) [text/plain]\n",
            "Saving to: ‘data/ind_SA.csv’\n",
            "\n",
            "ind_SA.csv          100%[===================>] 896.51K  --.-KB/s    in 0.01s   \n",
            "\n",
            "2022-06-12 13:41:06 (92.1 MB/s) - ‘data/ind_SA.csv’ saved [918025/918025]\n",
            "\n",
            "--2022-06-12 13:41:06--  https://raw.githubusercontent.com/taudata-indonesia/eLearning/master/data/all_indo_man_tag_corpus_model.crf.tagger\n",
            "Resolving raw.githubusercontent.com (raw.githubusercontent.com)... 185.199.109.133, 185.199.108.133, 185.199.110.133, ...\n",
            "Connecting to raw.githubusercontent.com (raw.githubusercontent.com)|185.199.109.133|:443... connected.\n",
            "HTTP request sent, awaiting response... 200 OK\n",
            "Length: 1722780 (1.6M) [application/octet-stream]\n",
            "Saving to: ‘data/all_indo_man_tag_corpus_model.crf.tagger’\n",
            "\n",
            "all_indo_man_tag_co 100%[===================>]   1.64M  --.-KB/s    in 0.01s   \n",
            "\n",
            "2022-06-12 13:41:07 (112 MB/s) - ‘data/all_indo_man_tag_corpus_model.crf.tagger’ saved [1722780/1722780]\n",
            "\n",
            "Looking in indexes: https://pypi.org/simple, https://us-python.pkg.dev/colab-wheels/public/simple/\n",
            "Requirement already satisfied: spacy in /usr/local/lib/python3.7/dist-packages (2.2.4)\n",
            "Collecting spacy\n",
            "  Downloading spacy-3.3.1-cp37-cp37m-manylinux_2_17_x86_64.manylinux2014_x86_64.whl (6.2 MB)\n",
            "\u001b[K     |████████████████████████████████| 6.2 MB 22.1 MB/s \n",
            "\u001b[?25hCollecting python-crfsuite\n",
            "  Downloading python_crfsuite-0.9.8-cp37-cp37m-manylinux_2_17_x86_64.manylinux2014_x86_64.whl (965 kB)\n",
            "\u001b[K     |████████████████████████████████| 965 kB 37.8 MB/s \n",
            "\u001b[?25hCollecting unidecode\n",
            "  Downloading Unidecode-1.3.4-py3-none-any.whl (235 kB)\n",
            "\u001b[K     |████████████████████████████████| 235 kB 57.1 MB/s \n",
            "\u001b[?25hRequirement already satisfied: textblob in /usr/local/lib/python3.7/dist-packages (0.15.3)\n",
            "Collecting textblob\n",
            "  Downloading textblob-0.17.1-py2.py3-none-any.whl (636 kB)\n",
            "\u001b[K     |████████████████████████████████| 636 kB 70.1 MB/s \n",
            "\u001b[?25hCollecting sastrawi\n",
            "  Downloading Sastrawi-1.0.1-py2.py3-none-any.whl (209 kB)\n",
            "\u001b[K     |████████████████████████████████| 209 kB 69.6 MB/s \n",
            "\u001b[?25hCollecting sklearn-pycrfsuite\n",
            "  Downloading sklearn-pycrfsuite-0.4.0.tar.gz (24 kB)\n",
            "Collecting pydantic!=1.8,!=1.8.1,<1.9.0,>=1.7.4\n",
            "  Downloading pydantic-1.8.2-cp37-cp37m-manylinux2014_x86_64.whl (10.1 MB)\n",
            "\u001b[K     |████████████████████████████████| 10.1 MB 58.7 MB/s \n",
            "\u001b[?25hRequirement already satisfied: cymem<2.1.0,>=2.0.2 in /usr/local/lib/python3.7/dist-packages (from spacy) (2.0.6)\n",
            "Collecting thinc<8.1.0,>=8.0.14\n",
            "  Downloading thinc-8.0.17-cp37-cp37m-manylinux_2_17_x86_64.manylinux2014_x86_64.whl (660 kB)\n",
            "\u001b[K     |████████████████████████████████| 660 kB 41.0 MB/s \n",
            "\u001b[?25hCollecting spacy-legacy<3.1.0,>=3.0.9\n",
            "  Downloading spacy_legacy-3.0.9-py2.py3-none-any.whl (20 kB)\n",
            "Requirement already satisfied: wasabi<1.1.0,>=0.9.1 in /usr/local/lib/python3.7/dist-packages (from spacy) (0.9.1)\n",
            "Collecting typing-extensions<4.2.0,>=3.7.4\n",
            "  Downloading typing_extensions-4.1.1-py3-none-any.whl (26 kB)\n",
            "Collecting srsly<3.0.0,>=2.4.3\n",
            "  Downloading srsly-2.4.3-cp37-cp37m-manylinux_2_17_x86_64.manylinux2014_x86_64.whl (457 kB)\n",
            "\u001b[K     |████████████████████████████████| 457 kB 36.8 MB/s \n",
            "\u001b[?25hRequirement already satisfied: blis<0.8.0,>=0.4.0 in /usr/local/lib/python3.7/dist-packages (from spacy) (0.4.1)\n",
            "Requirement already satisfied: requests<3.0.0,>=2.13.0 in /usr/local/lib/python3.7/dist-packages (from spacy) (2.23.0)\n",
            "Requirement already satisfied: setuptools in /usr/local/lib/python3.7/dist-packages (from spacy) (57.4.0)\n",
            "Collecting catalogue<2.1.0,>=2.0.6\n",
            "  Downloading catalogue-2.0.7-py3-none-any.whl (17 kB)\n",
            "Requirement already satisfied: murmurhash<1.1.0,>=0.28.0 in /usr/local/lib/python3.7/dist-packages (from spacy) (1.0.7)\n",
            "Requirement already satisfied: tqdm<5.0.0,>=4.38.0 in /usr/local/lib/python3.7/dist-packages (from spacy) (4.64.0)\n",
            "Requirement already satisfied: packaging>=20.0 in /usr/local/lib/python3.7/dist-packages (from spacy) (21.3)\n",
            "Collecting typer<0.5.0,>=0.3.0\n",
            "  Downloading typer-0.4.1-py3-none-any.whl (27 kB)\n",
            "Collecting spacy-loggers<2.0.0,>=1.0.0\n",
            "  Downloading spacy_loggers-1.0.2-py3-none-any.whl (7.2 kB)\n",
            "Collecting pathy>=0.3.5\n",
            "  Downloading pathy-0.6.1-py3-none-any.whl (42 kB)\n",
            "\u001b[K     |████████████████████████████████| 42 kB 1.4 MB/s \n",
            "\u001b[?25hRequirement already satisfied: jinja2 in /usr/local/lib/python3.7/dist-packages (from spacy) (2.11.3)\n",
            "Requirement already satisfied: preshed<3.1.0,>=3.0.2 in /usr/local/lib/python3.7/dist-packages (from spacy) (3.0.6)\n",
            "Requirement already satisfied: numpy>=1.15.0 in /usr/local/lib/python3.7/dist-packages (from spacy) (1.21.6)\n",
            "Collecting langcodes<4.0.0,>=3.2.0\n",
            "  Downloading langcodes-3.3.0-py3-none-any.whl (181 kB)\n",
            "\u001b[K     |████████████████████████████████| 181 kB 53.1 MB/s \n",
            "\u001b[?25hRequirement already satisfied: zipp>=0.5 in /usr/local/lib/python3.7/dist-packages (from catalogue<2.1.0,>=2.0.6->spacy) (3.8.0)\n",
            "Requirement already satisfied: pyparsing!=3.0.5,>=2.0.2 in /usr/local/lib/python3.7/dist-packages (from packaging>=20.0->spacy) (3.0.9)\n",
            "Collecting smart-open<6.0.0,>=5.0.0\n",
            "  Downloading smart_open-5.2.1-py3-none-any.whl (58 kB)\n",
            "\u001b[K     |████████████████████████████████| 58 kB 5.6 MB/s \n",
            "\u001b[?25hRequirement already satisfied: certifi>=2017.4.17 in /usr/local/lib/python3.7/dist-packages (from requests<3.0.0,>=2.13.0->spacy) (2022.5.18.1)\n",
            "Requirement already satisfied: chardet<4,>=3.0.2 in /usr/local/lib/python3.7/dist-packages (from requests<3.0.0,>=2.13.0->spacy) (3.0.4)\n",
            "Requirement already satisfied: urllib3!=1.25.0,!=1.25.1,<1.26,>=1.21.1 in /usr/local/lib/python3.7/dist-packages (from requests<3.0.0,>=2.13.0->spacy) (1.24.3)\n",
            "Requirement already satisfied: idna<3,>=2.5 in /usr/local/lib/python3.7/dist-packages (from requests<3.0.0,>=2.13.0->spacy) (2.10)\n",
            "Requirement already satisfied: click<9.0.0,>=7.1.1 in /usr/local/lib/python3.7/dist-packages (from typer<0.5.0,>=0.3.0->spacy) (7.1.2)\n",
            "Requirement already satisfied: nltk>=3.1 in /usr/local/lib/python3.7/dist-packages (from textblob) (3.2.5)\n",
            "Requirement already satisfied: six in /usr/local/lib/python3.7/dist-packages (from nltk>=3.1->textblob) (1.15.0)\n",
            "Requirement already satisfied: tabulate in /usr/local/lib/python3.7/dist-packages (from sklearn-pycrfsuite) (0.8.9)\n",
            "Collecting python-crfsuite-extension\n",
            "  Downloading python-crfsuite-extension-0.9.7.tar.gz (485 kB)\n",
            "\u001b[K     |████████████████████████████████| 485 kB 45.6 MB/s \n",
            "\u001b[?25hRequirement already satisfied: MarkupSafe>=0.23 in /usr/local/lib/python3.7/dist-packages (from jinja2->spacy) (2.0.1)\n",
            "Building wheels for collected packages: sklearn-pycrfsuite, python-crfsuite-extension\n",
            "  Building wheel for sklearn-pycrfsuite (setup.py) ... \u001b[?25l\u001b[?25hdone\n",
            "  Created wheel for sklearn-pycrfsuite: filename=sklearn_pycrfsuite-0.4.0-py2.py3-none-any.whl size=11002 sha256=f81619874530c34b213cb7870bf58b5fdfde5032827283f681259b8e5eada97b\n",
            "  Stored in directory: /root/.cache/pip/wheels/44/50/b1/295e502c6652f551dc99bfdb394a3fe2fcb47668e333391f38\n",
            "  Building wheel for python-crfsuite-extension (setup.py) ... \u001b[?25l\u001b[?25hdone\n",
            "  Created wheel for python-crfsuite-extension: filename=python_crfsuite_extension-0.9.7-cp37-cp37m-linux_x86_64.whl size=775859 sha256=1fd77d078661e63772a68f1ba56f1e037e2e03af1dd6f8e5df9902c51ae2f5ef\n",
            "  Stored in directory: /root/.cache/pip/wheels/70/d7/bf/369f4d179407dbf3840132e4135fa61f0bf711f4496d0bf750\n",
            "Successfully built sklearn-pycrfsuite python-crfsuite-extension\n",
            "Installing collected packages: typing-extensions, catalogue, typer, srsly, smart-open, pydantic, thinc, spacy-loggers, spacy-legacy, python-crfsuite-extension, pathy, langcodes, unidecode, textblob, spacy, sklearn-pycrfsuite, sastrawi, python-crfsuite\n",
            "  Attempting uninstall: typing-extensions\n",
            "    Found existing installation: typing-extensions 4.2.0\n",
            "    Uninstalling typing-extensions-4.2.0:\n",
            "      Successfully uninstalled typing-extensions-4.2.0\n",
            "  Attempting uninstall: catalogue\n",
            "    Found existing installation: catalogue 1.0.0\n",
            "    Uninstalling catalogue-1.0.0:\n",
            "      Successfully uninstalled catalogue-1.0.0\n",
            "  Attempting uninstall: srsly\n",
            "    Found existing installation: srsly 1.0.5\n",
            "    Uninstalling srsly-1.0.5:\n",
            "      Successfully uninstalled srsly-1.0.5\n",
            "  Attempting uninstall: smart-open\n",
            "    Found existing installation: smart-open 6.0.0\n",
            "    Uninstalling smart-open-6.0.0:\n",
            "      Successfully uninstalled smart-open-6.0.0\n",
            "  Attempting uninstall: thinc\n",
            "    Found existing installation: thinc 7.4.0\n",
            "    Uninstalling thinc-7.4.0:\n",
            "      Successfully uninstalled thinc-7.4.0\n",
            "  Attempting uninstall: textblob\n",
            "    Found existing installation: textblob 0.15.3\n",
            "    Uninstalling textblob-0.15.3:\n",
            "      Successfully uninstalled textblob-0.15.3\n",
            "  Attempting uninstall: spacy\n",
            "    Found existing installation: spacy 2.2.4\n",
            "    Uninstalling spacy-2.2.4:\n",
            "      Successfully uninstalled spacy-2.2.4\n",
            "Successfully installed catalogue-2.0.7 langcodes-3.3.0 pathy-0.6.1 pydantic-1.8.2 python-crfsuite-0.9.8 python-crfsuite-extension-0.9.7 sastrawi-1.0.1 sklearn-pycrfsuite-0.4.0 smart-open-5.2.1 spacy-3.3.1 spacy-legacy-3.0.9 spacy-loggers-1.0.2 srsly-2.4.3 textblob-0.17.1 thinc-8.0.17 typer-0.4.1 typing-extensions-4.1.1 unidecode-1.3.4\n",
            "Looking in indexes: https://pypi.org/simple, https://us-python.pkg.dev/colab-wheels/public/simple/\n",
            "Requirement already satisfied: unidecode in /usr/local/lib/python3.7/dist-packages (1.3.4)\n",
            "Collecting twython\n",
            "  Downloading twython-3.9.1-py3-none-any.whl (33 kB)\n",
            "Requirement already satisfied: tweepy in /usr/local/lib/python3.7/dist-packages (3.10.0)\n",
            "Collecting tweepy\n",
            "  Downloading tweepy-4.10.0-py3-none-any.whl (94 kB)\n",
            "\u001b[K     |████████████████████████████████| 94 kB 2.6 MB/s \n",
            "\u001b[?25hRequirement already satisfied: beautifulsoup4 in /usr/local/lib/python3.7/dist-packages (4.6.3)\n",
            "Collecting beautifulsoup4\n",
            "  Downloading beautifulsoup4-4.11.1-py3-none-any.whl (128 kB)\n",
            "\u001b[K     |████████████████████████████████| 128 kB 53.2 MB/s \n",
            "\u001b[?25hRequirement already satisfied: requests-oauthlib>=0.4.0 in /usr/local/lib/python3.7/dist-packages (from twython) (1.3.1)\n",
            "Requirement already satisfied: requests>=2.1.0 in /usr/local/lib/python3.7/dist-packages (from twython) (2.23.0)\n",
            "Requirement already satisfied: idna<3,>=2.5 in /usr/local/lib/python3.7/dist-packages (from requests>=2.1.0->twython) (2.10)\n",
            "Requirement already satisfied: certifi>=2017.4.17 in /usr/local/lib/python3.7/dist-packages (from requests>=2.1.0->twython) (2022.5.18.1)\n",
            "Requirement already satisfied: chardet<4,>=3.0.2 in /usr/local/lib/python3.7/dist-packages (from requests>=2.1.0->twython) (3.0.4)\n",
            "Requirement already satisfied: urllib3!=1.25.0,!=1.25.1,<1.26,>=1.21.1 in /usr/local/lib/python3.7/dist-packages (from requests>=2.1.0->twython) (1.24.3)\n",
            "Requirement already satisfied: oauthlib>=3.0.0 in /usr/local/lib/python3.7/dist-packages (from requests-oauthlib>=0.4.0->twython) (3.2.0)\n",
            "Collecting requests>=2.1.0\n",
            "  Downloading requests-2.28.0-py3-none-any.whl (62 kB)\n",
            "\u001b[K     |████████████████████████████████| 62 kB 1.5 MB/s \n",
            "\u001b[?25hRequirement already satisfied: charset-normalizer~=2.0.0 in /usr/local/lib/python3.7/dist-packages (from requests>=2.1.0->twython) (2.0.12)\n",
            "Requirement already satisfied: soupsieve>1.2 in /usr/local/lib/python3.7/dist-packages (from beautifulsoup4) (2.3.2.post1)\n",
            "Installing collected packages: requests, twython, tweepy, beautifulsoup4\n",
            "  Attempting uninstall: requests\n",
            "    Found existing installation: requests 2.23.0\n",
            "    Uninstalling requests-2.23.0:\n",
            "      Successfully uninstalled requests-2.23.0\n",
            "  Attempting uninstall: tweepy\n",
            "    Found existing installation: tweepy 3.10.0\n",
            "    Uninstalling tweepy-3.10.0:\n",
            "      Successfully uninstalled tweepy-3.10.0\n",
            "  Attempting uninstall: beautifulsoup4\n",
            "    Found existing installation: beautifulsoup4 4.6.3\n",
            "    Uninstalling beautifulsoup4-4.6.3:\n",
            "      Successfully uninstalled beautifulsoup4-4.6.3\n",
            "\u001b[31mERROR: pip's dependency resolver does not currently take into account all the packages that are installed. This behaviour is the source of the following dependency conflicts.\n",
            "google-colab 1.0.0 requires requests~=2.23.0, but you have requests 2.28.0 which is incompatible.\n",
            "datascience 0.10.6 requires folium==0.2.1, but you have folium 0.8.3 which is incompatible.\u001b[0m\n",
            "Successfully installed beautifulsoup4-4.11.1 requests-2.28.0 tweepy-4.10.0 twython-3.9.1\n"
          ]
        },
        {
          "output_type": "display_data",
          "data": {
            "application/vnd.colab-display-data+json": {
              "pip_warning": {
                "packages": [
                  "requests"
                ]
              }
            }
          },
          "metadata": {}
        },
        {
          "output_type": "stream",
          "name": "stdout",
          "text": [
            "Looking in indexes: https://pypi.org/simple, https://us-python.pkg.dev/colab-wheels/public/simple/\n",
            "Collecting xx-ent-wiki-sm==3.3.0\n",
            "  Downloading https://github.com/explosion/spacy-models/releases/download/xx_ent_wiki_sm-3.3.0/xx_ent_wiki_sm-3.3.0-py3-none-any.whl (11.2 MB)\n",
            "\u001b[K     |████████████████████████████████| 11.2 MB 21.9 MB/s \n",
            "\u001b[?25hRequirement already satisfied: spacy<3.4.0,>=3.3.0.dev0 in /usr/local/lib/python3.7/dist-packages (from xx-ent-wiki-sm==3.3.0) (3.3.1)\n",
            "Requirement already satisfied: requests<3.0.0,>=2.13.0 in /usr/local/lib/python3.7/dist-packages (from spacy<3.4.0,>=3.3.0.dev0->xx-ent-wiki-sm==3.3.0) (2.28.0)\n",
            "Requirement already satisfied: preshed<3.1.0,>=3.0.2 in /usr/local/lib/python3.7/dist-packages (from spacy<3.4.0,>=3.3.0.dev0->xx-ent-wiki-sm==3.3.0) (3.0.6)\n",
            "Requirement already satisfied: spacy-loggers<2.0.0,>=1.0.0 in /usr/local/lib/python3.7/dist-packages (from spacy<3.4.0,>=3.3.0.dev0->xx-ent-wiki-sm==3.3.0) (1.0.2)\n",
            "Requirement already satisfied: blis<0.8.0,>=0.4.0 in /usr/local/lib/python3.7/dist-packages (from spacy<3.4.0,>=3.3.0.dev0->xx-ent-wiki-sm==3.3.0) (0.4.1)\n",
            "Requirement already satisfied: pydantic!=1.8,!=1.8.1,<1.9.0,>=1.7.4 in /usr/local/lib/python3.7/dist-packages (from spacy<3.4.0,>=3.3.0.dev0->xx-ent-wiki-sm==3.3.0) (1.8.2)\n",
            "Requirement already satisfied: jinja2 in /usr/local/lib/python3.7/dist-packages (from spacy<3.4.0,>=3.3.0.dev0->xx-ent-wiki-sm==3.3.0) (2.11.3)\n",
            "Requirement already satisfied: murmurhash<1.1.0,>=0.28.0 in /usr/local/lib/python3.7/dist-packages (from spacy<3.4.0,>=3.3.0.dev0->xx-ent-wiki-sm==3.3.0) (1.0.7)\n",
            "Requirement already satisfied: cymem<2.1.0,>=2.0.2 in /usr/local/lib/python3.7/dist-packages (from spacy<3.4.0,>=3.3.0.dev0->xx-ent-wiki-sm==3.3.0) (2.0.6)\n",
            "Requirement already satisfied: spacy-legacy<3.1.0,>=3.0.9 in /usr/local/lib/python3.7/dist-packages (from spacy<3.4.0,>=3.3.0.dev0->xx-ent-wiki-sm==3.3.0) (3.0.9)\n",
            "Requirement already satisfied: pathy>=0.3.5 in /usr/local/lib/python3.7/dist-packages (from spacy<3.4.0,>=3.3.0.dev0->xx-ent-wiki-sm==3.3.0) (0.6.1)\n",
            "Requirement already satisfied: packaging>=20.0 in /usr/local/lib/python3.7/dist-packages (from spacy<3.4.0,>=3.3.0.dev0->xx-ent-wiki-sm==3.3.0) (21.3)\n",
            "Requirement already satisfied: wasabi<1.1.0,>=0.9.1 in /usr/local/lib/python3.7/dist-packages (from spacy<3.4.0,>=3.3.0.dev0->xx-ent-wiki-sm==3.3.0) (0.9.1)\n",
            "Requirement already satisfied: typing-extensions<4.2.0,>=3.7.4 in /usr/local/lib/python3.7/dist-packages (from spacy<3.4.0,>=3.3.0.dev0->xx-ent-wiki-sm==3.3.0) (4.1.1)\n",
            "Requirement already satisfied: typer<0.5.0,>=0.3.0 in /usr/local/lib/python3.7/dist-packages (from spacy<3.4.0,>=3.3.0.dev0->xx-ent-wiki-sm==3.3.0) (0.4.1)\n",
            "Requirement already satisfied: tqdm<5.0.0,>=4.38.0 in /usr/local/lib/python3.7/dist-packages (from spacy<3.4.0,>=3.3.0.dev0->xx-ent-wiki-sm==3.3.0) (4.64.0)\n",
            "Requirement already satisfied: catalogue<2.1.0,>=2.0.6 in /usr/local/lib/python3.7/dist-packages (from spacy<3.4.0,>=3.3.0.dev0->xx-ent-wiki-sm==3.3.0) (2.0.7)\n",
            "Requirement already satisfied: setuptools in /usr/local/lib/python3.7/dist-packages (from spacy<3.4.0,>=3.3.0.dev0->xx-ent-wiki-sm==3.3.0) (57.4.0)\n",
            "Requirement already satisfied: langcodes<4.0.0,>=3.2.0 in /usr/local/lib/python3.7/dist-packages (from spacy<3.4.0,>=3.3.0.dev0->xx-ent-wiki-sm==3.3.0) (3.3.0)\n",
            "Requirement already satisfied: thinc<8.1.0,>=8.0.14 in /usr/local/lib/python3.7/dist-packages (from spacy<3.4.0,>=3.3.0.dev0->xx-ent-wiki-sm==3.3.0) (8.0.17)\n",
            "Requirement already satisfied: srsly<3.0.0,>=2.4.3 in /usr/local/lib/python3.7/dist-packages (from spacy<3.4.0,>=3.3.0.dev0->xx-ent-wiki-sm==3.3.0) (2.4.3)\n",
            "Requirement already satisfied: numpy>=1.15.0 in /usr/local/lib/python3.7/dist-packages (from spacy<3.4.0,>=3.3.0.dev0->xx-ent-wiki-sm==3.3.0) (1.21.6)\n",
            "Requirement already satisfied: zipp>=0.5 in /usr/local/lib/python3.7/dist-packages (from catalogue<2.1.0,>=2.0.6->spacy<3.4.0,>=3.3.0.dev0->xx-ent-wiki-sm==3.3.0) (3.8.0)\n",
            "Requirement already satisfied: pyparsing!=3.0.5,>=2.0.2 in /usr/local/lib/python3.7/dist-packages (from packaging>=20.0->spacy<3.4.0,>=3.3.0.dev0->xx-ent-wiki-sm==3.3.0) (3.0.9)\n",
            "Requirement already satisfied: smart-open<6.0.0,>=5.0.0 in /usr/local/lib/python3.7/dist-packages (from pathy>=0.3.5->spacy<3.4.0,>=3.3.0.dev0->xx-ent-wiki-sm==3.3.0) (5.2.1)\n",
            "Requirement already satisfied: idna<4,>=2.5 in /usr/local/lib/python3.7/dist-packages (from requests<3.0.0,>=2.13.0->spacy<3.4.0,>=3.3.0.dev0->xx-ent-wiki-sm==3.3.0) (2.10)\n",
            "Requirement already satisfied: charset-normalizer~=2.0.0 in /usr/local/lib/python3.7/dist-packages (from requests<3.0.0,>=2.13.0->spacy<3.4.0,>=3.3.0.dev0->xx-ent-wiki-sm==3.3.0) (2.0.12)\n",
            "Requirement already satisfied: certifi>=2017.4.17 in /usr/local/lib/python3.7/dist-packages (from requests<3.0.0,>=2.13.0->spacy<3.4.0,>=3.3.0.dev0->xx-ent-wiki-sm==3.3.0) (2022.5.18.1)\n",
            "Requirement already satisfied: urllib3<1.27,>=1.21.1 in /usr/local/lib/python3.7/dist-packages (from requests<3.0.0,>=2.13.0->spacy<3.4.0,>=3.3.0.dev0->xx-ent-wiki-sm==3.3.0) (1.24.3)\n",
            "Requirement already satisfied: click<9.0.0,>=7.1.1 in /usr/local/lib/python3.7/dist-packages (from typer<0.5.0,>=0.3.0->spacy<3.4.0,>=3.3.0.dev0->xx-ent-wiki-sm==3.3.0) (7.1.2)\n",
            "Requirement already satisfied: MarkupSafe>=0.23 in /usr/local/lib/python3.7/dist-packages (from jinja2->spacy<3.4.0,>=3.3.0.dev0->xx-ent-wiki-sm==3.3.0) (2.0.1)\n",
            "Installing collected packages: xx-ent-wiki-sm\n",
            "Successfully installed xx-ent-wiki-sm-3.3.0\n",
            "\u001b[38;5;2m✔ Download and installation successful\u001b[0m\n",
            "You can now load the package via spacy.load('xx_ent_wiki_sm')\n",
            "Looking in indexes: https://pypi.org/simple, https://us-python.pkg.dev/colab-wheels/public/simple/\n",
            "Collecting en-core-web-sm==3.3.0\n",
            "  Downloading https://github.com/explosion/spacy-models/releases/download/en_core_web_sm-3.3.0/en_core_web_sm-3.3.0-py3-none-any.whl (12.8 MB)\n",
            "\u001b[K     |████████████████████████████████| 12.8 MB 24.7 MB/s \n",
            "\u001b[?25hRequirement already satisfied: spacy<3.4.0,>=3.3.0.dev0 in /usr/local/lib/python3.7/dist-packages (from en-core-web-sm==3.3.0) (3.3.1)\n",
            "Requirement already satisfied: typer<0.5.0,>=0.3.0 in /usr/local/lib/python3.7/dist-packages (from spacy<3.4.0,>=3.3.0.dev0->en-core-web-sm==3.3.0) (0.4.1)\n",
            "Requirement already satisfied: setuptools in /usr/local/lib/python3.7/dist-packages (from spacy<3.4.0,>=3.3.0.dev0->en-core-web-sm==3.3.0) (57.4.0)\n",
            "Requirement already satisfied: srsly<3.0.0,>=2.4.3 in /usr/local/lib/python3.7/dist-packages (from spacy<3.4.0,>=3.3.0.dev0->en-core-web-sm==3.3.0) (2.4.3)\n",
            "Requirement already satisfied: spacy-loggers<2.0.0,>=1.0.0 in /usr/local/lib/python3.7/dist-packages (from spacy<3.4.0,>=3.3.0.dev0->en-core-web-sm==3.3.0) (1.0.2)\n",
            "Requirement already satisfied: pydantic!=1.8,!=1.8.1,<1.9.0,>=1.7.4 in /usr/local/lib/python3.7/dist-packages (from spacy<3.4.0,>=3.3.0.dev0->en-core-web-sm==3.3.0) (1.8.2)\n",
            "Requirement already satisfied: cymem<2.1.0,>=2.0.2 in /usr/local/lib/python3.7/dist-packages (from spacy<3.4.0,>=3.3.0.dev0->en-core-web-sm==3.3.0) (2.0.6)\n",
            "Requirement already satisfied: numpy>=1.15.0 in /usr/local/lib/python3.7/dist-packages (from spacy<3.4.0,>=3.3.0.dev0->en-core-web-sm==3.3.0) (1.21.6)\n",
            "Requirement already satisfied: typing-extensions<4.2.0,>=3.7.4 in /usr/local/lib/python3.7/dist-packages (from spacy<3.4.0,>=3.3.0.dev0->en-core-web-sm==3.3.0) (4.1.1)\n",
            "Requirement already satisfied: preshed<3.1.0,>=3.0.2 in /usr/local/lib/python3.7/dist-packages (from spacy<3.4.0,>=3.3.0.dev0->en-core-web-sm==3.3.0) (3.0.6)\n",
            "Requirement already satisfied: jinja2 in /usr/local/lib/python3.7/dist-packages (from spacy<3.4.0,>=3.3.0.dev0->en-core-web-sm==3.3.0) (2.11.3)\n",
            "Requirement already satisfied: catalogue<2.1.0,>=2.0.6 in /usr/local/lib/python3.7/dist-packages (from spacy<3.4.0,>=3.3.0.dev0->en-core-web-sm==3.3.0) (2.0.7)\n",
            "Requirement already satisfied: requests<3.0.0,>=2.13.0 in /usr/local/lib/python3.7/dist-packages (from spacy<3.4.0,>=3.3.0.dev0->en-core-web-sm==3.3.0) (2.28.0)\n",
            "Requirement already satisfied: wasabi<1.1.0,>=0.9.1 in /usr/local/lib/python3.7/dist-packages (from spacy<3.4.0,>=3.3.0.dev0->en-core-web-sm==3.3.0) (0.9.1)\n",
            "Requirement already satisfied: thinc<8.1.0,>=8.0.14 in /usr/local/lib/python3.7/dist-packages (from spacy<3.4.0,>=3.3.0.dev0->en-core-web-sm==3.3.0) (8.0.17)\n",
            "Requirement already satisfied: spacy-legacy<3.1.0,>=3.0.9 in /usr/local/lib/python3.7/dist-packages (from spacy<3.4.0,>=3.3.0.dev0->en-core-web-sm==3.3.0) (3.0.9)\n",
            "Requirement already satisfied: murmurhash<1.1.0,>=0.28.0 in /usr/local/lib/python3.7/dist-packages (from spacy<3.4.0,>=3.3.0.dev0->en-core-web-sm==3.3.0) (1.0.7)\n",
            "Requirement already satisfied: pathy>=0.3.5 in /usr/local/lib/python3.7/dist-packages (from spacy<3.4.0,>=3.3.0.dev0->en-core-web-sm==3.3.0) (0.6.1)\n",
            "Requirement already satisfied: blis<0.8.0,>=0.4.0 in /usr/local/lib/python3.7/dist-packages (from spacy<3.4.0,>=3.3.0.dev0->en-core-web-sm==3.3.0) (0.4.1)\n",
            "Requirement already satisfied: langcodes<4.0.0,>=3.2.0 in /usr/local/lib/python3.7/dist-packages (from spacy<3.4.0,>=3.3.0.dev0->en-core-web-sm==3.3.0) (3.3.0)\n",
            "Requirement already satisfied: tqdm<5.0.0,>=4.38.0 in /usr/local/lib/python3.7/dist-packages (from spacy<3.4.0,>=3.3.0.dev0->en-core-web-sm==3.3.0) (4.64.0)\n",
            "Requirement already satisfied: packaging>=20.0 in /usr/local/lib/python3.7/dist-packages (from spacy<3.4.0,>=3.3.0.dev0->en-core-web-sm==3.3.0) (21.3)\n",
            "Requirement already satisfied: zipp>=0.5 in /usr/local/lib/python3.7/dist-packages (from catalogue<2.1.0,>=2.0.6->spacy<3.4.0,>=3.3.0.dev0->en-core-web-sm==3.3.0) (3.8.0)\n",
            "Requirement already satisfied: pyparsing!=3.0.5,>=2.0.2 in /usr/local/lib/python3.7/dist-packages (from packaging>=20.0->spacy<3.4.0,>=3.3.0.dev0->en-core-web-sm==3.3.0) (3.0.9)\n",
            "Requirement already satisfied: smart-open<6.0.0,>=5.0.0 in /usr/local/lib/python3.7/dist-packages (from pathy>=0.3.5->spacy<3.4.0,>=3.3.0.dev0->en-core-web-sm==3.3.0) (5.2.1)\n",
            "Requirement already satisfied: certifi>=2017.4.17 in /usr/local/lib/python3.7/dist-packages (from requests<3.0.0,>=2.13.0->spacy<3.4.0,>=3.3.0.dev0->en-core-web-sm==3.3.0) (2022.5.18.1)\n",
            "Requirement already satisfied: idna<4,>=2.5 in /usr/local/lib/python3.7/dist-packages (from requests<3.0.0,>=2.13.0->spacy<3.4.0,>=3.3.0.dev0->en-core-web-sm==3.3.0) (2.10)\n",
            "Requirement already satisfied: urllib3<1.27,>=1.21.1 in /usr/local/lib/python3.7/dist-packages (from requests<3.0.0,>=2.13.0->spacy<3.4.0,>=3.3.0.dev0->en-core-web-sm==3.3.0) (1.24.3)\n",
            "Requirement already satisfied: charset-normalizer~=2.0.0 in /usr/local/lib/python3.7/dist-packages (from requests<3.0.0,>=2.13.0->spacy<3.4.0,>=3.3.0.dev0->en-core-web-sm==3.3.0) (2.0.12)\n",
            "Requirement already satisfied: click<9.0.0,>=7.1.1 in /usr/local/lib/python3.7/dist-packages (from typer<0.5.0,>=0.3.0->spacy<3.4.0,>=3.3.0.dev0->en-core-web-sm==3.3.0) (7.1.2)\n",
            "Requirement already satisfied: MarkupSafe>=0.23 in /usr/local/lib/python3.7/dist-packages (from jinja2->spacy<3.4.0,>=3.3.0.dev0->en-core-web-sm==3.3.0) (2.0.1)\n",
            "Installing collected packages: en-core-web-sm\n",
            "  Attempting uninstall: en-core-web-sm\n",
            "    Found existing installation: en-core-web-sm 2.2.5\n",
            "    Uninstalling en-core-web-sm-2.2.5:\n",
            "      Successfully uninstalled en-core-web-sm-2.2.5\n",
            "Successfully installed en-core-web-sm-3.3.0\n",
            "\u001b[38;5;2m✔ Download and installation successful\u001b[0m\n",
            "You can now load the package via spacy.load('en_core_web_sm')\n",
            "[nltk_data] Downloading collection 'popular'\n",
            "[nltk_data]    | \n",
            "[nltk_data]    | Downloading package cmudict to /root/nltk_data...\n",
            "[nltk_data]    |   Unzipping corpora/cmudict.zip.\n",
            "[nltk_data]    | Downloading package gazetteers to /root/nltk_data...\n",
            "[nltk_data]    |   Unzipping corpora/gazetteers.zip.\n",
            "[nltk_data]    | Downloading package genesis to /root/nltk_data...\n",
            "[nltk_data]    |   Unzipping corpora/genesis.zip.\n",
            "[nltk_data]    | Downloading package gutenberg to /root/nltk_data...\n",
            "[nltk_data]    |   Unzipping corpora/gutenberg.zip.\n",
            "[nltk_data]    | Downloading package inaugural to /root/nltk_data...\n",
            "[nltk_data]    |   Unzipping corpora/inaugural.zip.\n",
            "[nltk_data]    | Downloading package movie_reviews to\n",
            "[nltk_data]    |     /root/nltk_data...\n",
            "[nltk_data]    |   Unzipping corpora/movie_reviews.zip.\n",
            "[nltk_data]    | Downloading package names to /root/nltk_data...\n",
            "[nltk_data]    |   Unzipping corpora/names.zip.\n",
            "[nltk_data]    | Downloading package shakespeare to /root/nltk_data...\n",
            "[nltk_data]    |   Unzipping corpora/shakespeare.zip.\n",
            "[nltk_data]    | Downloading package stopwords to /root/nltk_data...\n",
            "[nltk_data]    |   Unzipping corpora/stopwords.zip.\n",
            "[nltk_data]    | Downloading package treebank to /root/nltk_data...\n",
            "[nltk_data]    |   Unzipping corpora/treebank.zip.\n",
            "[nltk_data]    | Downloading package twitter_samples to\n",
            "[nltk_data]    |     /root/nltk_data...\n",
            "[nltk_data]    |   Unzipping corpora/twitter_samples.zip.\n",
            "[nltk_data]    | Downloading package omw to /root/nltk_data...\n",
            "[nltk_data]    |   Unzipping corpora/omw.zip.\n",
            "[nltk_data]    | Downloading package omw-1.4 to /root/nltk_data...\n",
            "[nltk_data]    |   Unzipping corpora/omw-1.4.zip.\n",
            "[nltk_data]    | Downloading package wordnet to /root/nltk_data...\n",
            "[nltk_data]    |   Unzipping corpora/wordnet.zip.\n",
            "[nltk_data]    | Downloading package wordnet2021 to /root/nltk_data...\n",
            "[nltk_data]    |   Unzipping corpora/wordnet2021.zip.\n",
            "[nltk_data]    | Downloading package wordnet31 to /root/nltk_data...\n",
            "[nltk_data]    |   Unzipping corpora/wordnet31.zip.\n",
            "[nltk_data]    | Downloading package wordnet_ic to /root/nltk_data...\n",
            "[nltk_data]    |   Unzipping corpora/wordnet_ic.zip.\n",
            "[nltk_data]    | Downloading package words to /root/nltk_data...\n",
            "[nltk_data]    |   Unzipping corpora/words.zip.\n",
            "[nltk_data]    | Downloading package maxent_ne_chunker to\n",
            "[nltk_data]    |     /root/nltk_data...\n",
            "[nltk_data]    |   Unzipping chunkers/maxent_ne_chunker.zip.\n",
            "[nltk_data]    | Downloading package punkt to /root/nltk_data...\n",
            "[nltk_data]    |   Unzipping tokenizers/punkt.zip.\n",
            "[nltk_data]    | Downloading package snowball_data to\n",
            "[nltk_data]    |     /root/nltk_data...\n",
            "[nltk_data]    | Downloading package averaged_perceptron_tagger to\n",
            "[nltk_data]    |     /root/nltk_data...\n",
            "[nltk_data]    |   Unzipping taggers/averaged_perceptron_tagger.zip.\n",
            "[nltk_data]    | \n",
            "[nltk_data]  Done downloading collection popular\n"
          ]
        }
      ]
    },
    {
      "cell_type": "code",
      "source": [
        "# import module untuk membantu dalam cleaning data text\n",
        "import taudataEDA02CTA as tau\n",
        "import json, urllib.request, requests, tweepy\n",
        "from urllib.request import Request, urlopen\n",
        "from tqdm import tqdm"
      ],
      "metadata": {
        "id": "mE8s8M_nmzQK"
      },
      "execution_count": null,
      "outputs": []
    },
    {
      "cell_type": "markdown",
      "source": [
        "## **Koleksi Data**"
      ],
      "metadata": {
        "id": "eXIolcvYiNy_"
      }
    },
    {
      "cell_type": "markdown",
      "source": [
        "### **Import Data CSV**"
      ],
      "metadata": {
        "id": "BoRTkKwNiSVj"
      }
    },
    {
      "cell_type": "code",
      "source": [
        "#Data csv\n",
        "url_movies = 'https://raw.githubusercontent.com/smartinternz02/SBSPS-Challenge-5372-OTT-Platform-Analysis-Tool/main/MoviesOnStreamingPlatforms_updated.csv'\n",
        "movies = pd.read_csv(url_movies)"
      ],
      "metadata": {
        "id": "VEHjWsfSgYFj"
      },
      "execution_count": null,
      "outputs": []
    },
    {
      "cell_type": "markdown",
      "source": [
        "### **Import Data Text**"
      ],
      "metadata": {
        "id": "2K73JmRl3F_z"
      }
    },
    {
      "cell_type": "code",
      "source": [
        "# assign API keys twitter untuk mengakses data twitter\n",
        "Ck = 'Db9XrpjDJr4j7Y8TGRDZoXhvc'\n",
        "Cs = 'xxSiCKtfmJjBtnnM5QbCgM1sSt1AIFfQdID5MCdvy7LKfDXhZ3'\n",
        "At = '1522418610643238913-juEN4pV0kwYawExK1eSo3FcsuXKD8r'\n",
        "As = 'CaFDf6aMk0X02CuIewpKYLSJVJbknvcIJN2DfApd4EXm9'"
      ],
      "metadata": {
        "id": "i7D-d7mcnDPF"
      },
      "execution_count": null,
      "outputs": []
    },
    {
      "cell_type": "markdown",
      "source": [
        "Dikarenakan akses untuk SVOD sering diperjualbelikan melalui twitter, maka keywords tweets mengenai SVOD diberikan tambahan operator -jual:). Hal ini bertujuan untuk memfilter data tweets yang ingin dapatkan adalah tentang pembicaraan publik mengenai penggunaan SVOD, bukan mengenai jual-beli akses SVOD."
      ],
      "metadata": {
        "id": "VrZ4bXssqGxw"
      }
    },
    {
      "cell_type": "code",
      "source": [
        "# mengambil data dengan batas maksimal 5000 untk keywords tentang SVOD\n",
        "qry = \"netflix -jual:) OR prime video -jual:) OR disney+ -jual:) OR hotstar -jual:) OR hulu -jual:)\"\n",
        "tweetFile = 'D:\\tweet_{}_EDA02CTA.json'.format(qry)\n",
        "try:\n",
        "    data = tau.loadTweets(file=tweetFile)\n",
        "    print(\"Local Data loaded, processing {} tweets.\".format(len(data)))\n",
        "except Exception as Err_:\n",
        "    print(\"Local data not available, importing data directly from twitter ... \")\n",
        "    api = tau.connect(key=(Ck, Cs, At, As))\n",
        "    data = tau.crawlTwitter(api, qry, N=5000)\n",
        "    tau.saveTweets(data, file=tweetFile)\n",
        "\n",
        "tweets = [t['full_text'] for t in data]"
      ],
      "metadata": {
        "id": "W0nq3E6_nOtf",
        "colab": {
          "base_uri": "https://localhost:8080/"
        },
        "outputId": "36e5a1d6-5ee9-4691-abc0-6db44905f723"
      },
      "execution_count": null,
      "outputs": [
        {
          "output_type": "stream",
          "name": "stdout",
          "text": [
            "Local data not available, importing data directly from twitter ... \n",
            "Welcome \"Muhamad Rakan Akmal\" you are now connected to twitter server\n",
            "Crawling keyword \"netflix -jual:) OR prime video -jual:) OR disney+ -jual:) OR hotstar -jual:) OR hulu -jual:)\"\n"
          ]
        },
        {
          "output_type": "stream",
          "name": "stderr",
          "text": [
            "1414it [00:10, 131.79it/s]\n"
          ]
        },
        {
          "output_type": "stream",
          "name": "stdout",
          "text": [
            "Collected 1414 tweets\n"
          ]
        }
      ]
    },
    {
      "cell_type": "markdown",
      "source": [
        "### **Data CSV Understanding**"
      ],
      "metadata": {
        "id": "jETCdVLNFcfN"
      }
    },
    {
      "cell_type": "code",
      "source": [
        "#Melihat tabel data\n",
        "movies"
      ],
      "metadata": {
        "colab": {
          "base_uri": "https://localhost:8080/"
        },
        "id": "Nih6e51ygh7y",
        "outputId": "cc501ef0-325d-422c-b594-4ba2196c9b54"
      },
      "execution_count": null,
      "outputs": [
        {
          "output_type": "execute_result",
          "data": {
            "text/plain": [
              "          ID                           Title  Year  Age  IMDb Rotten Tomatoes  \\\n",
              "0          1                       Inception  2010  13+   8.8             87%   \n",
              "1          2                      The Matrix  1999  18+   8.7             87%   \n",
              "2          3          Avengers: Infinity War  2018  13+   8.5             84%   \n",
              "3          4              Back to the Future  1985   7+   8.5             96%   \n",
              "4          5  The Good, the Bad and the Ugly  1966  18+   8.8             97%   \n",
              "...      ...                             ...   ...  ...   ...             ...   \n",
              "16739  16740       The Ghosts of Buxley Hall  1980  NaN   6.2             NaN   \n",
              "16740  16741                  The Poof Point  2001   7+   4.7             NaN   \n",
              "16741  16742           Sharks of Lost Island  2013  NaN   5.7             NaN   \n",
              "16742  16743              Man Among Cheetahs  2017  NaN   6.6             NaN   \n",
              "16743  16744                In Beaver Valley  1950  NaN   NaN             NaN   \n",
              "\n",
              "              Netflix         Hulu          Prime Video         Disney+  Type  \\\n",
              "0          On Netflix  Not on Hulu  Not on Amazon Prime  Not onn Diney+     0   \n",
              "1          On Netflix  Not on Hulu  Not on Amazon Prime  Not onn Diney+     0   \n",
              "2          On Netflix  Not on Hulu  Not on Amazon Prime  Not onn Diney+     0   \n",
              "3          On Netflix  Not on Hulu  Not on Amazon Prime  Not onn Diney+     0   \n",
              "4          On Netflix  Not on Hulu      On Amazon Prime  Not onn Diney+     0   \n",
              "...               ...          ...                  ...             ...   ...   \n",
              "16739  Not on Netflix  Not on Hulu  Not on Amazon Prime       On Diney+     0   \n",
              "16740  Not on Netflix  Not on Hulu  Not on Amazon Prime       On Diney+     0   \n",
              "16741  Not on Netflix  Not on Hulu  Not on Amazon Prime       On Diney+     0   \n",
              "16742  Not on Netflix  Not on Hulu  Not on Amazon Prime       On Diney+     0   \n",
              "16743  Not on Netflix  Not on Hulu  Not on Amazon Prime       On Diney+     0   \n",
              "\n",
              "                            Directors                            Genres  \\\n",
              "0                   Christopher Nolan  Action,Adventure,Sci-Fi,Thriller   \n",
              "1      Lana Wachowski,Lilly Wachowski                     Action,Sci-Fi   \n",
              "2             Anthony Russo,Joe Russo           Action,Adventure,Sci-Fi   \n",
              "3                     Robert Zemeckis           Adventure,Comedy,Sci-Fi   \n",
              "4                        Sergio Leone                           Western   \n",
              "...                               ...                               ...   \n",
              "16739                    Bruce Bilson      Comedy,Family,Fantasy,Horror   \n",
              "16740                     Neal Israel              Comedy,Family,Sci-Fi   \n",
              "16741                    Neil Gelinas                       Documentary   \n",
              "16742            Richard Slater-Jones                       Documentary   \n",
              "16743                     James Algar          Documentary,Short,Family   \n",
              "\n",
              "                            Country                 Language  Runtime  \n",
              "0      United States,United Kingdom  English,Japanese,French    148.0  \n",
              "1                     United States                  English    136.0  \n",
              "2                     United States                  English    149.0  \n",
              "3                     United States                  English    116.0  \n",
              "4          Italy,Spain,West Germany                  Italian    161.0  \n",
              "...                             ...                      ...      ...  \n",
              "16739                 United States                  English    120.0  \n",
              "16740                 United States                  English     90.0  \n",
              "16741                 United States                  English      NaN  \n",
              "16742                 United States                  English      NaN  \n",
              "16743                 United States                  English     32.0  \n",
              "\n",
              "[16744 rows x 16 columns]"
            ],
            "text/html": [
              "\n",
              "  <div id=\"df-23216801-1723-45e9-a230-2a5533adde27\">\n",
              "    <div class=\"colab-df-container\">\n",
              "      <div>\n",
              "<style scoped>\n",
              "    .dataframe tbody tr th:only-of-type {\n",
              "        vertical-align: middle;\n",
              "    }\n",
              "\n",
              "    .dataframe tbody tr th {\n",
              "        vertical-align: top;\n",
              "    }\n",
              "\n",
              "    .dataframe thead th {\n",
              "        text-align: right;\n",
              "    }\n",
              "</style>\n",
              "<table border=\"1\" class=\"dataframe\">\n",
              "  <thead>\n",
              "    <tr style=\"text-align: right;\">\n",
              "      <th></th>\n",
              "      <th>ID</th>\n",
              "      <th>Title</th>\n",
              "      <th>Year</th>\n",
              "      <th>Age</th>\n",
              "      <th>IMDb</th>\n",
              "      <th>Rotten Tomatoes</th>\n",
              "      <th>Netflix</th>\n",
              "      <th>Hulu</th>\n",
              "      <th>Prime Video</th>\n",
              "      <th>Disney+</th>\n",
              "      <th>Type</th>\n",
              "      <th>Directors</th>\n",
              "      <th>Genres</th>\n",
              "      <th>Country</th>\n",
              "      <th>Language</th>\n",
              "      <th>Runtime</th>\n",
              "    </tr>\n",
              "  </thead>\n",
              "  <tbody>\n",
              "    <tr>\n",
              "      <th>0</th>\n",
              "      <td>1</td>\n",
              "      <td>Inception</td>\n",
              "      <td>2010</td>\n",
              "      <td>13+</td>\n",
              "      <td>8.8</td>\n",
              "      <td>87%</td>\n",
              "      <td>On Netflix</td>\n",
              "      <td>Not on Hulu</td>\n",
              "      <td>Not on Amazon Prime</td>\n",
              "      <td>Not onn Diney+</td>\n",
              "      <td>0</td>\n",
              "      <td>Christopher Nolan</td>\n",
              "      <td>Action,Adventure,Sci-Fi,Thriller</td>\n",
              "      <td>United States,United Kingdom</td>\n",
              "      <td>English,Japanese,French</td>\n",
              "      <td>148.0</td>\n",
              "    </tr>\n",
              "    <tr>\n",
              "      <th>1</th>\n",
              "      <td>2</td>\n",
              "      <td>The Matrix</td>\n",
              "      <td>1999</td>\n",
              "      <td>18+</td>\n",
              "      <td>8.7</td>\n",
              "      <td>87%</td>\n",
              "      <td>On Netflix</td>\n",
              "      <td>Not on Hulu</td>\n",
              "      <td>Not on Amazon Prime</td>\n",
              "      <td>Not onn Diney+</td>\n",
              "      <td>0</td>\n",
              "      <td>Lana Wachowski,Lilly Wachowski</td>\n",
              "      <td>Action,Sci-Fi</td>\n",
              "      <td>United States</td>\n",
              "      <td>English</td>\n",
              "      <td>136.0</td>\n",
              "    </tr>\n",
              "    <tr>\n",
              "      <th>2</th>\n",
              "      <td>3</td>\n",
              "      <td>Avengers: Infinity War</td>\n",
              "      <td>2018</td>\n",
              "      <td>13+</td>\n",
              "      <td>8.5</td>\n",
              "      <td>84%</td>\n",
              "      <td>On Netflix</td>\n",
              "      <td>Not on Hulu</td>\n",
              "      <td>Not on Amazon Prime</td>\n",
              "      <td>Not onn Diney+</td>\n",
              "      <td>0</td>\n",
              "      <td>Anthony Russo,Joe Russo</td>\n",
              "      <td>Action,Adventure,Sci-Fi</td>\n",
              "      <td>United States</td>\n",
              "      <td>English</td>\n",
              "      <td>149.0</td>\n",
              "    </tr>\n",
              "    <tr>\n",
              "      <th>3</th>\n",
              "      <td>4</td>\n",
              "      <td>Back to the Future</td>\n",
              "      <td>1985</td>\n",
              "      <td>7+</td>\n",
              "      <td>8.5</td>\n",
              "      <td>96%</td>\n",
              "      <td>On Netflix</td>\n",
              "      <td>Not on Hulu</td>\n",
              "      <td>Not on Amazon Prime</td>\n",
              "      <td>Not onn Diney+</td>\n",
              "      <td>0</td>\n",
              "      <td>Robert Zemeckis</td>\n",
              "      <td>Adventure,Comedy,Sci-Fi</td>\n",
              "      <td>United States</td>\n",
              "      <td>English</td>\n",
              "      <td>116.0</td>\n",
              "    </tr>\n",
              "    <tr>\n",
              "      <th>4</th>\n",
              "      <td>5</td>\n",
              "      <td>The Good, the Bad and the Ugly</td>\n",
              "      <td>1966</td>\n",
              "      <td>18+</td>\n",
              "      <td>8.8</td>\n",
              "      <td>97%</td>\n",
              "      <td>On Netflix</td>\n",
              "      <td>Not on Hulu</td>\n",
              "      <td>On Amazon Prime</td>\n",
              "      <td>Not onn Diney+</td>\n",
              "      <td>0</td>\n",
              "      <td>Sergio Leone</td>\n",
              "      <td>Western</td>\n",
              "      <td>Italy,Spain,West Germany</td>\n",
              "      <td>Italian</td>\n",
              "      <td>161.0</td>\n",
              "    </tr>\n",
              "    <tr>\n",
              "      <th>...</th>\n",
              "      <td>...</td>\n",
              "      <td>...</td>\n",
              "      <td>...</td>\n",
              "      <td>...</td>\n",
              "      <td>...</td>\n",
              "      <td>...</td>\n",
              "      <td>...</td>\n",
              "      <td>...</td>\n",
              "      <td>...</td>\n",
              "      <td>...</td>\n",
              "      <td>...</td>\n",
              "      <td>...</td>\n",
              "      <td>...</td>\n",
              "      <td>...</td>\n",
              "      <td>...</td>\n",
              "      <td>...</td>\n",
              "    </tr>\n",
              "    <tr>\n",
              "      <th>16739</th>\n",
              "      <td>16740</td>\n",
              "      <td>The Ghosts of Buxley Hall</td>\n",
              "      <td>1980</td>\n",
              "      <td>NaN</td>\n",
              "      <td>6.2</td>\n",
              "      <td>NaN</td>\n",
              "      <td>Not on Netflix</td>\n",
              "      <td>Not on Hulu</td>\n",
              "      <td>Not on Amazon Prime</td>\n",
              "      <td>On Diney+</td>\n",
              "      <td>0</td>\n",
              "      <td>Bruce Bilson</td>\n",
              "      <td>Comedy,Family,Fantasy,Horror</td>\n",
              "      <td>United States</td>\n",
              "      <td>English</td>\n",
              "      <td>120.0</td>\n",
              "    </tr>\n",
              "    <tr>\n",
              "      <th>16740</th>\n",
              "      <td>16741</td>\n",
              "      <td>The Poof Point</td>\n",
              "      <td>2001</td>\n",
              "      <td>7+</td>\n",
              "      <td>4.7</td>\n",
              "      <td>NaN</td>\n",
              "      <td>Not on Netflix</td>\n",
              "      <td>Not on Hulu</td>\n",
              "      <td>Not on Amazon Prime</td>\n",
              "      <td>On Diney+</td>\n",
              "      <td>0</td>\n",
              "      <td>Neal Israel</td>\n",
              "      <td>Comedy,Family,Sci-Fi</td>\n",
              "      <td>United States</td>\n",
              "      <td>English</td>\n",
              "      <td>90.0</td>\n",
              "    </tr>\n",
              "    <tr>\n",
              "      <th>16741</th>\n",
              "      <td>16742</td>\n",
              "      <td>Sharks of Lost Island</td>\n",
              "      <td>2013</td>\n",
              "      <td>NaN</td>\n",
              "      <td>5.7</td>\n",
              "      <td>NaN</td>\n",
              "      <td>Not on Netflix</td>\n",
              "      <td>Not on Hulu</td>\n",
              "      <td>Not on Amazon Prime</td>\n",
              "      <td>On Diney+</td>\n",
              "      <td>0</td>\n",
              "      <td>Neil Gelinas</td>\n",
              "      <td>Documentary</td>\n",
              "      <td>United States</td>\n",
              "      <td>English</td>\n",
              "      <td>NaN</td>\n",
              "    </tr>\n",
              "    <tr>\n",
              "      <th>16742</th>\n",
              "      <td>16743</td>\n",
              "      <td>Man Among Cheetahs</td>\n",
              "      <td>2017</td>\n",
              "      <td>NaN</td>\n",
              "      <td>6.6</td>\n",
              "      <td>NaN</td>\n",
              "      <td>Not on Netflix</td>\n",
              "      <td>Not on Hulu</td>\n",
              "      <td>Not on Amazon Prime</td>\n",
              "      <td>On Diney+</td>\n",
              "      <td>0</td>\n",
              "      <td>Richard Slater-Jones</td>\n",
              "      <td>Documentary</td>\n",
              "      <td>United States</td>\n",
              "      <td>English</td>\n",
              "      <td>NaN</td>\n",
              "    </tr>\n",
              "    <tr>\n",
              "      <th>16743</th>\n",
              "      <td>16744</td>\n",
              "      <td>In Beaver Valley</td>\n",
              "      <td>1950</td>\n",
              "      <td>NaN</td>\n",
              "      <td>NaN</td>\n",
              "      <td>NaN</td>\n",
              "      <td>Not on Netflix</td>\n",
              "      <td>Not on Hulu</td>\n",
              "      <td>Not on Amazon Prime</td>\n",
              "      <td>On Diney+</td>\n",
              "      <td>0</td>\n",
              "      <td>James Algar</td>\n",
              "      <td>Documentary,Short,Family</td>\n",
              "      <td>United States</td>\n",
              "      <td>English</td>\n",
              "      <td>32.0</td>\n",
              "    </tr>\n",
              "  </tbody>\n",
              "</table>\n",
              "<p>16744 rows × 16 columns</p>\n",
              "</div>\n",
              "      <button class=\"colab-df-convert\" onclick=\"convertToInteractive('df-23216801-1723-45e9-a230-2a5533adde27')\"\n",
              "              title=\"Convert this dataframe to an interactive table.\"\n",
              "              style=\"display:none;\">\n",
              "        \n",
              "  <svg xmlns=\"http://www.w3.org/2000/svg\" height=\"24px\"viewBox=\"0 0 24 24\"\n",
              "       width=\"24px\">\n",
              "    <path d=\"M0 0h24v24H0V0z\" fill=\"none\"/>\n",
              "    <path d=\"M18.56 5.44l.94 2.06.94-2.06 2.06-.94-2.06-.94-.94-2.06-.94 2.06-2.06.94zm-11 1L8.5 8.5l.94-2.06 2.06-.94-2.06-.94L8.5 2.5l-.94 2.06-2.06.94zm10 10l.94 2.06.94-2.06 2.06-.94-2.06-.94-.94-2.06-.94 2.06-2.06.94z\"/><path d=\"M17.41 7.96l-1.37-1.37c-.4-.4-.92-.59-1.43-.59-.52 0-1.04.2-1.43.59L10.3 9.45l-7.72 7.72c-.78.78-.78 2.05 0 2.83L4 21.41c.39.39.9.59 1.41.59.51 0 1.02-.2 1.41-.59l7.78-7.78 2.81-2.81c.8-.78.8-2.07 0-2.86zM5.41 20L4 18.59l7.72-7.72 1.47 1.35L5.41 20z\"/>\n",
              "  </svg>\n",
              "      </button>\n",
              "      \n",
              "  <style>\n",
              "    .colab-df-container {\n",
              "      display:flex;\n",
              "      flex-wrap:wrap;\n",
              "      gap: 12px;\n",
              "    }\n",
              "\n",
              "    .colab-df-convert {\n",
              "      background-color: #E8F0FE;\n",
              "      border: none;\n",
              "      border-radius: 50%;\n",
              "      cursor: pointer;\n",
              "      display: none;\n",
              "      fill: #1967D2;\n",
              "      height: 32px;\n",
              "      padding: 0 0 0 0;\n",
              "      width: 32px;\n",
              "    }\n",
              "\n",
              "    .colab-df-convert:hover {\n",
              "      background-color: #E2EBFA;\n",
              "      box-shadow: 0px 1px 2px rgba(60, 64, 67, 0.3), 0px 1px 3px 1px rgba(60, 64, 67, 0.15);\n",
              "      fill: #174EA6;\n",
              "    }\n",
              "\n",
              "    [theme=dark] .colab-df-convert {\n",
              "      background-color: #3B4455;\n",
              "      fill: #D2E3FC;\n",
              "    }\n",
              "\n",
              "    [theme=dark] .colab-df-convert:hover {\n",
              "      background-color: #434B5C;\n",
              "      box-shadow: 0px 1px 3px 1px rgba(0, 0, 0, 0.15);\n",
              "      filter: drop-shadow(0px 1px 2px rgba(0, 0, 0, 0.3));\n",
              "      fill: #FFFFFF;\n",
              "    }\n",
              "  </style>\n",
              "\n",
              "      <script>\n",
              "        const buttonEl =\n",
              "          document.querySelector('#df-23216801-1723-45e9-a230-2a5533adde27 button.colab-df-convert');\n",
              "        buttonEl.style.display =\n",
              "          google.colab.kernel.accessAllowed ? 'block' : 'none';\n",
              "\n",
              "        async function convertToInteractive(key) {\n",
              "          const element = document.querySelector('#df-23216801-1723-45e9-a230-2a5533adde27');\n",
              "          const dataTable =\n",
              "            await google.colab.kernel.invokeFunction('convertToInteractive',\n",
              "                                                     [key], {});\n",
              "          if (!dataTable) return;\n",
              "\n",
              "          const docLinkHtml = 'Like what you see? Visit the ' +\n",
              "            '<a target=\"_blank\" href=https://colab.research.google.com/notebooks/data_table.ipynb>data table notebook</a>'\n",
              "            + ' to learn more about interactive tables.';\n",
              "          element.innerHTML = '';\n",
              "          dataTable['output_type'] = 'display_data';\n",
              "          await google.colab.output.renderOutput(dataTable, element);\n",
              "          const docLink = document.createElement('div');\n",
              "          docLink.innerHTML = docLinkHtml;\n",
              "          element.appendChild(docLink);\n",
              "        }\n",
              "      </script>\n",
              "    </div>\n",
              "  </div>\n",
              "  "
            ]
          },
          "metadata": {},
          "execution_count": 7
        }
      ]
    },
    {
      "cell_type": "code",
      "source": [
        "#Melihat kolom/variabel beserta ukurannya yang ada pada data\n",
        "movies.columns"
      ],
      "metadata": {
        "colab": {
          "base_uri": "https://localhost:8080/"
        },
        "id": "x1_ZxYf8isH_",
        "outputId": "51a1ff68-7c26-4400-b94b-fe3b710055b3"
      },
      "execution_count": null,
      "outputs": [
        {
          "output_type": "execute_result",
          "data": {
            "text/plain": [
              "Index(['ID', 'Title', 'Year', 'Age', 'IMDb', 'Rotten Tomatoes', 'Netflix',\n",
              "       'Hulu', 'Prime Video', 'Disney+', 'Type', 'Directors', 'Genres',\n",
              "       'Country', 'Language', 'Runtime'],\n",
              "      dtype='object')"
            ]
          },
          "metadata": {},
          "execution_count": 8
        }
      ]
    },
    {
      "cell_type": "code",
      "source": [
        "movies.shape"
      ],
      "metadata": {
        "colab": {
          "base_uri": "https://localhost:8080/"
        },
        "id": "BAtuFa_Piu2y",
        "outputId": "e2eb8be4-476b-48e6-d773-493812467174"
      },
      "execution_count": null,
      "outputs": [
        {
          "output_type": "execute_result",
          "data": {
            "text/plain": [
              "(16744, 16)"
            ]
          },
          "metadata": {},
          "execution_count": 9
        }
      ]
    },
    {
      "cell_type": "markdown",
      "source": [
        "Didapat bahwa data berisi Variabel berikut:\n",
        "*   ID = Kode Unik Film\n",
        "*   Title = Judul Film\n",
        "*   Year = Tahun Rilis Film\n",
        "*   Age = Batasan Usia Penonton Film\n",
        "*   IMDb = Rating IMDb Film\n",
        "*   Rotten Tomatoes = Rating Rotten Tomatoes Film\n",
        "*   Netflix = Apakah film itu ada di Netflix\n",
        "*   Hulu = Apakah film itu ada di Hulu\n",
        "*   Prime Video = Apakah film itu ada di Prime Video\n",
        "*   Disney+ = Apakah film itu ada di Disney+\n",
        "*   Type= Film atau Serial TV\n",
        "*   Directors = Sutradara Film\n",
        "*   Genres = Genre Film\n",
        "*   Country = Asal Negara Film\n",
        "*   Language = Bahasa Film\n",
        "*   Runtime = Durasi Film\n",
        "\n",
        "\n",
        "\n",
        "\n"
      ],
      "metadata": {
        "id": "m9Dji-OWi8M9"
      }
    },
    {
      "cell_type": "code",
      "source": [
        "#melihat sebaran data\n",
        "movies.describe()"
      ],
      "metadata": {
        "colab": {
          "base_uri": "https://localhost:8080/"
        },
        "id": "tRHxmem_D33H",
        "outputId": "c1c0fec2-5988-4785-9114-99f84544e9c8"
      },
      "execution_count": null,
      "outputs": [
        {
          "output_type": "execute_result",
          "data": {
            "text/plain": [
              "                 ID          Year          IMDb     Type       Runtime\n",
              "count  16744.000000  16744.000000  16173.000000  16744.0  16152.000000\n",
              "mean    8372.500000   2003.014035      5.902751      0.0     93.413447\n",
              "std     4833.720789     20.674321      1.347867      0.0     28.219222\n",
              "min        1.000000   1902.000000      0.000000      0.0      1.000000\n",
              "25%     4186.750000   2000.000000      5.100000      0.0     82.000000\n",
              "50%     8372.500000   2012.000000      6.100000      0.0     92.000000\n",
              "75%    12558.250000   2016.000000      6.900000      0.0    104.000000\n",
              "max    16744.000000   2020.000000      9.300000      0.0   1256.000000"
            ],
            "text/html": [
              "\n",
              "  <div id=\"df-bb336f9e-a37c-4a43-bb38-9a031b1aaade\">\n",
              "    <div class=\"colab-df-container\">\n",
              "      <div>\n",
              "<style scoped>\n",
              "    .dataframe tbody tr th:only-of-type {\n",
              "        vertical-align: middle;\n",
              "    }\n",
              "\n",
              "    .dataframe tbody tr th {\n",
              "        vertical-align: top;\n",
              "    }\n",
              "\n",
              "    .dataframe thead th {\n",
              "        text-align: right;\n",
              "    }\n",
              "</style>\n",
              "<table border=\"1\" class=\"dataframe\">\n",
              "  <thead>\n",
              "    <tr style=\"text-align: right;\">\n",
              "      <th></th>\n",
              "      <th>ID</th>\n",
              "      <th>Year</th>\n",
              "      <th>IMDb</th>\n",
              "      <th>Type</th>\n",
              "      <th>Runtime</th>\n",
              "    </tr>\n",
              "  </thead>\n",
              "  <tbody>\n",
              "    <tr>\n",
              "      <th>count</th>\n",
              "      <td>16744.000000</td>\n",
              "      <td>16744.000000</td>\n",
              "      <td>16173.000000</td>\n",
              "      <td>16744.0</td>\n",
              "      <td>16152.000000</td>\n",
              "    </tr>\n",
              "    <tr>\n",
              "      <th>mean</th>\n",
              "      <td>8372.500000</td>\n",
              "      <td>2003.014035</td>\n",
              "      <td>5.902751</td>\n",
              "      <td>0.0</td>\n",
              "      <td>93.413447</td>\n",
              "    </tr>\n",
              "    <tr>\n",
              "      <th>std</th>\n",
              "      <td>4833.720789</td>\n",
              "      <td>20.674321</td>\n",
              "      <td>1.347867</td>\n",
              "      <td>0.0</td>\n",
              "      <td>28.219222</td>\n",
              "    </tr>\n",
              "    <tr>\n",
              "      <th>min</th>\n",
              "      <td>1.000000</td>\n",
              "      <td>1902.000000</td>\n",
              "      <td>0.000000</td>\n",
              "      <td>0.0</td>\n",
              "      <td>1.000000</td>\n",
              "    </tr>\n",
              "    <tr>\n",
              "      <th>25%</th>\n",
              "      <td>4186.750000</td>\n",
              "      <td>2000.000000</td>\n",
              "      <td>5.100000</td>\n",
              "      <td>0.0</td>\n",
              "      <td>82.000000</td>\n",
              "    </tr>\n",
              "    <tr>\n",
              "      <th>50%</th>\n",
              "      <td>8372.500000</td>\n",
              "      <td>2012.000000</td>\n",
              "      <td>6.100000</td>\n",
              "      <td>0.0</td>\n",
              "      <td>92.000000</td>\n",
              "    </tr>\n",
              "    <tr>\n",
              "      <th>75%</th>\n",
              "      <td>12558.250000</td>\n",
              "      <td>2016.000000</td>\n",
              "      <td>6.900000</td>\n",
              "      <td>0.0</td>\n",
              "      <td>104.000000</td>\n",
              "    </tr>\n",
              "    <tr>\n",
              "      <th>max</th>\n",
              "      <td>16744.000000</td>\n",
              "      <td>2020.000000</td>\n",
              "      <td>9.300000</td>\n",
              "      <td>0.0</td>\n",
              "      <td>1256.000000</td>\n",
              "    </tr>\n",
              "  </tbody>\n",
              "</table>\n",
              "</div>\n",
              "      <button class=\"colab-df-convert\" onclick=\"convertToInteractive('df-bb336f9e-a37c-4a43-bb38-9a031b1aaade')\"\n",
              "              title=\"Convert this dataframe to an interactive table.\"\n",
              "              style=\"display:none;\">\n",
              "        \n",
              "  <svg xmlns=\"http://www.w3.org/2000/svg\" height=\"24px\"viewBox=\"0 0 24 24\"\n",
              "       width=\"24px\">\n",
              "    <path d=\"M0 0h24v24H0V0z\" fill=\"none\"/>\n",
              "    <path d=\"M18.56 5.44l.94 2.06.94-2.06 2.06-.94-2.06-.94-.94-2.06-.94 2.06-2.06.94zm-11 1L8.5 8.5l.94-2.06 2.06-.94-2.06-.94L8.5 2.5l-.94 2.06-2.06.94zm10 10l.94 2.06.94-2.06 2.06-.94-2.06-.94-.94-2.06-.94 2.06-2.06.94z\"/><path d=\"M17.41 7.96l-1.37-1.37c-.4-.4-.92-.59-1.43-.59-.52 0-1.04.2-1.43.59L10.3 9.45l-7.72 7.72c-.78.78-.78 2.05 0 2.83L4 21.41c.39.39.9.59 1.41.59.51 0 1.02-.2 1.41-.59l7.78-7.78 2.81-2.81c.8-.78.8-2.07 0-2.86zM5.41 20L4 18.59l7.72-7.72 1.47 1.35L5.41 20z\"/>\n",
              "  </svg>\n",
              "      </button>\n",
              "      \n",
              "  <style>\n",
              "    .colab-df-container {\n",
              "      display:flex;\n",
              "      flex-wrap:wrap;\n",
              "      gap: 12px;\n",
              "    }\n",
              "\n",
              "    .colab-df-convert {\n",
              "      background-color: #E8F0FE;\n",
              "      border: none;\n",
              "      border-radius: 50%;\n",
              "      cursor: pointer;\n",
              "      display: none;\n",
              "      fill: #1967D2;\n",
              "      height: 32px;\n",
              "      padding: 0 0 0 0;\n",
              "      width: 32px;\n",
              "    }\n",
              "\n",
              "    .colab-df-convert:hover {\n",
              "      background-color: #E2EBFA;\n",
              "      box-shadow: 0px 1px 2px rgba(60, 64, 67, 0.3), 0px 1px 3px 1px rgba(60, 64, 67, 0.15);\n",
              "      fill: #174EA6;\n",
              "    }\n",
              "\n",
              "    [theme=dark] .colab-df-convert {\n",
              "      background-color: #3B4455;\n",
              "      fill: #D2E3FC;\n",
              "    }\n",
              "\n",
              "    [theme=dark] .colab-df-convert:hover {\n",
              "      background-color: #434B5C;\n",
              "      box-shadow: 0px 1px 3px 1px rgba(0, 0, 0, 0.15);\n",
              "      filter: drop-shadow(0px 1px 2px rgba(0, 0, 0, 0.3));\n",
              "      fill: #FFFFFF;\n",
              "    }\n",
              "  </style>\n",
              "\n",
              "      <script>\n",
              "        const buttonEl =\n",
              "          document.querySelector('#df-bb336f9e-a37c-4a43-bb38-9a031b1aaade button.colab-df-convert');\n",
              "        buttonEl.style.display =\n",
              "          google.colab.kernel.accessAllowed ? 'block' : 'none';\n",
              "\n",
              "        async function convertToInteractive(key) {\n",
              "          const element = document.querySelector('#df-bb336f9e-a37c-4a43-bb38-9a031b1aaade');\n",
              "          const dataTable =\n",
              "            await google.colab.kernel.invokeFunction('convertToInteractive',\n",
              "                                                     [key], {});\n",
              "          if (!dataTable) return;\n",
              "\n",
              "          const docLinkHtml = 'Like what you see? Visit the ' +\n",
              "            '<a target=\"_blank\" href=https://colab.research.google.com/notebooks/data_table.ipynb>data table notebook</a>'\n",
              "            + ' to learn more about interactive tables.';\n",
              "          element.innerHTML = '';\n",
              "          dataTable['output_type'] = 'display_data';\n",
              "          await google.colab.output.renderOutput(dataTable, element);\n",
              "          const docLink = document.createElement('div');\n",
              "          docLink.innerHTML = docLinkHtml;\n",
              "          element.appendChild(docLink);\n",
              "        }\n",
              "      </script>\n",
              "    </div>\n",
              "  </div>\n",
              "  "
            ]
          },
          "metadata": {},
          "execution_count": 10
        }
      ]
    },
    {
      "cell_type": "markdown",
      "source": [
        "Terlihat bahwa tidak ada nilai yang 'aneh' pada sebaran data. Data sudah seperti yang seharusnya."
      ],
      "metadata": {
        "id": "GQlypr7-H7EV"
      }
    },
    {
      "cell_type": "markdown",
      "source": [
        "## **Preprocessing**"
      ],
      "metadata": {
        "id": "HBKkrBafb3jY"
      }
    },
    {
      "cell_type": "markdown",
      "source": [
        "###**Data CSV**"
      ],
      "metadata": {
        "id": "9wJljM614VaC"
      }
    },
    {
      "cell_type": "markdown",
      "source": [
        "####**Replacing**\n",
        "Terlihat bahwa keberadaan sebuah film di antara platform tersebut masih berstatus \"On [Nama Platform]\" dan \"Not on [Nama Platform]\". Untuk memudahkan visualisasi nantinya, akan dilakukan replacing dengan 1 untuk \"On [Nama Platform]\" dan 0 untuk \"Not on [Nama Platform]\"."
      ],
      "metadata": {
        "id": "eAWUBlHRGN1x"
      }
    },
    {
      "cell_type": "code",
      "source": [
        "#replacing\n",
        "movies.replace(['On Netflix','On Hulu','On Amazon Prime','On Diney+'], 1, inplace = True)\n",
        "movies.replace(['Not on Netflix','Not on Hulu','Not on Amazon Prime','Not onn Diney+'], 0, inplace = True)"
      ],
      "metadata": {
        "id": "CyEHHN2Kj0l_"
      },
      "execution_count": null,
      "outputs": []
    },
    {
      "cell_type": "code",
      "source": [
        "movies"
      ],
      "metadata": {
        "colab": {
          "base_uri": "https://localhost:8080/"
        },
        "id": "_BhjDmoPkwXX",
        "outputId": "0eeb7caf-d4a6-4752-ed83-6b77615fab4b"
      },
      "execution_count": null,
      "outputs": [
        {
          "output_type": "execute_result",
          "data": {
            "text/plain": [
              "          ID                           Title  Year  Age  IMDb Rotten Tomatoes  \\\n",
              "0          1                       Inception  2010  13+   8.8             87%   \n",
              "1          2                      The Matrix  1999  18+   8.7             87%   \n",
              "2          3          Avengers: Infinity War  2018  13+   8.5             84%   \n",
              "3          4              Back to the Future  1985   7+   8.5             96%   \n",
              "4          5  The Good, the Bad and the Ugly  1966  18+   8.8             97%   \n",
              "...      ...                             ...   ...  ...   ...             ...   \n",
              "16739  16740       The Ghosts of Buxley Hall  1980  NaN   6.2             NaN   \n",
              "16740  16741                  The Poof Point  2001   7+   4.7             NaN   \n",
              "16741  16742           Sharks of Lost Island  2013  NaN   5.7             NaN   \n",
              "16742  16743              Man Among Cheetahs  2017  NaN   6.6             NaN   \n",
              "16743  16744                In Beaver Valley  1950  NaN   NaN             NaN   \n",
              "\n",
              "       Netflix  Hulu  Prime Video  Disney+  Type  \\\n",
              "0            1     0            0        0     0   \n",
              "1            1     0            0        0     0   \n",
              "2            1     0            0        0     0   \n",
              "3            1     0            0        0     0   \n",
              "4            1     0            1        0     0   \n",
              "...        ...   ...          ...      ...   ...   \n",
              "16739        0     0            0        1     0   \n",
              "16740        0     0            0        1     0   \n",
              "16741        0     0            0        1     0   \n",
              "16742        0     0            0        1     0   \n",
              "16743        0     0            0        1     0   \n",
              "\n",
              "                            Directors                            Genres  \\\n",
              "0                   Christopher Nolan  Action,Adventure,Sci-Fi,Thriller   \n",
              "1      Lana Wachowski,Lilly Wachowski                     Action,Sci-Fi   \n",
              "2             Anthony Russo,Joe Russo           Action,Adventure,Sci-Fi   \n",
              "3                     Robert Zemeckis           Adventure,Comedy,Sci-Fi   \n",
              "4                        Sergio Leone                           Western   \n",
              "...                               ...                               ...   \n",
              "16739                    Bruce Bilson      Comedy,Family,Fantasy,Horror   \n",
              "16740                     Neal Israel              Comedy,Family,Sci-Fi   \n",
              "16741                    Neil Gelinas                       Documentary   \n",
              "16742            Richard Slater-Jones                       Documentary   \n",
              "16743                     James Algar          Documentary,Short,Family   \n",
              "\n",
              "                            Country                 Language  Runtime  \n",
              "0      United States,United Kingdom  English,Japanese,French    148.0  \n",
              "1                     United States                  English    136.0  \n",
              "2                     United States                  English    149.0  \n",
              "3                     United States                  English    116.0  \n",
              "4          Italy,Spain,West Germany                  Italian    161.0  \n",
              "...                             ...                      ...      ...  \n",
              "16739                 United States                  English    120.0  \n",
              "16740                 United States                  English     90.0  \n",
              "16741                 United States                  English      NaN  \n",
              "16742                 United States                  English      NaN  \n",
              "16743                 United States                  English     32.0  \n",
              "\n",
              "[16744 rows x 16 columns]"
            ],
            "text/html": [
              "\n",
              "  <div id=\"df-d09341e0-2c68-475c-a219-7d1e96b69141\">\n",
              "    <div class=\"colab-df-container\">\n",
              "      <div>\n",
              "<style scoped>\n",
              "    .dataframe tbody tr th:only-of-type {\n",
              "        vertical-align: middle;\n",
              "    }\n",
              "\n",
              "    .dataframe tbody tr th {\n",
              "        vertical-align: top;\n",
              "    }\n",
              "\n",
              "    .dataframe thead th {\n",
              "        text-align: right;\n",
              "    }\n",
              "</style>\n",
              "<table border=\"1\" class=\"dataframe\">\n",
              "  <thead>\n",
              "    <tr style=\"text-align: right;\">\n",
              "      <th></th>\n",
              "      <th>ID</th>\n",
              "      <th>Title</th>\n",
              "      <th>Year</th>\n",
              "      <th>Age</th>\n",
              "      <th>IMDb</th>\n",
              "      <th>Rotten Tomatoes</th>\n",
              "      <th>Netflix</th>\n",
              "      <th>Hulu</th>\n",
              "      <th>Prime Video</th>\n",
              "      <th>Disney+</th>\n",
              "      <th>Type</th>\n",
              "      <th>Directors</th>\n",
              "      <th>Genres</th>\n",
              "      <th>Country</th>\n",
              "      <th>Language</th>\n",
              "      <th>Runtime</th>\n",
              "    </tr>\n",
              "  </thead>\n",
              "  <tbody>\n",
              "    <tr>\n",
              "      <th>0</th>\n",
              "      <td>1</td>\n",
              "      <td>Inception</td>\n",
              "      <td>2010</td>\n",
              "      <td>13+</td>\n",
              "      <td>8.8</td>\n",
              "      <td>87%</td>\n",
              "      <td>1</td>\n",
              "      <td>0</td>\n",
              "      <td>0</td>\n",
              "      <td>0</td>\n",
              "      <td>0</td>\n",
              "      <td>Christopher Nolan</td>\n",
              "      <td>Action,Adventure,Sci-Fi,Thriller</td>\n",
              "      <td>United States,United Kingdom</td>\n",
              "      <td>English,Japanese,French</td>\n",
              "      <td>148.0</td>\n",
              "    </tr>\n",
              "    <tr>\n",
              "      <th>1</th>\n",
              "      <td>2</td>\n",
              "      <td>The Matrix</td>\n",
              "      <td>1999</td>\n",
              "      <td>18+</td>\n",
              "      <td>8.7</td>\n",
              "      <td>87%</td>\n",
              "      <td>1</td>\n",
              "      <td>0</td>\n",
              "      <td>0</td>\n",
              "      <td>0</td>\n",
              "      <td>0</td>\n",
              "      <td>Lana Wachowski,Lilly Wachowski</td>\n",
              "      <td>Action,Sci-Fi</td>\n",
              "      <td>United States</td>\n",
              "      <td>English</td>\n",
              "      <td>136.0</td>\n",
              "    </tr>\n",
              "    <tr>\n",
              "      <th>2</th>\n",
              "      <td>3</td>\n",
              "      <td>Avengers: Infinity War</td>\n",
              "      <td>2018</td>\n",
              "      <td>13+</td>\n",
              "      <td>8.5</td>\n",
              "      <td>84%</td>\n",
              "      <td>1</td>\n",
              "      <td>0</td>\n",
              "      <td>0</td>\n",
              "      <td>0</td>\n",
              "      <td>0</td>\n",
              "      <td>Anthony Russo,Joe Russo</td>\n",
              "      <td>Action,Adventure,Sci-Fi</td>\n",
              "      <td>United States</td>\n",
              "      <td>English</td>\n",
              "      <td>149.0</td>\n",
              "    </tr>\n",
              "    <tr>\n",
              "      <th>3</th>\n",
              "      <td>4</td>\n",
              "      <td>Back to the Future</td>\n",
              "      <td>1985</td>\n",
              "      <td>7+</td>\n",
              "      <td>8.5</td>\n",
              "      <td>96%</td>\n",
              "      <td>1</td>\n",
              "      <td>0</td>\n",
              "      <td>0</td>\n",
              "      <td>0</td>\n",
              "      <td>0</td>\n",
              "      <td>Robert Zemeckis</td>\n",
              "      <td>Adventure,Comedy,Sci-Fi</td>\n",
              "      <td>United States</td>\n",
              "      <td>English</td>\n",
              "      <td>116.0</td>\n",
              "    </tr>\n",
              "    <tr>\n",
              "      <th>4</th>\n",
              "      <td>5</td>\n",
              "      <td>The Good, the Bad and the Ugly</td>\n",
              "      <td>1966</td>\n",
              "      <td>18+</td>\n",
              "      <td>8.8</td>\n",
              "      <td>97%</td>\n",
              "      <td>1</td>\n",
              "      <td>0</td>\n",
              "      <td>1</td>\n",
              "      <td>0</td>\n",
              "      <td>0</td>\n",
              "      <td>Sergio Leone</td>\n",
              "      <td>Western</td>\n",
              "      <td>Italy,Spain,West Germany</td>\n",
              "      <td>Italian</td>\n",
              "      <td>161.0</td>\n",
              "    </tr>\n",
              "    <tr>\n",
              "      <th>...</th>\n",
              "      <td>...</td>\n",
              "      <td>...</td>\n",
              "      <td>...</td>\n",
              "      <td>...</td>\n",
              "      <td>...</td>\n",
              "      <td>...</td>\n",
              "      <td>...</td>\n",
              "      <td>...</td>\n",
              "      <td>...</td>\n",
              "      <td>...</td>\n",
              "      <td>...</td>\n",
              "      <td>...</td>\n",
              "      <td>...</td>\n",
              "      <td>...</td>\n",
              "      <td>...</td>\n",
              "      <td>...</td>\n",
              "    </tr>\n",
              "    <tr>\n",
              "      <th>16739</th>\n",
              "      <td>16740</td>\n",
              "      <td>The Ghosts of Buxley Hall</td>\n",
              "      <td>1980</td>\n",
              "      <td>NaN</td>\n",
              "      <td>6.2</td>\n",
              "      <td>NaN</td>\n",
              "      <td>0</td>\n",
              "      <td>0</td>\n",
              "      <td>0</td>\n",
              "      <td>1</td>\n",
              "      <td>0</td>\n",
              "      <td>Bruce Bilson</td>\n",
              "      <td>Comedy,Family,Fantasy,Horror</td>\n",
              "      <td>United States</td>\n",
              "      <td>English</td>\n",
              "      <td>120.0</td>\n",
              "    </tr>\n",
              "    <tr>\n",
              "      <th>16740</th>\n",
              "      <td>16741</td>\n",
              "      <td>The Poof Point</td>\n",
              "      <td>2001</td>\n",
              "      <td>7+</td>\n",
              "      <td>4.7</td>\n",
              "      <td>NaN</td>\n",
              "      <td>0</td>\n",
              "      <td>0</td>\n",
              "      <td>0</td>\n",
              "      <td>1</td>\n",
              "      <td>0</td>\n",
              "      <td>Neal Israel</td>\n",
              "      <td>Comedy,Family,Sci-Fi</td>\n",
              "      <td>United States</td>\n",
              "      <td>English</td>\n",
              "      <td>90.0</td>\n",
              "    </tr>\n",
              "    <tr>\n",
              "      <th>16741</th>\n",
              "      <td>16742</td>\n",
              "      <td>Sharks of Lost Island</td>\n",
              "      <td>2013</td>\n",
              "      <td>NaN</td>\n",
              "      <td>5.7</td>\n",
              "      <td>NaN</td>\n",
              "      <td>0</td>\n",
              "      <td>0</td>\n",
              "      <td>0</td>\n",
              "      <td>1</td>\n",
              "      <td>0</td>\n",
              "      <td>Neil Gelinas</td>\n",
              "      <td>Documentary</td>\n",
              "      <td>United States</td>\n",
              "      <td>English</td>\n",
              "      <td>NaN</td>\n",
              "    </tr>\n",
              "    <tr>\n",
              "      <th>16742</th>\n",
              "      <td>16743</td>\n",
              "      <td>Man Among Cheetahs</td>\n",
              "      <td>2017</td>\n",
              "      <td>NaN</td>\n",
              "      <td>6.6</td>\n",
              "      <td>NaN</td>\n",
              "      <td>0</td>\n",
              "      <td>0</td>\n",
              "      <td>0</td>\n",
              "      <td>1</td>\n",
              "      <td>0</td>\n",
              "      <td>Richard Slater-Jones</td>\n",
              "      <td>Documentary</td>\n",
              "      <td>United States</td>\n",
              "      <td>English</td>\n",
              "      <td>NaN</td>\n",
              "    </tr>\n",
              "    <tr>\n",
              "      <th>16743</th>\n",
              "      <td>16744</td>\n",
              "      <td>In Beaver Valley</td>\n",
              "      <td>1950</td>\n",
              "      <td>NaN</td>\n",
              "      <td>NaN</td>\n",
              "      <td>NaN</td>\n",
              "      <td>0</td>\n",
              "      <td>0</td>\n",
              "      <td>0</td>\n",
              "      <td>1</td>\n",
              "      <td>0</td>\n",
              "      <td>James Algar</td>\n",
              "      <td>Documentary,Short,Family</td>\n",
              "      <td>United States</td>\n",
              "      <td>English</td>\n",
              "      <td>32.0</td>\n",
              "    </tr>\n",
              "  </tbody>\n",
              "</table>\n",
              "<p>16744 rows × 16 columns</p>\n",
              "</div>\n",
              "      <button class=\"colab-df-convert\" onclick=\"convertToInteractive('df-d09341e0-2c68-475c-a219-7d1e96b69141')\"\n",
              "              title=\"Convert this dataframe to an interactive table.\"\n",
              "              style=\"display:none;\">\n",
              "        \n",
              "  <svg xmlns=\"http://www.w3.org/2000/svg\" height=\"24px\"viewBox=\"0 0 24 24\"\n",
              "       width=\"24px\">\n",
              "    <path d=\"M0 0h24v24H0V0z\" fill=\"none\"/>\n",
              "    <path d=\"M18.56 5.44l.94 2.06.94-2.06 2.06-.94-2.06-.94-.94-2.06-.94 2.06-2.06.94zm-11 1L8.5 8.5l.94-2.06 2.06-.94-2.06-.94L8.5 2.5l-.94 2.06-2.06.94zm10 10l.94 2.06.94-2.06 2.06-.94-2.06-.94-.94-2.06-.94 2.06-2.06.94z\"/><path d=\"M17.41 7.96l-1.37-1.37c-.4-.4-.92-.59-1.43-.59-.52 0-1.04.2-1.43.59L10.3 9.45l-7.72 7.72c-.78.78-.78 2.05 0 2.83L4 21.41c.39.39.9.59 1.41.59.51 0 1.02-.2 1.41-.59l7.78-7.78 2.81-2.81c.8-.78.8-2.07 0-2.86zM5.41 20L4 18.59l7.72-7.72 1.47 1.35L5.41 20z\"/>\n",
              "  </svg>\n",
              "      </button>\n",
              "      \n",
              "  <style>\n",
              "    .colab-df-container {\n",
              "      display:flex;\n",
              "      flex-wrap:wrap;\n",
              "      gap: 12px;\n",
              "    }\n",
              "\n",
              "    .colab-df-convert {\n",
              "      background-color: #E8F0FE;\n",
              "      border: none;\n",
              "      border-radius: 50%;\n",
              "      cursor: pointer;\n",
              "      display: none;\n",
              "      fill: #1967D2;\n",
              "      height: 32px;\n",
              "      padding: 0 0 0 0;\n",
              "      width: 32px;\n",
              "    }\n",
              "\n",
              "    .colab-df-convert:hover {\n",
              "      background-color: #E2EBFA;\n",
              "      box-shadow: 0px 1px 2px rgba(60, 64, 67, 0.3), 0px 1px 3px 1px rgba(60, 64, 67, 0.15);\n",
              "      fill: #174EA6;\n",
              "    }\n",
              "\n",
              "    [theme=dark] .colab-df-convert {\n",
              "      background-color: #3B4455;\n",
              "      fill: #D2E3FC;\n",
              "    }\n",
              "\n",
              "    [theme=dark] .colab-df-convert:hover {\n",
              "      background-color: #434B5C;\n",
              "      box-shadow: 0px 1px 3px 1px rgba(0, 0, 0, 0.15);\n",
              "      filter: drop-shadow(0px 1px 2px rgba(0, 0, 0, 0.3));\n",
              "      fill: #FFFFFF;\n",
              "    }\n",
              "  </style>\n",
              "\n",
              "      <script>\n",
              "        const buttonEl =\n",
              "          document.querySelector('#df-d09341e0-2c68-475c-a219-7d1e96b69141 button.colab-df-convert');\n",
              "        buttonEl.style.display =\n",
              "          google.colab.kernel.accessAllowed ? 'block' : 'none';\n",
              "\n",
              "        async function convertToInteractive(key) {\n",
              "          const element = document.querySelector('#df-d09341e0-2c68-475c-a219-7d1e96b69141');\n",
              "          const dataTable =\n",
              "            await google.colab.kernel.invokeFunction('convertToInteractive',\n",
              "                                                     [key], {});\n",
              "          if (!dataTable) return;\n",
              "\n",
              "          const docLinkHtml = 'Like what you see? Visit the ' +\n",
              "            '<a target=\"_blank\" href=https://colab.research.google.com/notebooks/data_table.ipynb>data table notebook</a>'\n",
              "            + ' to learn more about interactive tables.';\n",
              "          element.innerHTML = '';\n",
              "          dataTable['output_type'] = 'display_data';\n",
              "          await google.colab.output.renderOutput(dataTable, element);\n",
              "          const docLink = document.createElement('div');\n",
              "          docLink.innerHTML = docLinkHtml;\n",
              "          element.appendChild(docLink);\n",
              "        }\n",
              "      </script>\n",
              "    </div>\n",
              "  </div>\n",
              "  "
            ]
          },
          "metadata": {},
          "execution_count": 12
        }
      ]
    },
    {
      "cell_type": "markdown",
      "source": [
        "####**Mengatasi Missing Values**"
      ],
      "metadata": {
        "id": "X6KnoUzGIn7g"
      }
    },
    {
      "cell_type": "code",
      "source": [
        "movies.info()"
      ],
      "metadata": {
        "id": "AQET0VV4kUjz",
        "colab": {
          "base_uri": "https://localhost:8080/"
        },
        "outputId": "fddd2605-e1dd-46b9-c9f5-f035d1c4cf39"
      },
      "execution_count": null,
      "outputs": [
        {
          "output_type": "stream",
          "name": "stdout",
          "text": [
            "<class 'pandas.core.frame.DataFrame'>\n",
            "RangeIndex: 16744 entries, 0 to 16743\n",
            "Data columns (total 16 columns):\n",
            " #   Column           Non-Null Count  Dtype  \n",
            "---  ------           --------------  -----  \n",
            " 0   ID               16744 non-null  int64  \n",
            " 1   Title            16744 non-null  object \n",
            " 2   Year             16744 non-null  int64  \n",
            " 3   Age              7354 non-null   object \n",
            " 4   IMDb             16173 non-null  float64\n",
            " 5   Rotten Tomatoes  5158 non-null   object \n",
            " 6   Netflix          16744 non-null  int64  \n",
            " 7   Hulu             16744 non-null  int64  \n",
            " 8   Prime Video      16744 non-null  int64  \n",
            " 9   Disney+          16744 non-null  int64  \n",
            " 10  Type             16744 non-null  int64  \n",
            " 11  Directors        16018 non-null  object \n",
            " 12  Genres           16469 non-null  object \n",
            " 13  Country          16309 non-null  object \n",
            " 14  Language         16145 non-null  object \n",
            " 15  Runtime          16152 non-null  float64\n",
            "dtypes: float64(2), int64(7), object(7)\n",
            "memory usage: 2.0+ MB\n"
          ]
        }
      ]
    },
    {
      "cell_type": "markdown",
      "source": [
        "Periksa null values"
      ],
      "metadata": {
        "id": "ioPxW1JJEWop"
      }
    },
    {
      "cell_type": "code",
      "source": [
        "sns.heatmap(movies.isnull(),yticklabels=False,cbar=False)"
      ],
      "metadata": {
        "colab": {
          "base_uri": "https://localhost:8080/"
        },
        "id": "O6N1MdiXdZox",
        "outputId": "4bc5dc21-236e-4e9f-ae0a-e9dbde781b71"
      },
      "execution_count": null,
      "outputs": [
        {
          "output_type": "execute_result",
          "data": {
            "text/plain": [
              "<matplotlib.axes._subplots.AxesSubplot at 0x7fc8128e8350>"
            ]
          },
          "metadata": {},
          "execution_count": 14
        },
        {
          "output_type": "display_data",
          "data": {
            "text/plain": [
              "<Figure size 432x288 with 1 Axes>"
            ],
            "image/png": "[encoded data removed]"
          },
          "metadata": {
            "needs_background": "light"
          }
        }
      ]
    },
    {
      "cell_type": "code",
      "execution_count": null,
      "metadata": {
        "id": "U8GyAAA6eEJ4",
        "colab": {
          "base_uri": "https://localhost:8080/"
        },
        "outputId": "abd06c65-6d00-420c-a7d1-cbb088467d33"
      },
      "outputs": [
        {
          "output_type": "execute_result",
          "data": {
            "text/plain": [
              "ID                     0\n",
              "Title                  0\n",
              "Year                   0\n",
              "Age                 9390\n",
              "IMDb                 571\n",
              "Rotten Tomatoes    11586\n",
              "Netflix                0\n",
              "Hulu                   0\n",
              "Prime Video            0\n",
              "Disney+                0\n",
              "Type                   0\n",
              "Directors            726\n",
              "Genres               275\n",
              "Country              435\n",
              "Language             599\n",
              "Runtime              592\n",
              "dtype: int64"
            ]
          },
          "metadata": {},
          "execution_count": 15
        }
      ],
      "source": [
        "movies.isnull().sum()"
      ]
    },
    {
      "cell_type": "markdown",
      "source": [
        "Didapat bahwa \"Rotten Tomatoes\" memiliki jumlah missing value yang paling banyak diantara variabel lainnya. Dengan pertimbangan nilai rating yang digunakan masih dapat didasarkan pada variabel \"IMDb\", variabel \"Rotten Tomatoes\" akan di drop."
      ],
      "metadata": {
        "id": "AsSrDeUYI90f"
      }
    },
    {
      "cell_type": "code",
      "source": [
        "movies.drop(columns = 'Rotten Tomatoes', inplace = True)"
      ],
      "metadata": {
        "id": "Y9HEQZgA5fjo"
      },
      "execution_count": null,
      "outputs": []
    },
    {
      "cell_type": "markdown",
      "source": [
        "#### **Mengatasi variabel yang kurang relevan**"
      ],
      "metadata": {
        "id": "UDdwWY70KZxJ"
      }
    },
    {
      "cell_type": "code",
      "source": [
        "movies['Type'].unique()"
      ],
      "metadata": {
        "colab": {
          "base_uri": "https://localhost:8080/"
        },
        "id": "1KS4YcvDlqhl",
        "outputId": "f8921c38-c850-4697-ed77-87d494c4dc9f"
      },
      "execution_count": null,
      "outputs": [
        {
          "output_type": "execute_result",
          "data": {
            "text/plain": [
              "array([0])"
            ]
          },
          "metadata": {},
          "execution_count": 17
        }
      ]
    },
    {
      "cell_type": "markdown",
      "source": [
        "Variabel type seharusnya menunjukkan bahwa judul tersebut merupakan film atau serial, namun terlihat bahwa semuanya berjenis '0' yang tidak menggambarkan apapun. Maka, kolom ini akan di drop dengan pertimbangan bahwa kolom ini tidak dapat digunakan untuk visualisasi."
      ],
      "metadata": {
        "id": "5B68ckz_KpNz"
      }
    },
    {
      "cell_type": "code",
      "source": [
        "movies.drop(columns = 'Type', inplace = True)\n",
        "movies"
      ],
      "metadata": {
        "colab": {
          "base_uri": "https://localhost:8080/"
        },
        "id": "g-oBfK3Wl-io",
        "outputId": "05bb030b-ff14-4b28-931d-4d1191b0da10"
      },
      "execution_count": null,
      "outputs": [
        {
          "output_type": "execute_result",
          "data": {
            "text/plain": [
              "          ID                           Title  Year  Age  IMDb  Netflix  Hulu  \\\n",
              "0          1                       Inception  2010  13+   8.8        1     0   \n",
              "1          2                      The Matrix  1999  18+   8.7        1     0   \n",
              "2          3          Avengers: Infinity War  2018  13+   8.5        1     0   \n",
              "3          4              Back to the Future  1985   7+   8.5        1     0   \n",
              "4          5  The Good, the Bad and the Ugly  1966  18+   8.8        1     0   \n",
              "...      ...                             ...   ...  ...   ...      ...   ...   \n",
              "16739  16740       The Ghosts of Buxley Hall  1980  NaN   6.2        0     0   \n",
              "16740  16741                  The Poof Point  2001   7+   4.7        0     0   \n",
              "16741  16742           Sharks of Lost Island  2013  NaN   5.7        0     0   \n",
              "16742  16743              Man Among Cheetahs  2017  NaN   6.6        0     0   \n",
              "16743  16744                In Beaver Valley  1950  NaN   NaN        0     0   \n",
              "\n",
              "       Prime Video  Disney+                       Directors  \\\n",
              "0                0        0               Christopher Nolan   \n",
              "1                0        0  Lana Wachowski,Lilly Wachowski   \n",
              "2                0        0         Anthony Russo,Joe Russo   \n",
              "3                0        0                 Robert Zemeckis   \n",
              "4                1        0                    Sergio Leone   \n",
              "...            ...      ...                             ...   \n",
              "16739            0        1                    Bruce Bilson   \n",
              "16740            0        1                     Neal Israel   \n",
              "16741            0        1                    Neil Gelinas   \n",
              "16742            0        1            Richard Slater-Jones   \n",
              "16743            0        1                     James Algar   \n",
              "\n",
              "                                 Genres                       Country  \\\n",
              "0      Action,Adventure,Sci-Fi,Thriller  United States,United Kingdom   \n",
              "1                         Action,Sci-Fi                 United States   \n",
              "2               Action,Adventure,Sci-Fi                 United States   \n",
              "3               Adventure,Comedy,Sci-Fi                 United States   \n",
              "4                               Western      Italy,Spain,West Germany   \n",
              "...                                 ...                           ...   \n",
              "16739      Comedy,Family,Fantasy,Horror                 United States   \n",
              "16740              Comedy,Family,Sci-Fi                 United States   \n",
              "16741                       Documentary                 United States   \n",
              "16742                       Documentary                 United States   \n",
              "16743          Documentary,Short,Family                 United States   \n",
              "\n",
              "                      Language  Runtime  \n",
              "0      English,Japanese,French    148.0  \n",
              "1                      English    136.0  \n",
              "2                      English    149.0  \n",
              "3                      English    116.0  \n",
              "4                      Italian    161.0  \n",
              "...                        ...      ...  \n",
              "16739                  English    120.0  \n",
              "16740                  English     90.0  \n",
              "16741                  English      NaN  \n",
              "16742                  English      NaN  \n",
              "16743                  English     32.0  \n",
              "\n",
              "[16744 rows x 14 columns]"
            ],
            "text/html": [
              "\n",
              "  <div id=\"df-7deaa82e-a6b6-4060-b44a-0fd79fe53fde\">\n",
              "    <div class=\"colab-df-container\">\n",
              "      <div>\n",
              "<style scoped>\n",
              "    .dataframe tbody tr th:only-of-type {\n",
              "        vertical-align: middle;\n",
              "    }\n",
              "\n",
              "    .dataframe tbody tr th {\n",
              "        vertical-align: top;\n",
              "    }\n",
              "\n",
              "    .dataframe thead th {\n",
              "        text-align: right;\n",
              "    }\n",
              "</style>\n",
              "<table border=\"1\" class=\"dataframe\">\n",
              "  <thead>\n",
              "    <tr style=\"text-align: right;\">\n",
              "      <th></th>\n",
              "      <th>ID</th>\n",
              "      <th>Title</th>\n",
              "      <th>Year</th>\n",
              "      <th>Age</th>\n",
              "      <th>IMDb</th>\n",
              "      <th>Netflix</th>\n",
              "      <th>Hulu</th>\n",
              "      <th>Prime Video</th>\n",
              "      <th>Disney+</th>\n",
              "      <th>Directors</th>\n",
              "      <th>Genres</th>\n",
              "      <th>Country</th>\n",
              "      <th>Language</th>\n",
              "      <th>Runtime</th>\n",
              "    </tr>\n",
              "  </thead>\n",
              "  <tbody>\n",
              "    <tr>\n",
              "      <th>0</th>\n",
              "      <td>1</td>\n",
              "      <td>Inception</td>\n",
              "      <td>2010</td>\n",
              "      <td>13+</td>\n",
              "      <td>8.8</td>\n",
              "      <td>1</td>\n",
              "      <td>0</td>\n",
              "      <td>0</td>\n",
              "      <td>0</td>\n",
              "      <td>Christopher Nolan</td>\n",
              "      <td>Action,Adventure,Sci-Fi,Thriller</td>\n",
              "      <td>United States,United Kingdom</td>\n",
              "      <td>English,Japanese,French</td>\n",
              "      <td>148.0</td>\n",
              "    </tr>\n",
              "    <tr>\n",
              "      <th>1</th>\n",
              "      <td>2</td>\n",
              "      <td>The Matrix</td>\n",
              "      <td>1999</td>\n",
              "      <td>18+</td>\n",
              "      <td>8.7</td>\n",
              "      <td>1</td>\n",
              "      <td>0</td>\n",
              "      <td>0</td>\n",
              "      <td>0</td>\n",
              "      <td>Lana Wachowski,Lilly Wachowski</td>\n",
              "      <td>Action,Sci-Fi</td>\n",
              "      <td>United States</td>\n",
              "      <td>English</td>\n",
              "      <td>136.0</td>\n",
              "    </tr>\n",
              "    <tr>\n",
              "      <th>2</th>\n",
              "      <td>3</td>\n",
              "      <td>Avengers: Infinity War</td>\n",
              "      <td>2018</td>\n",
              "      <td>13+</td>\n",
              "      <td>8.5</td>\n",
              "      <td>1</td>\n",
              "      <td>0</td>\n",
              "      <td>0</td>\n",
              "      <td>0</td>\n",
              "      <td>Anthony Russo,Joe Russo</td>\n",
              "      <td>Action,Adventure,Sci-Fi</td>\n",
              "      <td>United States</td>\n",
              "      <td>English</td>\n",
              "      <td>149.0</td>\n",
              "    </tr>\n",
              "    <tr>\n",
              "      <th>3</th>\n",
              "      <td>4</td>\n",
              "      <td>Back to the Future</td>\n",
              "      <td>1985</td>\n",
              "      <td>7+</td>\n",
              "      <td>8.5</td>\n",
              "      <td>1</td>\n",
              "      <td>0</td>\n",
              "      <td>0</td>\n",
              "      <td>0</td>\n",
              "      <td>Robert Zemeckis</td>\n",
              "      <td>Adventure,Comedy,Sci-Fi</td>\n",
              "      <td>United States</td>\n",
              "      <td>English</td>\n",
              "      <td>116.0</td>\n",
              "    </tr>\n",
              "    <tr>\n",
              "      <th>4</th>\n",
              "      <td>5</td>\n",
              "      <td>The Good, the Bad and the Ugly</td>\n",
              "      <td>1966</td>\n",
              "      <td>18+</td>\n",
              "      <td>8.8</td>\n",
              "      <td>1</td>\n",
              "      <td>0</td>\n",
              "      <td>1</td>\n",
              "      <td>0</td>\n",
              "      <td>Sergio Leone</td>\n",
              "      <td>Western</td>\n",
              "      <td>Italy,Spain,West Germany</td>\n",
              "      <td>Italian</td>\n",
              "      <td>161.0</td>\n",
              "    </tr>\n",
              "    <tr>\n",
              "      <th>...</th>\n",
              "      <td>...</td>\n",
              "      <td>...</td>\n",
              "      <td>...</td>\n",
              "      <td>...</td>\n",
              "      <td>...</td>\n",
              "      <td>...</td>\n",
              "      <td>...</td>\n",
              "      <td>...</td>\n",
              "      <td>...</td>\n",
              "      <td>...</td>\n",
              "      <td>...</td>\n",
              "      <td>...</td>\n",
              "      <td>...</td>\n",
              "      <td>...</td>\n",
              "    </tr>\n",
              "    <tr>\n",
              "      <th>16739</th>\n",
              "      <td>16740</td>\n",
              "      <td>The Ghosts of Buxley Hall</td>\n",
              "      <td>1980</td>\n",
              "      <td>NaN</td>\n",
              "      <td>6.2</td>\n",
              "      <td>0</td>\n",
              "      <td>0</td>\n",
              "      <td>0</td>\n",
              "      <td>1</td>\n",
              "      <td>Bruce Bilson</td>\n",
              "      <td>Comedy,Family,Fantasy,Horror</td>\n",
              "      <td>United States</td>\n",
              "      <td>English</td>\n",
              "      <td>120.0</td>\n",
              "    </tr>\n",
              "    <tr>\n",
              "      <th>16740</th>\n",
              "      <td>16741</td>\n",
              "      <td>The Poof Point</td>\n",
              "      <td>2001</td>\n",
              "      <td>7+</td>\n",
              "      <td>4.7</td>\n",
              "      <td>0</td>\n",
              "      <td>0</td>\n",
              "      <td>0</td>\n",
              "      <td>1</td>\n",
              "      <td>Neal Israel</td>\n",
              "      <td>Comedy,Family,Sci-Fi</td>\n",
              "      <td>United States</td>\n",
              "      <td>English</td>\n",
              "      <td>90.0</td>\n",
              "    </tr>\n",
              "    <tr>\n",
              "      <th>16741</th>\n",
              "      <td>16742</td>\n",
              "      <td>Sharks of Lost Island</td>\n",
              "      <td>2013</td>\n",
              "      <td>NaN</td>\n",
              "      <td>5.7</td>\n",
              "      <td>0</td>\n",
              "      <td>0</td>\n",
              "      <td>0</td>\n",
              "      <td>1</td>\n",
              "      <td>Neil Gelinas</td>\n",
              "      <td>Documentary</td>\n",
              "      <td>United States</td>\n",
              "      <td>English</td>\n",
              "      <td>NaN</td>\n",
              "    </tr>\n",
              "    <tr>\n",
              "      <th>16742</th>\n",
              "      <td>16743</td>\n",
              "      <td>Man Among Cheetahs</td>\n",
              "      <td>2017</td>\n",
              "      <td>NaN</td>\n",
              "      <td>6.6</td>\n",
              "      <td>0</td>\n",
              "      <td>0</td>\n",
              "      <td>0</td>\n",
              "      <td>1</td>\n",
              "      <td>Richard Slater-Jones</td>\n",
              "      <td>Documentary</td>\n",
              "      <td>United States</td>\n",
              "      <td>English</td>\n",
              "      <td>NaN</td>\n",
              "    </tr>\n",
              "    <tr>\n",
              "      <th>16743</th>\n",
              "      <td>16744</td>\n",
              "      <td>In Beaver Valley</td>\n",
              "      <td>1950</td>\n",
              "      <td>NaN</td>\n",
              "      <td>NaN</td>\n",
              "      <td>0</td>\n",
              "      <td>0</td>\n",
              "      <td>0</td>\n",
              "      <td>1</td>\n",
              "      <td>James Algar</td>\n",
              "      <td>Documentary,Short,Family</td>\n",
              "      <td>United States</td>\n",
              "      <td>English</td>\n",
              "      <td>32.0</td>\n",
              "    </tr>\n",
              "  </tbody>\n",
              "</table>\n",
              "<p>16744 rows × 14 columns</p>\n",
              "</div>\n",
              "      <button class=\"colab-df-convert\" onclick=\"convertToInteractive('df-7deaa82e-a6b6-4060-b44a-0fd79fe53fde')\"\n",
              "              title=\"Convert this dataframe to an interactive table.\"\n",
              "              style=\"display:none;\">\n",
              "        \n",
              "  <svg xmlns=\"http://www.w3.org/2000/svg\" height=\"24px\"viewBox=\"0 0 24 24\"\n",
              "       width=\"24px\">\n",
              "    <path d=\"M0 0h24v24H0V0z\" fill=\"none\"/>\n",
              "    <path d=\"M18.56 5.44l.94 2.06.94-2.06 2.06-.94-2.06-.94-.94-2.06-.94 2.06-2.06.94zm-11 1L8.5 8.5l.94-2.06 2.06-.94-2.06-.94L8.5 2.5l-.94 2.06-2.06.94zm10 10l.94 2.06.94-2.06 2.06-.94-2.06-.94-.94-2.06-.94 2.06-2.06.94z\"/><path d=\"M17.41 7.96l-1.37-1.37c-.4-.4-.92-.59-1.43-.59-.52 0-1.04.2-1.43.59L10.3 9.45l-7.72 7.72c-.78.78-.78 2.05 0 2.83L4 21.41c.39.39.9.59 1.41.59.51 0 1.02-.2 1.41-.59l7.78-7.78 2.81-2.81c.8-.78.8-2.07 0-2.86zM5.41 20L4 18.59l7.72-7.72 1.47 1.35L5.41 20z\"/>\n",
              "  </svg>\n",
              "      </button>\n",
              "      \n",
              "  <style>\n",
              "    .colab-df-container {\n",
              "      display:flex;\n",
              "      flex-wrap:wrap;\n",
              "      gap: 12px;\n",
              "    }\n",
              "\n",
              "    .colab-df-convert {\n",
              "      background-color: #E8F0FE;\n",
              "      border: none;\n",
              "      border-radius: 50%;\n",
              "      cursor: pointer;\n",
              "      display: none;\n",
              "      fill: #1967D2;\n",
              "      height: 32px;\n",
              "      padding: 0 0 0 0;\n",
              "      width: 32px;\n",
              "    }\n",
              "\n",
              "    .colab-df-convert:hover {\n",
              "      background-color: #E2EBFA;\n",
              "      box-shadow: 0px 1px 2px rgba(60, 64, 67, 0.3), 0px 1px 3px 1px rgba(60, 64, 67, 0.15);\n",
              "      fill: #174EA6;\n",
              "    }\n",
              "\n",
              "    [theme=dark] .colab-df-convert {\n",
              "      background-color: #3B4455;\n",
              "      fill: #D2E3FC;\n",
              "    }\n",
              "\n",
              "    [theme=dark] .colab-df-convert:hover {\n",
              "      background-color: #434B5C;\n",
              "      box-shadow: 0px 1px 3px 1px rgba(0, 0, 0, 0.15);\n",
              "      filter: drop-shadow(0px 1px 2px rgba(0, 0, 0, 0.3));\n",
              "      fill: #FFFFFF;\n",
              "    }\n",
              "  </style>\n",
              "\n",
              "      <script>\n",
              "        const buttonEl =\n",
              "          document.querySelector('#df-7deaa82e-a6b6-4060-b44a-0fd79fe53fde button.colab-df-convert');\n",
              "        buttonEl.style.display =\n",
              "          google.colab.kernel.accessAllowed ? 'block' : 'none';\n",
              "\n",
              "        async function convertToInteractive(key) {\n",
              "          const element = document.querySelector('#df-7deaa82e-a6b6-4060-b44a-0fd79fe53fde');\n",
              "          const dataTable =\n",
              "            await google.colab.kernel.invokeFunction('convertToInteractive',\n",
              "                                                     [key], {});\n",
              "          if (!dataTable) return;\n",
              "\n",
              "          const docLinkHtml = 'Like what you see? Visit the ' +\n",
              "            '<a target=\"_blank\" href=https://colab.research.google.com/notebooks/data_table.ipynb>data table notebook</a>'\n",
              "            + ' to learn more about interactive tables.';\n",
              "          element.innerHTML = '';\n",
              "          dataTable['output_type'] = 'display_data';\n",
              "          await google.colab.output.renderOutput(dataTable, element);\n",
              "          const docLink = document.createElement('div');\n",
              "          docLink.innerHTML = docLinkHtml;\n",
              "          element.appendChild(docLink);\n",
              "        }\n",
              "      </script>\n",
              "    </div>\n",
              "  </div>\n",
              "  "
            ]
          },
          "metadata": {},
          "execution_count": 18
        }
      ]
    },
    {
      "cell_type": "markdown",
      "source": [
        "###**Data Text**"
      ],
      "metadata": {
        "id": "A2De-Y5B4kKT"
      }
    },
    {
      "cell_type": "code",
      "source": [
        "# melakukan data cleaning dengan stopwords didasarkan pada bahasa indonesia\n",
        "stopId, lemmaId = tau.LoadStopWords(lang='id')\n",
        "slangFixId = tau.loadCorpus(file = 'data/slang.txt', sep=':')\n",
        "\n",
        "cleaned_data = []\n",
        "for tweet in tqdm(tweets):\n",
        "    cleaned_data.append(tau.cleanText(tweet, lemma=lemmaId, lan='id', stops = stopId, fix=slangFixId))\n",
        "\n",
        "cleaned_data[:7]"
      ],
      "metadata": {
        "id": "eHDwXhQFn2EF",
        "colab": {
          "base_uri": "https://localhost:8080/"
        },
        "outputId": "d220c185-d3e2-4376-fe25-3ab0656f7639"
      },
      "execution_count": null,
      "outputs": [
        {
          "output_type": "stream",
          "name": "stderr",
          "text": [
            "100%|██████████| 1414/1414 [04:17<00:00,  5.49it/s]\n"
          ]
        },
        {
          "output_type": "execute_result",
          "data": {
            "text/plain": [
              "['rt piargh nomor smart televisi nomor wifi and televisi korang layan netflix disney hotstar prime video youtube',\n",
              " 'rt piargh nomor smart televisi nomor wifi and televisi korang layan netflix disney hotstar prime video youtube',\n",
              " 'rt jpfbase jpf kakegurui twin new pv release global tanggal agustus netflix mappa studio ngomong-ngomong mary',\n",
              " 'kemarin netflix rilis teaser lanjut episode season the cuphead show episode rilis agustus the cuphead show serial sedia netflix libat dubber indonesia baik',\n",
              " 'rt piargh nomor smart televisi nomor wifi and televisi korang layan netflix disney hotstar prime video youtube',\n",
              " 'rt piargh nomor smart televisi nomor wifi and televisi korang layan netflix disney hotstar prime video youtube',\n",
              " 'ngelaugh netflix kakk video shar ayo kak']"
            ]
          },
          "metadata": {},
          "execution_count": 19
        }
      ]
    },
    {
      "cell_type": "markdown",
      "source": [
        "Dapat terlihat dari sampel data yang diambil, data tweets mengenai SVOD dapat dikatakan menjadi lebih bersih dan mudah untuk diolah."
      ],
      "metadata": {
        "id": "7fF0tgzGq1bQ"
      }
    },
    {
      "cell_type": "markdown",
      "source": [
        "## **Visualisasi**"
      ],
      "metadata": {
        "id": "ErLkASKTLT0a"
      }
    },
    {
      "cell_type": "markdown",
      "source": [
        "### **Jumlah Film Per Platform**"
      ],
      "metadata": {
        "id": "Zvoye3icb_rC"
      }
    },
    {
      "cell_type": "code",
      "source": [
        "movies.sum()"
      ],
      "metadata": {
        "colab": {
          "base_uri": "https://localhost:8080/"
        },
        "id": "hk3TzbF_I7sn",
        "outputId": "9745a434-57fd-4324-bd52-6751b6b17139"
      },
      "execution_count": null,
      "outputs": [
        {
          "output_type": "execute_result",
          "data": {
            "text/plain": [
              "ID                                                     140189140\n",
              "Title          InceptionThe MatrixAvengers: Infinity WarBack ...\n",
              "Year                                                    33538467\n",
              "IMDb                                                     95465.2\n",
              "Netflix                                                     3560\n",
              "Hulu                                                         903\n",
              "Prime Video                                                12354\n",
              "Disney+                                                      564\n",
              "Runtime                                                1508814.0\n",
              "dtype: object"
            ]
          },
          "metadata": {},
          "execution_count": 20
        }
      ]
    },
    {
      "cell_type": "markdown",
      "source": [
        "Dari informasi tersebut terlihat bahwa prime video memiliki jumlah film paling banyak di antara platform lainnya."
      ],
      "metadata": {
        "id": "ZFO5HlqKLxq5"
      }
    },
    {
      "cell_type": "code",
      "source": [
        "def addlabels(x,y):\n",
        "    for i in range(len(x)):\n",
        "        plt.text(i, y[i], y[i], ha = 'center', fontsize=20, Bbox = dict(facecolor = 'white', alpha =.8))\n",
        "\n",
        "plt.rcParams[\"figure.figsize\"] = (20,10)\n",
        "\n",
        "X_jumlah_netflix =  ['Netflix','Hulu','Prime Video', 'Disney+']\n",
        "jumlah_netflix = movies['Netflix'].sum()\n",
        "jumlah_hulu = movies['Hulu'].sum()\n",
        "jumlah_prime = movies['Prime Video'].sum()\n",
        "jumlah_disney = movies['Disney+'].sum()\n",
        "\n",
        "X_axis_jumlah = np.arange(len(X_jumlah_netflix))\n",
        "\n",
        "\n",
        "plt.bar(0  +0, jumlah_netflix, 0.5, label = 'Netflix')\n",
        "plt.bar(1  +0, jumlah_hulu, 0.5, label = 'Hulu')\n",
        "plt.bar(2  +0, jumlah_prime, 0.5, label = 'Prime Video')\n",
        "plt.bar(3  +0, jumlah_disney, 0.5, label = 'Disney+')\n",
        "addlabels(X_jumlah_netflix, [jumlah_netflix, jumlah_hulu, jumlah_prime, jumlah_disney])\n",
        "plt.xticks(X_axis_jumlah, ['Netflix','Hulu','Prime Video', 'Disney+'])\n",
        "plt.xlabel(\"Platform\")\n",
        "plt.ylabel(\"Jumlah Film\")\n",
        "plt.title(\"Jumlah Film Berdasarkan Platform\")\n",
        "plt.legend()\n",
        "plt.show()"
      ],
      "metadata": {
        "colab": {
          "base_uri": "https://localhost:8080/"
        },
        "id": "d3UOuNlcKmOF",
        "outputId": "024ae124-6a90-41d7-fc20-aebaee8793f2"
      },
      "execution_count": null,
      "outputs": [
        {
          "output_type": "display_data",
          "data": {
            "text/plain": [
              "<Figure size 1440x720 with 1 Axes>"
            ],
            "image/png": "[encoded data removed]"
          },
          "metadata": {
            "needs_background": "light"
          }
        }
      ]
    },
    {
      "cell_type": "markdown",
      "source": [
        "### **Jumlah Film Berdasarkan Tahun per Platform**\n",
        "- Jumlah Film Berdasarkan Tahun Rilis\n",
        "- Jumlah Film Terbaru 2010s per Platform"
      ],
      "metadata": {
        "id": "4AEix2mKcGaL"
      }
    },
    {
      "cell_type": "code",
      "source": [
        "x =  ['Netflix','Hulu','Prime Video', 'Disney+']"
      ],
      "metadata": {
        "id": "sdFjT7ASMFTW"
      },
      "execution_count": null,
      "outputs": []
    },
    {
      "cell_type": "code",
      "source": [
        "df_tahun = movies\n",
        "for i in range(len(df_tahun['Year'])):\n",
        "  if math.isnan(df_tahun['Year'][i]) == True:\n",
        "    continue\n",
        "  else:\n",
        "    df_tahun['Year'][i] = math.floor(df_tahun['Year'][i])"
      ],
      "metadata": {
        "id": "VEy2u4aqExax"
      },
      "execution_count": null,
      "outputs": []
    },
    {
      "cell_type": "code",
      "source": [
        "tahun_netflix = 0\n",
        "sum_tahun_netflix = 0\n",
        "tahun_hulu = 0\n",
        "sum_tahun_hulu = 0\n",
        "tahun_prime = 0\n",
        "sum_tahun_prime = 0\n",
        "tahun_disney = 0\n",
        "sum_tahun_disney = 0\n",
        "\n",
        "for i in range(len(movies['ID'])):\n",
        "  if math.isnan(df_tahun['Year'][i]) == False:\n",
        "    if movies['Netflix'][i] == 1:\n",
        "      tahun_netflix+=movies['Year'][i]\n",
        "      sum_tahun_netflix+=1\n",
        "    elif movies['Hulu'][i] == 1:\n",
        "      tahun_hulu+=movies['Year'][i]\n",
        "      sum_tahun_hulu+=1\n",
        "    elif movies['Prime Video'][i] == 1:\n",
        "      tahun_prime+=movies['Year'][i]\n",
        "      sum_tahun_prime+=1\n",
        "    elif movies['Disney+'][i] == 1:\n",
        "      tahun_disney+=movies['Year'][i]\n",
        "      sum_tahun_disney+=1"
      ],
      "metadata": {
        "id": "4y-Cloo8E0YZ"
      },
      "execution_count": null,
      "outputs": []
    },
    {
      "cell_type": "code",
      "source": [
        "rata_netflix_tahun = round(tahun_netflix/sum_tahun_netflix, 2)\n",
        "rata_hulu_tahun = round(tahun_hulu/sum_tahun_hulu, 2)\n",
        "rata_prime_tahun = round(tahun_prime/sum_tahun_prime, 2)\n",
        "rata_disney_tahun = round(tahun_disney/sum_tahun_disney, 2)"
      ],
      "metadata": {
        "id": "dNOr-PvfE2Eh"
      },
      "execution_count": null,
      "outputs": []
    },
    {
      "cell_type": "code",
      "source": [
        "def addlabels(x,y):\n",
        "    for i in range(len(x)):\n",
        "        plt.text(i, y[i], y[i], ha = 'center', fontsize=20, Bbox = dict(facecolor = 'white', alpha =.8))\n",
        "\n",
        "data = {'Netflix':rata_netflix_tahun, 'Hulu':rata_hulu_tahun, 'Prime Video':rata_prime_tahun,\n",
        "        'Disney+':rata_disney_tahun}\n",
        "platform = list(data.keys())\n",
        "rata = list(data.values())\n",
        "\n",
        "# creating the bar plot\n",
        "plt.bar(platform, rata, color = ['tab:blue', 'tab:orange', 'tab:green', 'tab:red'], width = 0.4)\n",
        "addlabels(platform, rata)\n",
        "plt.xlabel(\"Platform\")\n",
        "plt.ylabel(\"Tahun Rilis\")\n",
        "plt.title(\"Rata-rata Tahun Rilis Film Berdasarkan Platform\")\n",
        "\n",
        "\n",
        "plt.show()"
      ],
      "metadata": {
        "id": "Pe__cO1VE4CR",
        "colab": {
          "base_uri": "https://localhost:8080/"
        },
        "outputId": "973e8d8a-7f6f-46b7-a8c4-7ea54affca56"
      },
      "execution_count": null,
      "outputs": [
        {
          "output_type": "display_data",
          "data": {
            "text/plain": [
              "<Figure size 1440x720 with 1 Axes>"
            ],
            "image/png": "[encoded data removed]"
          },
          "metadata": {
            "needs_background": "light"
          }
        }
      ]
    },
    {
      "cell_type": "code",
      "source": [
        "# Karena range tahun terlalu luas, jika divisualisasikan hasilnya akan kurang terlihat. Maka akan dikelompokkan tahun-tahun tersebut menjadi 7 bagian.\n",
        "def tahun(data):\n",
        "    data_str = str(data).strip()\n",
        "    if data in range(1910,1960):\n",
        "      return '<1960s'\n",
        "    if data in range(1960,1970):\n",
        "      return '1960s'\n",
        "    if data in range(1970,1980):\n",
        "      return '1970s'\n",
        "    if data in range(1980,1990):\n",
        "      return '1980s'\n",
        "    if data in range(1990,2000):\n",
        "      return '1990s'\n",
        "    if data in range(2000,2010):\n",
        "      return '2000s'\n",
        "    if data in range(2010,2020):\n",
        "      return '2010s'\n",
        "\n",
        "movies['overview_tahun'] = movies['Year'].apply(tahun)"
      ],
      "metadata": {
        "id": "6sRz7bwztwoR"
      },
      "execution_count": null,
      "outputs": []
    },
    {
      "cell_type": "code",
      "source": [
        "movies['overview_tahun']"
      ],
      "metadata": {
        "colab": {
          "base_uri": "https://localhost:8080/"
        },
        "id": "FP9Wqzcdv1pR",
        "outputId": "f3e2efa0-442a-4449-c2d8-7eb3ad2caee2"
      },
      "execution_count": null,
      "outputs": [
        {
          "output_type": "execute_result",
          "data": {
            "text/plain": [
              "0         2010s\n",
              "1         1990s\n",
              "2         2010s\n",
              "3         1980s\n",
              "4         1960s\n",
              "          ...  \n",
              "16739     1980s\n",
              "16740     2000s\n",
              "16741     2010s\n",
              "16742     2010s\n",
              "16743    <1960s\n",
              "Name: overview_tahun, Length: 16744, dtype: object"
            ]
          },
          "metadata": {},
          "execution_count": 28
        }
      ]
    },
    {
      "cell_type": "code",
      "source": [
        "#Membuat list untuk divisualisasikan\n",
        "tahun_rilis = []\n",
        "for i in range(len(x)):\n",
        "  movie_count = [movies[movies['overview_tahun'] == '<1960s'][x[i]].sum(), movies[movies['overview_tahun'] == '1960s'][x[i]].sum(),\n",
        "                 movies[movies['overview_tahun'] == '1970s'][x[i]].sum(), movies[movies['overview_tahun'] == '1980s'][x[i]].sum(),\n",
        "                 movies[movies['overview_tahun'] == '1990s'][x[i]].sum(), movies[movies['overview_tahun'] == '2000s'][x[i]].sum(),\n",
        "                 movies[movies['overview_tahun'] == '2010s'][x[i]].sum()]\n",
        "  tahun_rilis.append(movie_count)"
      ],
      "metadata": {
        "id": "WZkXpjjW8HuL"
      },
      "execution_count": null,
      "outputs": []
    },
    {
      "cell_type": "code",
      "source": [
        "tahun_rilis"
      ],
      "metadata": {
        "colab": {
          "base_uri": "https://localhost:8080/"
        },
        "id": "uPKlOopA9tEE",
        "outputId": "f12dc1d8-430f-4134-cfea-6da8e515c1c4"
      },
      "execution_count": null,
      "outputs": [
        {
          "output_type": "execute_result",
          "data": {
            "text/plain": [
              "[[12, 7, 29, 66, 115, 359, 2868],\n",
              " [11, 4, 11, 24, 42, 111, 694],\n",
              " [1098, 346, 717, 661, 801, 2371, 6328],\n",
              " [40, 23, 31, 35, 84, 184, 158]]"
            ]
          },
          "metadata": {},
          "execution_count": 30
        }
      ]
    },
    {
      "cell_type": "code",
      "source": [
        "#Membuat plot\n",
        "plt.rcParams[\"figure.figsize\"] = (20,10)\n",
        "\n",
        "X =  ['<1960s', '1960s', '1970s', '1980s', '1990s', '2000s', '2010s']\n",
        "netflix_tahun = tahun_rilis[0]\n",
        "hulu_tahun = tahun_rilis[1]\n",
        "prime_tahun = tahun_rilis[2]\n",
        "disney_tahun = tahun_rilis[3]\n",
        "\n",
        "X_axis = np.arange(len(X))\n",
        "\n",
        "plt.bar(X_axis - 0.4, netflix_tahun, 0.2, label = 'Netflix')\n",
        "plt.bar(X_axis - 0.2, hulu_tahun, 0.2, label = 'Hulu')\n",
        "plt.bar(X_axis +0, prime_tahun, 0.2, label = 'Prime Video')\n",
        "plt.bar(X_axis +0.2, disney_tahun, 0.2, label = 'Disney+')\n",
        "\n",
        "plt.xticks(X_axis, X)\n",
        "plt.xlabel(\"Tahun Rilis\")\n",
        "plt.ylabel(\"Jumlah Film\")\n",
        "plt.title(\"Jumlah Film Berdasarkan Tahun Rilis\")\n",
        "plt.legend()\n",
        "plt.show()"
      ],
      "metadata": {
        "colab": {
          "base_uri": "https://localhost:8080/"
        },
        "id": "EKIwMOHl-OTv",
        "outputId": "12f8f5cf-0094-4508-8b9e-9a95265624af"
      },
      "execution_count": null,
      "outputs": [
        {
          "output_type": "display_data",
          "data": {
            "text/plain": [
              "<Figure size 1440x720 with 1 Axes>"
            ],
            "image/png": "[encoded data removed]"
          },
          "metadata": {
            "needs_background": "light"
          }
        }
      ]
    },
    {
      "cell_type": "markdown",
      "source": [
        "###**Jumlah Film Berdasarkan Umur per Platform**"
      ],
      "metadata": {
        "id": "zWXiQzfCcOkz"
      }
    },
    {
      "cell_type": "code",
      "source": [
        "#Melihat deskripsi umur yang ada\n",
        "movies['Age'].unique()"
      ],
      "metadata": {
        "colab": {
          "base_uri": "https://localhost:8080/"
        },
        "id": "VkYJ1HteCg6T",
        "outputId": "56177f6d-064a-4a89-d5d8-9c2287bfa9cc"
      },
      "execution_count": null,
      "outputs": [
        {
          "output_type": "execute_result",
          "data": {
            "text/plain": [
              "array(['13+', '18+', '7+', nan, 'all', '16+'], dtype=object)"
            ]
          },
          "metadata": {},
          "execution_count": 32
        }
      ]
    },
    {
      "cell_type": "code",
      "source": [
        "#Membuat list untuk visualisasi\n",
        "movies['overview_age'] = movies['Age']\n",
        "age_list = []\n",
        "for i in range(len(x)):\n",
        "  movie_count = [movies[movies['overview_age'] == 'all'][x[i]].sum(), movies[movies['overview_age'] == '7+'][x[i]].sum(),\n",
        "                 movies[movies['overview_age'] == '13+'][x[i]].sum(), movies[movies['overview_age'] == '16+'][x[i]].sum(),\n",
        "                 movies[movies['overview_age'] == '18+'][x[i]].sum()]\n",
        "  age_list.append(movie_count)"
      ],
      "metadata": {
        "id": "ZuCu2Qk3CyH1"
      },
      "execution_count": null,
      "outputs": []
    },
    {
      "cell_type": "code",
      "source": [
        "age_list"
      ],
      "metadata": {
        "colab": {
          "base_uri": "https://localhost:8080/"
        },
        "id": "mUQn8wsWGMOH",
        "outputId": "4760c04f-7d18-4742-82d5-89319ae67484"
      },
      "execution_count": null,
      "outputs": [
        {
          "output_type": "execute_result",
          "data": {
            "text/plain": [
              "[[130, 323, 383, 89, 752],\n",
              " [55, 109, 119, 17, 290],\n",
              " [406, 916, 819, 226, 2612],\n",
              " [277, 179, 40, 1, 3]]"
            ]
          },
          "metadata": {},
          "execution_count": 34
        }
      ]
    },
    {
      "cell_type": "code",
      "source": [
        "#Membuat plot\n",
        "plt.rcParams[\"figure.figsize\"] = (20,10)\n",
        "\n",
        "X_age =  ['all', '7+', '13+', '16+', '18+']\n",
        "netflix_umur = age_list[0]\n",
        "hulu_umur = age_list[1]\n",
        "prime_umur = age_list[2]\n",
        "disney_umur = age_list[3]\n",
        "\n",
        "X_axis_age = np.arange(len(X_age))\n",
        "\n",
        "plt.bar(X_axis_age - 0.4, netflix_umur, 0.2, label = 'Netflix')\n",
        "plt.bar(X_axis_age - 0.2, hulu_umur, 0.2, label = 'Hulu')\n",
        "plt.bar(X_axis_age +0, prime_umur, 0.2, label = 'Prime Video')\n",
        "plt.bar(X_axis_age +0.2, disney_umur, 0.2, label = 'Disney+')\n",
        "\n",
        "plt.xticks(X_axis_age, X_age)\n",
        "plt.xlabel(\"Batasan Umur\")\n",
        "plt.ylabel(\"Jumlah Film\")\n",
        "plt.title(\"Jumlah Film Berdasarkan Batasan Umur\")\n",
        "plt.legend()\n",
        "plt.show()"
      ],
      "metadata": {
        "colab": {
          "base_uri": "https://localhost:8080/",
          "height": 501
        },
        "id": "CEXSgwjGGTWq",
        "outputId": "33534113-1c00-4a76-8ef6-c4afa055d35d"
      },
      "execution_count": null,
      "outputs": [
        {
          "output_type": "display_data",
          "data": {
            "text/plain": [
              "<Figure size 1440x720 with 1 Axes>"
            ],
            "image/png": "[encoded data removed]"
          },
          "metadata": {
            "needs_background": "light"
          }
        }
      ]
    },
    {
      "cell_type": "markdown",
      "source": [
        "###**Rata Rata Rating per Platform**"
      ],
      "metadata": {
        "id": "VuK_hkeK5-T5"
      }
    },
    {
      "cell_type": "code",
      "source": [
        "df_imdb = movies\n",
        "for i in range(len(df_imdb['IMDb'])):\n",
        "  if math.isnan(df_imdb['IMDb'][i]) == True:\n",
        "    continue\n",
        "  else:\n",
        "    df_imdb['IMDb'][i] = math.floor(df_imdb['IMDb'][i])"
      ],
      "metadata": {
        "id": "kMmRwSnqMKdf"
      },
      "execution_count": null,
      "outputs": []
    },
    {
      "cell_type": "code",
      "source": [
        "#Rata Rata Rating\n",
        "imdb_netflix = 0\n",
        "sum_imdb_netflix = 0\n",
        "imdb_hulu = 0\n",
        "sum_imdb_hulu = 0\n",
        "imdb_prime = 0\n",
        "sum_imdb_prime = 0\n",
        "imdb_disney = 0\n",
        "sum_imdb_disney = 0\n",
        "\n",
        "for i in range(len(movies['ID'])):\n",
        "  if math.isnan(df_imdb['IMDb'][i]) == False:\n",
        "    if movies['Netflix'][i] == 1:\n",
        "      imdb_netflix+=movies['IMDb'][i]\n",
        "      sum_imdb_netflix+=1\n",
        "    elif movies['Hulu'][i] == 1:\n",
        "      imdb_hulu+=movies['IMDb'][i]\n",
        "      sum_imdb_hulu+=1\n",
        "    elif movies['Prime Video'][i] == 1:\n",
        "      imdb_prime+=movies['IMDb'][i]\n",
        "      sum_imdb_prime+=1\n",
        "    elif movies['Disney+'][i] == 1:\n",
        "      imdb_disney+=movies['IMDb'][i]\n",
        "      sum_imdb_disney+=1"
      ],
      "metadata": {
        "id": "wtCdjXGhO4wS"
      },
      "execution_count": null,
      "outputs": []
    },
    {
      "cell_type": "code",
      "source": [
        "rata_netflix = round(imdb_netflix/sum_imdb_netflix, 2)\n",
        "rata_hulu = round(imdb_hulu/sum_imdb_hulu, 2)\n",
        "rata_prime = round(imdb_prime/sum_imdb_prime, 2)\n",
        "rata_disney = round(imdb_disney/sum_imdb_disney, 2)"
      ],
      "metadata": {
        "id": "Z6a4ohp3Qm5E"
      },
      "execution_count": null,
      "outputs": []
    },
    {
      "cell_type": "code",
      "source": [
        "def addlabels(x,y):\n",
        "    for i in range(len(x)):\n",
        "        plt.text(i, y[i], y[i], ha = 'center', fontsize=20, Bbox = dict(facecolor = 'white', alpha =.8))\n",
        "\n",
        "data = {'Netflix':rata_netflix, 'Hulu':rata_hulu, 'Prime Video':rata_prime,\n",
        "        'Disney+':rata_disney}\n",
        "platform = list(data.keys())\n",
        "rata = list(data.values())\n",
        "\n",
        "# creating the bar plot\n",
        "plt.bar(platform, rata, color = ['tab:blue', 'tab:orange', 'tab:green', 'tab:red'], width = 0.4)\n",
        "addlabels(platform, rata)\n",
        "plt.xlabel(\"Platform\")\n",
        "plt.ylabel(\"Rata-rata Rating IMDb\")\n",
        "plt.title(\"Rata-rata Rating IMDb Berdasarkan Platform\")\n",
        "\n",
        "\n",
        "plt.show()"
      ],
      "metadata": {
        "id": "OH44YpFsQ4eO",
        "colab": {
          "base_uri": "https://localhost:8080/",
          "height": 509
        },
        "outputId": "5352dec8-ef35-400a-f719-2df4856c3566"
      },
      "execution_count": null,
      "outputs": [
        {
          "output_type": "display_data",
          "data": {
            "text/plain": [
              "<Figure size 1440x720 with 1 Axes>"
            ],
            "image/png": "[encoded data removed]"
          },
          "metadata": {
            "needs_background": "light"
          }
        }
      ]
    },
    {
      "cell_type": "markdown",
      "source": [
        "### **TOP GENRE PER PLATFORM**"
      ],
      "metadata": {
        "id": "MurKlsCVoMYj"
      }
    },
    {
      "cell_type": "markdown",
      "source": [
        "Pada dataframe movies terlihat bahwa satu judul film memiliki lebih dari satu genre. Untuk melihat top genre per platform, hal pertama yang harus dilakukan adalah memisahkan genre dalam setiap film tersebut agar mempermudah pengelompokan film berdasarkan genre.\n"
      ],
      "metadata": {
        "id": "_YNaccpi4G1X"
      }
    },
    {
      "cell_type": "code",
      "source": [
        "# membuat dataframe genre\n",
        "data_genres = movies['Genres'].apply(lambda x: str(x).split(','))\n",
        "data_genres = pd.get_dummies(data_genres.apply(pd.Series), prefix='', prefix_sep='').sum(level=0, axis=1)\n",
        "data_genres"
      ],
      "metadata": {
        "id": "PAuVcjs4f5Tv",
        "colab": {
          "base_uri": "https://localhost:8080/"
        },
        "outputId": "c411427d-3bf8-4f82-bab8-701bf70191c6"
      },
      "execution_count": null,
      "outputs": [
        {
          "output_type": "execute_result",
          "data": {
            "text/plain": [
              "       Action  Adventure  Animation  Biography  Comedy  Crime  Documentary  \\\n",
              "0           1          1          0          0       0      0            0   \n",
              "1           1          0          0          0       0      0            0   \n",
              "2           1          1          0          0       0      0            0   \n",
              "3           0          1          0          0       1      0            0   \n",
              "4           0          0          0          0       0      0            0   \n",
              "...       ...        ...        ...        ...     ...    ...          ...   \n",
              "16739       0          0          0          0       1      0            0   \n",
              "16740       0          0          0          0       1      0            0   \n",
              "16741       0          0          0          0       0      0            1   \n",
              "16742       0          0          0          0       0      0            1   \n",
              "16743       0          0          0          0       0      0            1   \n",
              "\n",
              "       Drama  Family  Fantasy  ...  Reality-TV  Romance  Sci-Fi  Short  Sport  \\\n",
              "0          0       0        0  ...           0        0       1      0      0   \n",
              "1          0       0        0  ...           0        0       1      0      0   \n",
              "2          0       0        0  ...           0        0       1      0      0   \n",
              "3          0       0        0  ...           0        0       1      0      0   \n",
              "4          0       0        0  ...           0        0       0      0      0   \n",
              "...      ...     ...      ...  ...         ...      ...     ...    ...    ...   \n",
              "16739      0       1        1  ...           0        0       0      0      0   \n",
              "16740      0       1        0  ...           0        0       1      0      0   \n",
              "16741      0       0        0  ...           0        0       0      0      0   \n",
              "16742      0       0        0  ...           0        0       0      0      0   \n",
              "16743      0       1        0  ...           0        0       0      1      0   \n",
              "\n",
              "       Talk-Show  Thriller  War  Western  nan  \n",
              "0              0         1    0        0    0  \n",
              "1              0         0    0        0    0  \n",
              "2              0         0    0        0    0  \n",
              "3              0         0    0        0    0  \n",
              "4              0         0    0        1    0  \n",
              "...          ...       ...  ...      ...  ...  \n",
              "16739          0         0    0        0    0  \n",
              "16740          0         0    0        0    0  \n",
              "16741          0         0    0        0    0  \n",
              "16742          0         0    0        0    0  \n",
              "16743          0         0    0        0    0  \n",
              "\n",
              "[16744 rows x 28 columns]"
            ],
            "text/html": [
              "\n",
              "  <div id=\"df-ab79a9c6-7320-46ad-a0c1-6c3d58a0e896\">\n",
              "    <div class=\"colab-df-container\">\n",
              "      <div>\n",
              "<style scoped>\n",
              "    .dataframe tbody tr th:only-of-type {\n",
              "        vertical-align: middle;\n",
              "    }\n",
              "\n",
              "    .dataframe tbody tr th {\n",
              "        vertical-align: top;\n",
              "    }\n",
              "\n",
              "    .dataframe thead th {\n",
              "        text-align: right;\n",
              "    }\n",
              "</style>\n",
              "<table border=\"1\" class=\"dataframe\">\n",
              "  <thead>\n",
              "    <tr style=\"text-align: right;\">\n",
              "      <th></th>\n",
              "      <th>Action</th>\n",
              "      <th>Adventure</th>\n",
              "      <th>Animation</th>\n",
              "      <th>Biography</th>\n",
              "      <th>Comedy</th>\n",
              "      <th>Crime</th>\n",
              "      <th>Documentary</th>\n",
              "      <th>Drama</th>\n",
              "      <th>Family</th>\n",
              "      <th>Fantasy</th>\n",
              "      <th>...</th>\n",
              "      <th>Reality-TV</th>\n",
              "      <th>Romance</th>\n",
              "      <th>Sci-Fi</th>\n",
              "      <th>Short</th>\n",
              "      <th>Sport</th>\n",
              "      <th>Talk-Show</th>\n",
              "      <th>Thriller</th>\n",
              "      <th>War</th>\n",
              "      <th>Western</th>\n",
              "      <th>nan</th>\n",
              "    </tr>\n",
              "  </thead>\n",
              "  <tbody>\n",
              "    <tr>\n",
              "      <th>0</th>\n",
              "      <td>1</td>\n",
              "      <td>1</td>\n",
              "      <td>0</td>\n",
              "      <td>0</td>\n",
              "      <td>0</td>\n",
              "      <td>0</td>\n",
              "      <td>0</td>\n",
              "      <td>0</td>\n",
              "      <td>0</td>\n",
              "      <td>0</td>\n",
              "      <td>...</td>\n",
              "      <td>0</td>\n",
              "      <td>0</td>\n",
              "      <td>1</td>\n",
              "      <td>0</td>\n",
              "      <td>0</td>\n",
              "      <td>0</td>\n",
              "      <td>1</td>\n",
              "      <td>0</td>\n",
              "      <td>0</td>\n",
              "      <td>0</td>\n",
              "    </tr>\n",
              "    <tr>\n",
              "      <th>1</th>\n",
              "      <td>1</td>\n",
              "      <td>0</td>\n",
              "      <td>0</td>\n",
              "      <td>0</td>\n",
              "      <td>0</td>\n",
              "      <td>0</td>\n",
              "      <td>0</td>\n",
              "      <td>0</td>\n",
              "      <td>0</td>\n",
              "      <td>0</td>\n",
              "      <td>...</td>\n",
              "      <td>0</td>\n",
              "      <td>0</td>\n",
              "      <td>1</td>\n",
              "      <td>0</td>\n",
              "      <td>0</td>\n",
              "      <td>0</td>\n",
              "      <td>0</td>\n",
              "      <td>0</td>\n",
              "      <td>0</td>\n",
              "      <td>0</td>\n",
              "    </tr>\n",
              "    <tr>\n",
              "      <th>2</th>\n",
              "      <td>1</td>\n",
              "      <td>1</td>\n",
              "      <td>0</td>\n",
              "      <td>0</td>\n",
              "      <td>0</td>\n",
              "      <td>0</td>\n",
              "      <td>0</td>\n",
              "      <td>0</td>\n",
              "      <td>0</td>\n",
              "      <td>0</td>\n",
              "      <td>...</td>\n",
              "      <td>0</td>\n",
              "      <td>0</td>\n",
              "      <td>1</td>\n",
              "      <td>0</td>\n",
              "      <td>0</td>\n",
              "      <td>0</td>\n",
              "      <td>0</td>\n",
              "      <td>0</td>\n",
              "      <td>0</td>\n",
              "      <td>0</td>\n",
              "    </tr>\n",
              "    <tr>\n",
              "      <th>3</th>\n",
              "      <td>0</td>\n",
              "      <td>1</td>\n",
              "      <td>0</td>\n",
              "      <td>0</td>\n",
              "      <td>1</td>\n",
              "      <td>0</td>\n",
              "      <td>0</td>\n",
              "      <td>0</td>\n",
              "      <td>0</td>\n",
              "      <td>0</td>\n",
              "      <td>...</td>\n",
              "      <td>0</td>\n",
              "      <td>0</td>\n",
              "      <td>1</td>\n",
              "      <td>0</td>\n",
              "      <td>0</td>\n",
              "      <td>0</td>\n",
              "      <td>0</td>\n",
              "      <td>0</td>\n",
              "      <td>0</td>\n",
              "      <td>0</td>\n",
              "    </tr>\n",
              "    <tr>\n",
              "      <th>4</th>\n",
              "      <td>0</td>\n",
              "      <td>0</td>\n",
              "      <td>0</td>\n",
              "      <td>0</td>\n",
              "      <td>0</td>\n",
              "      <td>0</td>\n",
              "      <td>0</td>\n",
              "      <td>0</td>\n",
              "      <td>0</td>\n",
              "      <td>0</td>\n",
              "      <td>...</td>\n",
              "      <td>0</td>\n",
              "      <td>0</td>\n",
              "      <td>0</td>\n",
              "      <td>0</td>\n",
              "      <td>0</td>\n",
              "      <td>0</td>\n",
              "      <td>0</td>\n",
              "      <td>0</td>\n",
              "      <td>1</td>\n",
              "      <td>0</td>\n",
              "    </tr>\n",
              "    <tr>\n",
              "      <th>...</th>\n",
              "      <td>...</td>\n",
              "      <td>...</td>\n",
              "      <td>...</td>\n",
              "      <td>...</td>\n",
              "      <td>...</td>\n",
              "      <td>...</td>\n",
              "      <td>...</td>\n",
              "      <td>...</td>\n",
              "      <td>...</td>\n",
              "      <td>...</td>\n",
              "      <td>...</td>\n",
              "      <td>...</td>\n",
              "      <td>...</td>\n",
              "      <td>...</td>\n",
              "      <td>...</td>\n",
              "      <td>...</td>\n",
              "      <td>...</td>\n",
              "      <td>...</td>\n",
              "      <td>...</td>\n",
              "      <td>...</td>\n",
              "      <td>...</td>\n",
              "    </tr>\n",
              "    <tr>\n",
              "      <th>16739</th>\n",
              "      <td>0</td>\n",
              "      <td>0</td>\n",
              "      <td>0</td>\n",
              "      <td>0</td>\n",
              "      <td>1</td>\n",
              "      <td>0</td>\n",
              "      <td>0</td>\n",
              "      <td>0</td>\n",
              "      <td>1</td>\n",
              "      <td>1</td>\n",
              "      <td>...</td>\n",
              "      <td>0</td>\n",
              "      <td>0</td>\n",
              "      <td>0</td>\n",
              "      <td>0</td>\n",
              "      <td>0</td>\n",
              "      <td>0</td>\n",
              "      <td>0</td>\n",
              "      <td>0</td>\n",
              "      <td>0</td>\n",
              "      <td>0</td>\n",
              "    </tr>\n",
              "    <tr>\n",
              "      <th>16740</th>\n",
              "      <td>0</td>\n",
              "      <td>0</td>\n",
              "      <td>0</td>\n",
              "      <td>0</td>\n",
              "      <td>1</td>\n",
              "      <td>0</td>\n",
              "      <td>0</td>\n",
              "      <td>0</td>\n",
              "      <td>1</td>\n",
              "      <td>0</td>\n",
              "      <td>...</td>\n",
              "      <td>0</td>\n",
              "      <td>0</td>\n",
              "      <td>1</td>\n",
              "      <td>0</td>\n",
              "      <td>0</td>\n",
              "      <td>0</td>\n",
              "      <td>0</td>\n",
              "      <td>0</td>\n",
              "      <td>0</td>\n",
              "      <td>0</td>\n",
              "    </tr>\n",
              "    <tr>\n",
              "      <th>16741</th>\n",
              "      <td>0</td>\n",
              "      <td>0</td>\n",
              "      <td>0</td>\n",
              "      <td>0</td>\n",
              "      <td>0</td>\n",
              "      <td>0</td>\n",
              "      <td>1</td>\n",
              "      <td>0</td>\n",
              "      <td>0</td>\n",
              "      <td>0</td>\n",
              "      <td>...</td>\n",
              "      <td>0</td>\n",
              "      <td>0</td>\n",
              "      <td>0</td>\n",
              "      <td>0</td>\n",
              "      <td>0</td>\n",
              "      <td>0</td>\n",
              "      <td>0</td>\n",
              "      <td>0</td>\n",
              "      <td>0</td>\n",
              "      <td>0</td>\n",
              "    </tr>\n",
              "    <tr>\n",
              "      <th>16742</th>\n",
              "      <td>0</td>\n",
              "      <td>0</td>\n",
              "      <td>0</td>\n",
              "      <td>0</td>\n",
              "      <td>0</td>\n",
              "      <td>0</td>\n",
              "      <td>1</td>\n",
              "      <td>0</td>\n",
              "      <td>0</td>\n",
              "      <td>0</td>\n",
              "      <td>...</td>\n",
              "      <td>0</td>\n",
              "      <td>0</td>\n",
              "      <td>0</td>\n",
              "      <td>0</td>\n",
              "      <td>0</td>\n",
              "      <td>0</td>\n",
              "      <td>0</td>\n",
              "      <td>0</td>\n",
              "      <td>0</td>\n",
              "      <td>0</td>\n",
              "    </tr>\n",
              "    <tr>\n",
              "      <th>16743</th>\n",
              "      <td>0</td>\n",
              "      <td>0</td>\n",
              "      <td>0</td>\n",
              "      <td>0</td>\n",
              "      <td>0</td>\n",
              "      <td>0</td>\n",
              "      <td>1</td>\n",
              "      <td>0</td>\n",
              "      <td>1</td>\n",
              "      <td>0</td>\n",
              "      <td>...</td>\n",
              "      <td>0</td>\n",
              "      <td>0</td>\n",
              "      <td>0</td>\n",
              "      <td>1</td>\n",
              "      <td>0</td>\n",
              "      <td>0</td>\n",
              "      <td>0</td>\n",
              "      <td>0</td>\n",
              "      <td>0</td>\n",
              "      <td>0</td>\n",
              "    </tr>\n",
              "  </tbody>\n",
              "</table>\n",
              "<p>16744 rows × 28 columns</p>\n",
              "</div>\n",
              "      <button class=\"colab-df-convert\" onclick=\"convertToInteractive('df-ab79a9c6-7320-46ad-a0c1-6c3d58a0e896')\"\n",
              "              title=\"Convert this dataframe to an interactive table.\"\n",
              "              style=\"display:none;\">\n",
              "        \n",
              "  <svg xmlns=\"http://www.w3.org/2000/svg\" height=\"24px\"viewBox=\"0 0 24 24\"\n",
              "       width=\"24px\">\n",
              "    <path d=\"M0 0h24v24H0V0z\" fill=\"none\"/>\n",
              "    <path d=\"M18.56 5.44l.94 2.06.94-2.06 2.06-.94-2.06-.94-.94-2.06-.94 2.06-2.06.94zm-11 1L8.5 8.5l.94-2.06 2.06-.94-2.06-.94L8.5 2.5l-.94 2.06-2.06.94zm10 10l.94 2.06.94-2.06 2.06-.94-2.06-.94-.94-2.06-.94 2.06-2.06.94z\"/><path d=\"M17.41 7.96l-1.37-1.37c-.4-.4-.92-.59-1.43-.59-.52 0-1.04.2-1.43.59L10.3 9.45l-7.72 7.72c-.78.78-.78 2.05 0 2.83L4 21.41c.39.39.9.59 1.41.59.51 0 1.02-.2 1.41-.59l7.78-7.78 2.81-2.81c.8-.78.8-2.07 0-2.86zM5.41 20L4 18.59l7.72-7.72 1.47 1.35L5.41 20z\"/>\n",
              "  </svg>\n",
              "      </button>\n",
              "      \n",
              "  <style>\n",
              "    .colab-df-container {\n",
              "      display:flex;\n",
              "      flex-wrap:wrap;\n",
              "      gap: 12px;\n",
              "    }\n",
              "\n",
              "    .colab-df-convert {\n",
              "      background-color: #E8F0FE;\n",
              "      border: none;\n",
              "      border-radius: 50%;\n",
              "      cursor: pointer;\n",
              "      display: none;\n",
              "      fill: #1967D2;\n",
              "      height: 32px;\n",
              "      padding: 0 0 0 0;\n",
              "      width: 32px;\n",
              "    }\n",
              "\n",
              "    .colab-df-convert:hover {\n",
              "      background-color: #E2EBFA;\n",
              "      box-shadow: 0px 1px 2px rgba(60, 64, 67, 0.3), 0px 1px 3px 1px rgba(60, 64, 67, 0.15);\n",
              "      fill: #174EA6;\n",
              "    }\n",
              "\n",
              "    [theme=dark] .colab-df-convert {\n",
              "      background-color: #3B4455;\n",
              "      fill: #D2E3FC;\n",
              "    }\n",
              "\n",
              "    [theme=dark] .colab-df-convert:hover {\n",
              "      background-color: #434B5C;\n",
              "      box-shadow: 0px 1px 3px 1px rgba(0, 0, 0, 0.15);\n",
              "      filter: drop-shadow(0px 1px 2px rgba(0, 0, 0, 0.3));\n",
              "      fill: #FFFFFF;\n",
              "    }\n",
              "  </style>\n",
              "\n",
              "      <script>\n",
              "        const buttonEl =\n",
              "          document.querySelector('#df-ab79a9c6-7320-46ad-a0c1-6c3d58a0e896 button.colab-df-convert');\n",
              "        buttonEl.style.display =\n",
              "          google.colab.kernel.accessAllowed ? 'block' : 'none';\n",
              "\n",
              "        async function convertToInteractive(key) {\n",
              "          const element = document.querySelector('#df-ab79a9c6-7320-46ad-a0c1-6c3d58a0e896');\n",
              "          const dataTable =\n",
              "            await google.colab.kernel.invokeFunction('convertToInteractive',\n",
              "                                                     [key], {});\n",
              "          if (!dataTable) return;\n",
              "\n",
              "          const docLinkHtml = 'Like what you see? Visit the ' +\n",
              "            '<a target=\"_blank\" href=https://colab.research.google.com/notebooks/data_table.ipynb>data table notebook</a>'\n",
              "            + ' to learn more about interactive tables.';\n",
              "          element.innerHTML = '';\n",
              "          dataTable['output_type'] = 'display_data';\n",
              "          await google.colab.output.renderOutput(dataTable, element);\n",
              "          const docLink = document.createElement('div');\n",
              "          docLink.innerHTML = docLinkHtml;\n",
              "          element.appendChild(docLink);\n",
              "        }\n",
              "      </script>\n",
              "    </div>\n",
              "  </div>\n",
              "  "
            ]
          },
          "metadata": {},
          "execution_count": 42
        }
      ]
    },
    {
      "cell_type": "code",
      "source": [
        "# melakukan join dataframe movies dengan dataframe genre\n",
        "movies_genre = movies[['Netflix','Hulu','Prime Video','Disney+']].join(data_genres)"
      ],
      "metadata": {
        "id": "YsCljVg9ntHj"
      },
      "execution_count": null,
      "outputs": []
    },
    {
      "cell_type": "markdown",
      "source": [
        "Untuk mengetahui jumlah suatu genre pada salah satu SVOD, maka akan dilakukan groupby.().sum() terhadap SVOD yang akan dilakukan perhitungan jumlah genre."
      ],
      "metadata": {
        "id": "V6YAmEJ46Fnr"
      }
    },
    {
      "cell_type": "code",
      "source": [
        "# membuat dataframe dari jumlah genre pada SVOD Netflix\n",
        "top_genre_netflix = movies_genre.drop(['Hulu', 'Prime Video', 'Disney+','nan'],axis=1).groupby(['Netflix']).sum().iloc[1]\n",
        "top_genre_netflix = pd.DataFrame(top_genre_netflix).sort_values(1,ascending=False)\n",
        "top_genre_netflix = top_genre_netflix.transpose()"
      ],
      "metadata": {
        "id": "NuhvPPGLoA3l"
      },
      "execution_count": null,
      "outputs": []
    },
    {
      "cell_type": "code",
      "source": [
        "# membuat plot top genre pada SVOD Netflix\n",
        "sns.catplot(data=top_genre_netflix,kind='bar',palette='cividis',height=5,aspect=3,orient='h')"
      ],
      "metadata": {
        "id": "TANPtMvcoFlS",
        "colab": {
          "base_uri": "https://localhost:8080/"
        },
        "outputId": "603aaa99-e180-4956-de35-2392b9e4101d"
      },
      "execution_count": null,
      "outputs": [
        {
          "output_type": "execute_result",
          "data": {
            "text/plain": [
              "<seaborn.axisgrid.FacetGrid at 0x7fc93ba3ddd0>"
            ]
          },
          "metadata": {},
          "execution_count": 45
        },
        {
          "output_type": "display_data",
          "data": {
            "text/plain": [
              "<Figure size 1080x360 with 1 Axes>"
            ],
            "image/png": "[encoded data removed]"
          },
          "metadata": {
            "needs_background": "light"
          }
        }
      ]
    },
    {
      "cell_type": "code",
      "source": [
        "# membuat dataframe dari jumlah genre pada SVOD Hulu\n",
        "top_genre_hulu = movies_genre.drop(['Netflix', 'Prime Video', 'Disney+','nan'],axis=1).groupby(['Hulu']).sum().iloc[1]\n",
        "top_genre_hulu = pd.DataFrame(top_genre_hulu).sort_values(1,ascending=False)\n",
        "top_genre_hulu = top_genre_hulu.transpose()"
      ],
      "metadata": {
        "id": "S2kOToEGoSFi"
      },
      "execution_count": null,
      "outputs": []
    },
    {
      "cell_type": "code",
      "source": [
        "# membuat plot top genre pada SVOD Hulu\n",
        "sns.catplot(data=top_genre_hulu,kind='bar',palette='cividis',height=5,aspect=3,orient='h')"
      ],
      "metadata": {
        "id": "slr7msstolRA",
        "colab": {
          "base_uri": "https://localhost:8080/"
        },
        "outputId": "cec3ccd7-d5fc-4120-83e5-fc793f1dd835"
      },
      "execution_count": null,
      "outputs": [
        {
          "output_type": "execute_result",
          "data": {
            "text/plain": [
              "<seaborn.axisgrid.FacetGrid at 0x7fc80f77c090>"
            ]
          },
          "metadata": {},
          "execution_count": 47
        },
        {
          "output_type": "display_data",
          "data": {
            "text/plain": [
              "<Figure size 1080x360 with 1 Axes>"
            ],
            "image/png": "[encoded data removed]"
          },
          "metadata": {
            "needs_background": "light"
          }
        }
      ]
    },
    {
      "cell_type": "code",
      "source": [
        "# membuat dataframe dari jumlah genre pada SVOD Prime Video\n",
        "top_genre_prime = movies_genre.drop(['Netflix', 'Hulu', 'Disney+', 'nan'],axis=1).groupby(['Prime Video']).sum().iloc[1]\n",
        "top_genre_prime = pd.DataFrame(top_genre_prime).sort_values(1,ascending=False)\n",
        "top_genre_prime = top_genre_prime.transpose()"
      ],
      "metadata": {
        "id": "ALmqKJBJoqk8"
      },
      "execution_count": null,
      "outputs": []
    },
    {
      "cell_type": "code",
      "source": [
        "# membuat plot top genre pada SVOD Prime Video\n",
        "sns.catplot(data=top_genre_prime,kind='bar',palette='cividis',height=5,aspect=3,orient='h')"
      ],
      "metadata": {
        "id": "ZNXx6NC3pKGz",
        "colab": {
          "base_uri": "https://localhost:8080/"
        },
        "outputId": "e316209a-f7fb-4b46-ad92-36efd22334fa"
      },
      "execution_count": null,
      "outputs": [
        {
          "output_type": "execute_result",
          "data": {
            "text/plain": [
              "<seaborn.axisgrid.FacetGrid at 0x7fc8107dd150>"
            ]
          },
          "metadata": {},
          "execution_count": 49
        },
        {
          "output_type": "display_data",
          "data": {
            "text/plain": [
              "<Figure size 1080x360 with 1 Axes>"
            ],
            "image/png": "[encoded data removed]"
          },
          "metadata": {
            "needs_background": "light"
          }
        }
      ]
    },
    {
      "cell_type": "code",
      "source": [
        "# membuat dataframe dari jumlah genre pada SVOD Disney+\n",
        "top_genre_disney = movies_genre.drop(['Netflix', 'Hulu', 'Prime Video', 'nan'],axis=1).groupby(['Disney+']).sum().iloc[1]\n",
        "top_genre_disney = pd.DataFrame(top_genre_disney).sort_values(1,ascending=False)\n",
        "top_genre_disney = top_genre_disney.transpose()"
      ],
      "metadata": {
        "id": "zssz4KSWpYZY"
      },
      "execution_count": null,
      "outputs": []
    },
    {
      "cell_type": "code",
      "source": [
        "# membuat plot top genre pada SVOD Disney+\n",
        "sns.catplot(data=top_genre_disney,kind='bar',palette='cividis',height=5,aspect=3,orient='h')"
      ],
      "metadata": {
        "id": "7B9BDBhppwDz",
        "colab": {
          "base_uri": "https://localhost:8080/"
        },
        "outputId": "32dcac49-5cf1-4727-c17b-55d0c6d4aa33"
      },
      "execution_count": null,
      "outputs": [
        {
          "output_type": "execute_result",
          "data": {
            "text/plain": [
              "<seaborn.axisgrid.FacetGrid at 0x7fc80fd4b2d0>"
            ]
          },
          "metadata": {},
          "execution_count": 51
        },
        {
          "output_type": "display_data",
          "data": {
            "text/plain": [
              "<Figure size 1080x360 with 1 Axes>"
            ],
            "image/png": "[encoded data removed]"
          },
          "metadata": {
            "needs_background": "light"
          }
        }
      ]
    },
    {
      "cell_type": "markdown",
      "source": [
        "###**Jumlah Film Berdasarkan Negara**"
      ],
      "metadata": {
        "id": "c5_NiQxfgLLJ"
      }
    },
    {
      "cell_type": "markdown",
      "source": [
        "Pada dataframe movies terlihat bahwa satu judul film bisa memiliki lebih dari satu negara. Untuk melihat top negara per platform, hal pertama yang harus dilakukan adalah memisahkan negara dalam setiap film tersebut agar mempermudah pengelompokan film berdasarkan negara."
      ],
      "metadata": {
        "id": "5LbQbXXDE7bc"
      }
    },
    {
      "cell_type": "code",
      "source": [
        "# membuat dataframe negara\n",
        "data_country = movies['Country'].apply(lambda x: str(x).split(','))\n",
        "data_country = pd.get_dummies(data_country.apply(pd.Series), prefix='', prefix_sep='').sum(level=0, axis=1)\n",
        "data_country"
      ],
      "metadata": {
        "id": "F-kk0fX7gQiQ",
        "colab": {
          "base_uri": "https://localhost:8080/"
        },
        "outputId": "5ef7107d-1279-4d17-ef42-7337501ee1e3"
      },
      "execution_count": null,
      "outputs": [
        {
          "output_type": "execute_result",
          "data": {
            "text/plain": [
              "       Afghanistan  Albania  Algeria  Argentina  Armenia  Aruba  Australia  \\\n",
              "0                0        0        0          0        0      0          0   \n",
              "1                0        0        0          0        0      0          0   \n",
              "2                0        0        0          0        0      0          0   \n",
              "3                0        0        0          0        0      0          0   \n",
              "4                0        0        0          0        0      0          0   \n",
              "...            ...      ...      ...        ...      ...    ...        ...   \n",
              "16739            0        0        0          0        0      0          0   \n",
              "16740            0        0        0          0        0      0          0   \n",
              "16741            0        0        0          0        0      0          0   \n",
              "16742            0        0        0          0        0      0          0   \n",
              "16743            0        0        0          0        0      0          0   \n",
              "\n",
              "       Austria  Azerbaijan  Bahamas  ...  Zimbabwe  Costa Rica  El Salvador  \\\n",
              "0            0           0        0  ...         0           0            0   \n",
              "1            0           0        0  ...         0           0            0   \n",
              "2            0           0        0  ...         0           0            0   \n",
              "3            0           0        0  ...         0           0            0   \n",
              "4            0           0        0  ...         0           0            0   \n",
              "...        ...         ...      ...  ...       ...         ...          ...   \n",
              "16739        0           0        0  ...         0           0            0   \n",
              "16740        0           0        0  ...         0           0            0   \n",
              "16741        0           0        0  ...         0           0            0   \n",
              "16742        0           0        0  ...         0           0            0   \n",
              "16743        0           0        0  ...         0           0            0   \n",
              "\n",
              "       Swaziland  Macao  The Democratic Republic Of Congo  Moldova  Oman  \\\n",
              "0              0      0                                 0        0     0   \n",
              "1              0      0                                 0        0     0   \n",
              "2              0      0                                 0        0     0   \n",
              "3              0      0                                 0        0     0   \n",
              "4              0      0                                 0        0     0   \n",
              "...          ...    ...                               ...      ...   ...   \n",
              "16739          0      0                                 0        0     0   \n",
              "16740          0      0                                 0        0     0   \n",
              "16741          0      0                                 0        0     0   \n",
              "16742          0      0                                 0        0     0   \n",
              "16743          0      0                                 0        0     0   \n",
              "\n",
              "       Yemen  Laos  \n",
              "0          0     0  \n",
              "1          0     0  \n",
              "2          0     0  \n",
              "3          0     0  \n",
              "4          0     0  \n",
              "...      ...   ...  \n",
              "16739      0     0  \n",
              "16740      0     0  \n",
              "16741      0     0  \n",
              "16742      0     0  \n",
              "16743      0     0  \n",
              "\n",
              "[16744 rows x 169 columns]"
            ],
            "text/html": [
              "\n",
              "  <div id=\"df-ff57134c-273b-41b0-948b-18231c802a94\">\n",
              "    <div class=\"colab-df-container\">\n",
              "      <div>\n",
              "<style scoped>\n",
              "    .dataframe tbody tr th:only-of-type {\n",
              "        vertical-align: middle;\n",
              "    }\n",
              "\n",
              "    .dataframe tbody tr th {\n",
              "        vertical-align: top;\n",
              "    }\n",
              "\n",
              "    .dataframe thead th {\n",
              "        text-align: right;\n",
              "    }\n",
              "</style>\n",
              "<table border=\"1\" class=\"dataframe\">\n",
              "  <thead>\n",
              "    <tr style=\"text-align: right;\">\n",
              "      <th></th>\n",
              "      <th>Afghanistan</th>\n",
              "      <th>Albania</th>\n",
              "      <th>Algeria</th>\n",
              "      <th>Argentina</th>\n",
              "      <th>Armenia</th>\n",
              "      <th>Aruba</th>\n",
              "      <th>Australia</th>\n",
              "      <th>Austria</th>\n",
              "      <th>Azerbaijan</th>\n",
              "      <th>Bahamas</th>\n",
              "      <th>...</th>\n",
              "      <th>Zimbabwe</th>\n",
              "      <th>Costa Rica</th>\n",
              "      <th>El Salvador</th>\n",
              "      <th>Swaziland</th>\n",
              "      <th>Macao</th>\n",
              "      <th>The Democratic Republic Of Congo</th>\n",
              "      <th>Moldova</th>\n",
              "      <th>Oman</th>\n",
              "      <th>Yemen</th>\n",
              "      <th>Laos</th>\n",
              "    </tr>\n",
              "  </thead>\n",
              "  <tbody>\n",
              "    <tr>\n",
              "      <th>0</th>\n",
              "      <td>0</td>\n",
              "      <td>0</td>\n",
              "      <td>0</td>\n",
              "      <td>0</td>\n",
              "      <td>0</td>\n",
              "      <td>0</td>\n",
              "      <td>0</td>\n",
              "      <td>0</td>\n",
              "      <td>0</td>\n",
              "      <td>0</td>\n",
              "      <td>...</td>\n",
              "      <td>0</td>\n",
              "      <td>0</td>\n",
              "      <td>0</td>\n",
              "      <td>0</td>\n",
              "      <td>0</td>\n",
              "      <td>0</td>\n",
              "      <td>0</td>\n",
              "      <td>0</td>\n",
              "      <td>0</td>\n",
              "      <td>0</td>\n",
              "    </tr>\n",
              "    <tr>\n",
              "      <th>1</th>\n",
              "      <td>0</td>\n",
              "      <td>0</td>\n",
              "      <td>0</td>\n",
              "      <td>0</td>\n",
              "      <td>0</td>\n",
              "      <td>0</td>\n",
              "      <td>0</td>\n",
              "      <td>0</td>\n",
              "      <td>0</td>\n",
              "      <td>0</td>\n",
              "      <td>...</td>\n",
              "      <td>0</td>\n",
              "      <td>0</td>\n",
              "      <td>0</td>\n",
              "      <td>0</td>\n",
              "      <td>0</td>\n",
              "      <td>0</td>\n",
              "      <td>0</td>\n",
              "      <td>0</td>\n",
              "      <td>0</td>\n",
              "      <td>0</td>\n",
              "    </tr>\n",
              "    <tr>\n",
              "      <th>2</th>\n",
              "      <td>0</td>\n",
              "      <td>0</td>\n",
              "      <td>0</td>\n",
              "      <td>0</td>\n",
              "      <td>0</td>\n",
              "      <td>0</td>\n",
              "      <td>0</td>\n",
              "      <td>0</td>\n",
              "      <td>0</td>\n",
              "      <td>0</td>\n",
              "      <td>...</td>\n",
              "      <td>0</td>\n",
              "      <td>0</td>\n",
              "      <td>0</td>\n",
              "      <td>0</td>\n",
              "      <td>0</td>\n",
              "      <td>0</td>\n",
              "      <td>0</td>\n",
              "      <td>0</td>\n",
              "      <td>0</td>\n",
              "      <td>0</td>\n",
              "    </tr>\n",
              "    <tr>\n",
              "      <th>3</th>\n",
              "      <td>0</td>\n",
              "      <td>0</td>\n",
              "      <td>0</td>\n",
              "      <td>0</td>\n",
              "      <td>0</td>\n",
              "      <td>0</td>\n",
              "      <td>0</td>\n",
              "      <td>0</td>\n",
              "      <td>0</td>\n",
              "      <td>0</td>\n",
              "      <td>...</td>\n",
              "      <td>0</td>\n",
              "      <td>0</td>\n",
              "      <td>0</td>\n",
              "      <td>0</td>\n",
              "      <td>0</td>\n",
              "      <td>0</td>\n",
              "      <td>0</td>\n",
              "      <td>0</td>\n",
              "      <td>0</td>\n",
              "      <td>0</td>\n",
              "    </tr>\n",
              "    <tr>\n",
              "      <th>4</th>\n",
              "      <td>0</td>\n",
              "      <td>0</td>\n",
              "      <td>0</td>\n",
              "      <td>0</td>\n",
              "      <td>0</td>\n",
              "      <td>0</td>\n",
              "      <td>0</td>\n",
              "      <td>0</td>\n",
              "      <td>0</td>\n",
              "      <td>0</td>\n",
              "      <td>...</td>\n",
              "      <td>0</td>\n",
              "      <td>0</td>\n",
              "      <td>0</td>\n",
              "      <td>0</td>\n",
              "      <td>0</td>\n",
              "      <td>0</td>\n",
              "      <td>0</td>\n",
              "      <td>0</td>\n",
              "      <td>0</td>\n",
              "      <td>0</td>\n",
              "    </tr>\n",
              "    <tr>\n",
              "      <th>...</th>\n",
              "      <td>...</td>\n",
              "      <td>...</td>\n",
              "      <td>...</td>\n",
              "      <td>...</td>\n",
              "      <td>...</td>\n",
              "      <td>...</td>\n",
              "      <td>...</td>\n",
              "      <td>...</td>\n",
              "      <td>...</td>\n",
              "      <td>...</td>\n",
              "      <td>...</td>\n",
              "      <td>...</td>\n",
              "      <td>...</td>\n",
              "      <td>...</td>\n",
              "      <td>...</td>\n",
              "      <td>...</td>\n",
              "      <td>...</td>\n",
              "      <td>...</td>\n",
              "      <td>...</td>\n",
              "      <td>...</td>\n",
              "      <td>...</td>\n",
              "    </tr>\n",
              "    <tr>\n",
              "      <th>16739</th>\n",
              "      <td>0</td>\n",
              "      <td>0</td>\n",
              "      <td>0</td>\n",
              "      <td>0</td>\n",
              "      <td>0</td>\n",
              "      <td>0</td>\n",
              "      <td>0</td>\n",
              "      <td>0</td>\n",
              "      <td>0</td>\n",
              "      <td>0</td>\n",
              "      <td>...</td>\n",
              "      <td>0</td>\n",
              "      <td>0</td>\n",
              "      <td>0</td>\n",
              "      <td>0</td>\n",
              "      <td>0</td>\n",
              "      <td>0</td>\n",
              "      <td>0</td>\n",
              "      <td>0</td>\n",
              "      <td>0</td>\n",
              "      <td>0</td>\n",
              "    </tr>\n",
              "    <tr>\n",
              "      <th>16740</th>\n",
              "      <td>0</td>\n",
              "      <td>0</td>\n",
              "      <td>0</td>\n",
              "      <td>0</td>\n",
              "      <td>0</td>\n",
              "      <td>0</td>\n",
              "      <td>0</td>\n",
              "      <td>0</td>\n",
              "      <td>0</td>\n",
              "      <td>0</td>\n",
              "      <td>...</td>\n",
              "      <td>0</td>\n",
              "      <td>0</td>\n",
              "      <td>0</td>\n",
              "      <td>0</td>\n",
              "      <td>0</td>\n",
              "      <td>0</td>\n",
              "      <td>0</td>\n",
              "      <td>0</td>\n",
              "      <td>0</td>\n",
              "      <td>0</td>\n",
              "    </tr>\n",
              "    <tr>\n",
              "      <th>16741</th>\n",
              "      <td>0</td>\n",
              "      <td>0</td>\n",
              "      <td>0</td>\n",
              "      <td>0</td>\n",
              "      <td>0</td>\n",
              "      <td>0</td>\n",
              "      <td>0</td>\n",
              "      <td>0</td>\n",
              "      <td>0</td>\n",
              "      <td>0</td>\n",
              "      <td>...</td>\n",
              "      <td>0</td>\n",
              "      <td>0</td>\n",
              "      <td>0</td>\n",
              "      <td>0</td>\n",
              "      <td>0</td>\n",
              "      <td>0</td>\n",
              "      <td>0</td>\n",
              "      <td>0</td>\n",
              "      <td>0</td>\n",
              "      <td>0</td>\n",
              "    </tr>\n",
              "    <tr>\n",
              "      <th>16742</th>\n",
              "      <td>0</td>\n",
              "      <td>0</td>\n",
              "      <td>0</td>\n",
              "      <td>0</td>\n",
              "      <td>0</td>\n",
              "      <td>0</td>\n",
              "      <td>0</td>\n",
              "      <td>0</td>\n",
              "      <td>0</td>\n",
              "      <td>0</td>\n",
              "      <td>...</td>\n",
              "      <td>0</td>\n",
              "      <td>0</td>\n",
              "      <td>0</td>\n",
              "      <td>0</td>\n",
              "      <td>0</td>\n",
              "      <td>0</td>\n",
              "      <td>0</td>\n",
              "      <td>0</td>\n",
              "      <td>0</td>\n",
              "      <td>0</td>\n",
              "    </tr>\n",
              "    <tr>\n",
              "      <th>16743</th>\n",
              "      <td>0</td>\n",
              "      <td>0</td>\n",
              "      <td>0</td>\n",
              "      <td>0</td>\n",
              "      <td>0</td>\n",
              "      <td>0</td>\n",
              "      <td>0</td>\n",
              "      <td>0</td>\n",
              "      <td>0</td>\n",
              "      <td>0</td>\n",
              "      <td>...</td>\n",
              "      <td>0</td>\n",
              "      <td>0</td>\n",
              "      <td>0</td>\n",
              "      <td>0</td>\n",
              "      <td>0</td>\n",
              "      <td>0</td>\n",
              "      <td>0</td>\n",
              "      <td>0</td>\n",
              "      <td>0</td>\n",
              "      <td>0</td>\n",
              "    </tr>\n",
              "  </tbody>\n",
              "</table>\n",
              "<p>16744 rows × 169 columns</p>\n",
              "</div>\n",
              "      <button class=\"colab-df-convert\" onclick=\"convertToInteractive('df-ff57134c-273b-41b0-948b-18231c802a94')\"\n",
              "              title=\"Convert this dataframe to an interactive table.\"\n",
              "              style=\"display:none;\">\n",
              "        \n",
              "  <svg xmlns=\"http://www.w3.org/2000/svg\" height=\"24px\"viewBox=\"0 0 24 24\"\n",
              "       width=\"24px\">\n",
              "    <path d=\"M0 0h24v24H0V0z\" fill=\"none\"/>\n",
              "    <path d=\"M18.56 5.44l.94 2.06.94-2.06 2.06-.94-2.06-.94-.94-2.06-.94 2.06-2.06.94zm-11 1L8.5 8.5l.94-2.06 2.06-.94-2.06-.94L8.5 2.5l-.94 2.06-2.06.94zm10 10l.94 2.06.94-2.06 2.06-.94-2.06-.94-.94-2.06-.94 2.06-2.06.94z\"/><path d=\"M17.41 7.96l-1.37-1.37c-.4-.4-.92-.59-1.43-.59-.52 0-1.04.2-1.43.59L10.3 9.45l-7.72 7.72c-.78.78-.78 2.05 0 2.83L4 21.41c.39.39.9.59 1.41.59.51 0 1.02-.2 1.41-.59l7.78-7.78 2.81-2.81c.8-.78.8-2.07 0-2.86zM5.41 20L4 18.59l7.72-7.72 1.47 1.35L5.41 20z\"/>\n",
              "  </svg>\n",
              "      </button>\n",
              "      \n",
              "  <style>\n",
              "    .colab-df-container {\n",
              "      display:flex;\n",
              "      flex-wrap:wrap;\n",
              "      gap: 12px;\n",
              "    }\n",
              "\n",
              "    .colab-df-convert {\n",
              "      background-color: #E8F0FE;\n",
              "      border: none;\n",
              "      border-radius: 50%;\n",
              "      cursor: pointer;\n",
              "      display: none;\n",
              "      fill: #1967D2;\n",
              "      height: 32px;\n",
              "      padding: 0 0 0 0;\n",
              "      width: 32px;\n",
              "    }\n",
              "\n",
              "    .colab-df-convert:hover {\n",
              "      background-color: #E2EBFA;\n",
              "      box-shadow: 0px 1px 2px rgba(60, 64, 67, 0.3), 0px 1px 3px 1px rgba(60, 64, 67, 0.15);\n",
              "      fill: #174EA6;\n",
              "    }\n",
              "\n",
              "    [theme=dark] .colab-df-convert {\n",
              "      background-color: #3B4455;\n",
              "      fill: #D2E3FC;\n",
              "    }\n",
              "\n",
              "    [theme=dark] .colab-df-convert:hover {\n",
              "      background-color: #434B5C;\n",
              "      box-shadow: 0px 1px 3px 1px rgba(0, 0, 0, 0.15);\n",
              "      filter: drop-shadow(0px 1px 2px rgba(0, 0, 0, 0.3));\n",
              "      fill: #FFFFFF;\n",
              "    }\n",
              "  </style>\n",
              "\n",
              "      <script>\n",
              "        const buttonEl =\n",
              "          document.querySelector('#df-ff57134c-273b-41b0-948b-18231c802a94 button.colab-df-convert');\n",
              "        buttonEl.style.display =\n",
              "          google.colab.kernel.accessAllowed ? 'block' : 'none';\n",
              "\n",
              "        async function convertToInteractive(key) {\n",
              "          const element = document.querySelector('#df-ff57134c-273b-41b0-948b-18231c802a94');\n",
              "          const dataTable =\n",
              "            await google.colab.kernel.invokeFunction('convertToInteractive',\n",
              "                                                     [key], {});\n",
              "          if (!dataTable) return;\n",
              "\n",
              "          const docLinkHtml = 'Like what you see? Visit the ' +\n",
              "            '<a target=\"_blank\" href=https://colab.research.google.com/notebooks/data_table.ipynb>data table notebook</a>'\n",
              "            + ' to learn more about interactive tables.';\n",
              "          element.innerHTML = '';\n",
              "          dataTable['output_type'] = 'display_data';\n",
              "          await google.colab.output.renderOutput(dataTable, element);\n",
              "          const docLink = document.createElement('div');\n",
              "          docLink.innerHTML = docLinkHtml;\n",
              "          element.appendChild(docLink);\n",
              "        }\n",
              "      </script>\n",
              "    </div>\n",
              "  </div>\n",
              "  "
            ]
          },
          "metadata": {},
          "execution_count": 52
        }
      ]
    },
    {
      "cell_type": "code",
      "source": [
        "# melakukan join dataframe movies dengan dataframe negara\n",
        "movies_country = movies[['Netflix','Hulu','Prime Video','Disney+']].join(data_country)"
      ],
      "metadata": {
        "id": "EtgklAPl1jJc"
      },
      "execution_count": null,
      "outputs": []
    },
    {
      "cell_type": "code",
      "source": [
        "# membuat dataframe dari jumlah country pada SVOD Netflix\n",
        "top_country_netflix = movies_country.drop(['Hulu', 'Prime Video', 'Disney+'],axis=1).groupby(['Netflix']).sum().iloc[1]\n",
        "top_country_netflix = pd.DataFrame(top_country_netflix).sort_values(1,ascending=False)\n",
        "top_country_netflix = top_country_netflix.drop(['nan'])\n",
        "top_country_netflix = top_country_netflix.head(10)\n",
        "top_country_netflix = top_country_netflix.transpose()"
      ],
      "metadata": {
        "id": "iIoLbgiE1kjq"
      },
      "execution_count": null,
      "outputs": []
    },
    {
      "cell_type": "code",
      "source": [
        "# membuat plot top negara pada SVOD Netflix\n",
        "sns.catplot(data=top_country_netflix,kind='bar',palette='cividis',height=5,aspect=3,orient='h').set(title='TOP COUNTRY NETFLIX')"
      ],
      "metadata": {
        "id": "WzirroKB1mAR",
        "colab": {
          "base_uri": "https://localhost:8080/"
        },
        "outputId": "26c6f0c8-6d5a-4c5a-ef51-7b0c4abaed0e"
      },
      "execution_count": null,
      "outputs": [
        {
          "output_type": "execute_result",
          "data": {
            "text/plain": [
              "<seaborn.axisgrid.FacetGrid at 0x7fc80a3dc190>"
            ]
          },
          "metadata": {},
          "execution_count": 55
        },
        {
          "output_type": "display_data",
          "data": {
            "text/plain": [
              "<Figure size 1080x360 with 1 Axes>"
            ],
            "image/png": "[encoded data removed]"
          },
          "metadata": {
            "needs_background": "light"
          }
        }
      ]
    },
    {
      "cell_type": "code",
      "source": [
        "# membuat dataframe dari jumlah country pada SVOD Hulu\n",
        "top_country_hulu = movies_country.drop(['Netflix', 'Prime Video', 'Disney+'],axis=1).groupby(['Hulu']).sum().iloc[1]\n",
        "top_country_hulu = pd.DataFrame(top_country_hulu).sort_values(1,ascending=False)\n",
        "top_country_hulu = top_country_hulu.drop(['nan'])\n",
        "top_country_hulu = top_country_hulu.head(10)\n",
        "top_country_hulu = top_country_hulu.transpose()"
      ],
      "metadata": {
        "id": "RX_kTAnp1mmT"
      },
      "execution_count": null,
      "outputs": []
    },
    {
      "cell_type": "code",
      "source": [
        "# membuat plot top negara pada SVOD Hulu\n",
        "sns.catplot(data=top_country_hulu,kind='bar',palette='cividis',height=5,aspect=3,orient='h').set(title='TOP COUNTRY HULU')"
      ],
      "metadata": {
        "id": "a9l_y-yb1oJz",
        "colab": {
          "base_uri": "https://localhost:8080/"
        },
        "outputId": "d9f9ce2e-0f76-4f9b-9d60-40976c2059ab"
      },
      "execution_count": null,
      "outputs": [
        {
          "output_type": "execute_result",
          "data": {
            "text/plain": [
              "<seaborn.axisgrid.FacetGrid at 0x7fc8107a7290>"
            ]
          },
          "metadata": {},
          "execution_count": 57
        },
        {
          "output_type": "display_data",
          "data": {
            "text/plain": [
              "<Figure size 1080x360 with 1 Axes>"
            ],
            "image/png": "[encoded data removed]"
          },
          "metadata": {
            "needs_background": "light"
          }
        }
      ]
    },
    {
      "cell_type": "code",
      "source": [
        "# membuat dataframe dari jumlah country pada SVOD Prime Video\n",
        "top_country_prime = movies_country.drop(['Netflix', 'Hulu', 'Disney+'],axis=1).groupby(['Prime Video']).sum().iloc[1]\n",
        "top_country_prime = pd.DataFrame(top_country_prime).sort_values(1,ascending=False)\n",
        "top_country_prime = top_country_prime.drop(['nan'])\n",
        "top_country_prime = top_country_prime.head(10)\n",
        "top_country_prime = top_country_prime.transpose()"
      ],
      "metadata": {
        "id": "QM9qUM0t1rBE"
      },
      "execution_count": null,
      "outputs": []
    },
    {
      "cell_type": "code",
      "source": [
        "# membuat plot top negara pada SVOD Prime Video\n",
        "sns.catplot(data=top_country_prime,kind='bar',palette='cividis',height=5,aspect=3,orient='h').set(title='TOP COUNTRY PRIME VIDEO')"
      ],
      "metadata": {
        "id": "uMew4fcS1shq",
        "colab": {
          "base_uri": "https://localhost:8080/"
        },
        "outputId": "1eedca61-1707-4057-d270-106114f91ef7"
      },
      "execution_count": null,
      "outputs": [
        {
          "output_type": "execute_result",
          "data": {
            "text/plain": [
              "<seaborn.axisgrid.FacetGrid at 0x7fc810dc3910>"
            ]
          },
          "metadata": {},
          "execution_count": 59
        },
        {
          "output_type": "display_data",
          "data": {
            "text/plain": [
              "<Figure size 1080x360 with 1 Axes>"
            ],
            "image/png": "[encoded data removed]"
          },
          "metadata": {
            "needs_background": "light"
          }
        }
      ]
    },
    {
      "cell_type": "code",
      "source": [
        "# membuat dataframe dari jumlah country pada SVOD Disney+\n",
        "top_country_disney = movies_country.drop(['Netflix', 'Hulu', 'Prime Video'],axis=1).groupby(['Disney+']).sum().iloc[1]\n",
        "top_country_disney = pd.DataFrame(top_country_disney).sort_values(1,ascending=False)\n",
        "top_country_disney = top_country_disney.drop(['nan'])\n",
        "top_country_disney = top_country_disney.head(10)\n",
        "top_country_disney = top_country_disney.transpose()"
      ],
      "metadata": {
        "id": "BHAb75Zz1t-Z"
      },
      "execution_count": null,
      "outputs": []
    },
    {
      "cell_type": "code",
      "source": [
        "# membuat plot top negara pada SVOD Disney+\n",
        "sns.catplot(data=top_country_disney,kind='bar',palette='cividis',height=5,aspect=3,orient='h').set(title='TOP COUNTRY DISNEY+')"
      ],
      "metadata": {
        "id": "5hXAZo0N1vvr",
        "colab": {
          "base_uri": "https://localhost:8080/"
        },
        "outputId": "d36c9bd0-f51e-4349-fece-f7f70f47fc11"
      },
      "execution_count": null,
      "outputs": [
        {
          "output_type": "execute_result",
          "data": {
            "text/plain": [
              "<seaborn.axisgrid.FacetGrid at 0x7fc810dbf110>"
            ]
          },
          "metadata": {},
          "execution_count": 61
        },
        {
          "output_type": "display_data",
          "data": {
            "text/plain": [
              "<Figure size 1080x360 with 1 Axes>"
            ],
            "image/png": "[encoded data removed]"
          },
          "metadata": {
            "needs_background": "light"
          }
        }
      ]
    },
    {
      "cell_type": "markdown",
      "source": [
        "### **Top Bahasa per Platform**"
      ],
      "metadata": {
        "id": "KBSmFlTm2jZ3"
      }
    },
    {
      "cell_type": "code",
      "source": [
        "# membuat dataframe bahasa\n",
        "data_language = movies['Language'].apply(lambda x: str(x).split(','))\n",
        "data_language =pd.get_dummies(data_language.apply(pd.Series), prefix='', prefix_sep='').sum(level=0, axis=1)"
      ],
      "metadata": {
        "id": "8UIg7Uuf4FEb"
      },
      "execution_count": null,
      "outputs": []
    },
    {
      "cell_type": "code",
      "source": [
        "# melakukan join dataframe movies dengan dataframe bahasa\n",
        "movies_language = movies[['Netflix','Hulu','Prime Video','Disney+']].join(data_language)"
      ],
      "metadata": {
        "id": "dWBpTNrh2sST"
      },
      "execution_count": null,
      "outputs": []
    },
    {
      "cell_type": "code",
      "source": [
        "# membuat dataframe dari jumlah country pada SVOD Netflix\n",
        "top_language_netflix = movies_language.drop(['Hulu', 'Prime Video', 'Disney+', 'nan'],axis=1).groupby(['Netflix']).sum().iloc[1]\n",
        "top_language_netflix = pd.DataFrame(top_language_netflix ).sort_values(1,ascending=False)\n",
        "top_language_netflix = top_language_netflix.head(10)\n",
        "top_language_netflix = top_language_netflix.transpose()"
      ],
      "metadata": {
        "id": "Vrkmravc2x_N"
      },
      "execution_count": null,
      "outputs": []
    },
    {
      "cell_type": "code",
      "source": [
        "# membuat plot top negara pada SVOD Netflix\n",
        "sns.catplot(data=top_language_netflix,kind='bar',palette='cividis',height=5,aspect=3,orient='h')"
      ],
      "metadata": {
        "id": "rtfYoe0e23f4",
        "colab": {
          "base_uri": "https://localhost:8080/"
        },
        "outputId": "245c31f8-d421-4756-e10e-2186db084ebd"
      },
      "execution_count": null,
      "outputs": [
        {
          "output_type": "execute_result",
          "data": {
            "text/plain": [
              "<seaborn.axisgrid.FacetGrid at 0x7fc810f18710>"
            ]
          },
          "metadata": {},
          "execution_count": 65
        },
        {
          "output_type": "display_data",
          "data": {
            "text/plain": [
              "<Figure size 1080x360 with 1 Axes>"
            ],
            "image/png": "[encoded data removed]"
          },
          "metadata": {
            "needs_background": "light"
          }
        }
      ]
    },
    {
      "cell_type": "code",
      "source": [
        "# membuat dataframe dari jumlah country pada SVOD Hulu\n",
        "top_language_hulu = movies_language.drop(['Netflix', 'Prime Video', 'Disney+', 'nan'],axis=1).groupby(['Hulu']).sum().iloc[1]\n",
        "top_language_hulu = pd.DataFrame(top_language_hulu ).sort_values(1,ascending=False)\n",
        "top_language_hulu = top_language_hulu.head(10)\n",
        "top_language_hulu = top_language_hulu.transpose()"
      ],
      "metadata": {
        "id": "DqesCMXV26V3"
      },
      "execution_count": null,
      "outputs": []
    },
    {
      "cell_type": "code",
      "source": [
        "# membuat plot top negara pada SVOD Hulu\n",
        "sns.catplot(data=top_language_hulu,kind='bar',palette='cividis',height=5,aspect=3,orient='h')"
      ],
      "metadata": {
        "id": "MOost9yp2-FG",
        "colab": {
          "base_uri": "https://localhost:8080/"
        },
        "outputId": "3a3ff701-9bf2-4f74-c560-19acac5d2508"
      },
      "execution_count": null,
      "outputs": [
        {
          "output_type": "execute_result",
          "data": {
            "text/plain": [
              "<seaborn.axisgrid.FacetGrid at 0x7fc812673790>"
            ]
          },
          "metadata": {},
          "execution_count": 67
        },
        {
          "output_type": "display_data",
          "data": {
            "text/plain": [
              "<Figure size 1080x360 with 1 Axes>"
            ],
            "image/png": "[encoded data removed]"
          },
          "metadata": {
            "needs_background": "light"
          }
        }
      ]
    },
    {
      "cell_type": "code",
      "source": [
        "# membuat dataframe dari jumlah country pada SVOD Prime Video\n",
        "top_language_prime = movies_language.drop(['Netflix', 'Hulu', 'Disney+', 'nan'],axis=1).groupby(['Prime Video']).sum().iloc[1]\n",
        "top_language_prime = pd.DataFrame(top_language_prime).sort_values(1,ascending=False)\n",
        "top_language_prime = top_language_prime.head(10)\n",
        "top_language_prime = top_language_prime.transpose()"
      ],
      "metadata": {
        "id": "1VuxVhsA3BFj"
      },
      "execution_count": null,
      "outputs": []
    },
    {
      "cell_type": "code",
      "source": [
        "# membuat plot top negara pada SVOD Prime Video\n",
        "sns.catplot(data=top_language_prime,kind='bar',palette='cividis',height=5,aspect=3,orient='h')"
      ],
      "metadata": {
        "id": "qlSc1lYc3eDa",
        "colab": {
          "base_uri": "https://localhost:8080/"
        },
        "outputId": "65e92088-200f-43ac-f4a1-6ba21e6c6685"
      },
      "execution_count": null,
      "outputs": [
        {
          "output_type": "execute_result",
          "data": {
            "text/plain": [
              "<seaborn.axisgrid.FacetGrid at 0x7fc8126732d0>"
            ]
          },
          "metadata": {},
          "execution_count": 69
        },
        {
          "output_type": "display_data",
          "data": {
            "text/plain": [
              "<Figure size 1080x360 with 1 Axes>"
            ],
            "image/png": "[encoded data removed]"
          },
          "metadata": {
            "needs_background": "light"
          }
        }
      ]
    },
    {
      "cell_type": "code",
      "source": [
        "# membuat dataframe dari jumlah country pada SVOD Disney+\n",
        "top_language_disney = movies_language.drop(['Netflix', 'Hulu', 'Prime Video', 'nan'],axis=1).groupby(['Disney+']).sum().iloc[1]\n",
        "top_language_disney = pd.DataFrame(top_language_disney).sort_values(1,ascending=False)\n",
        "top_language_disney = top_language_disney.head(10)\n",
        "top_language_disney = top_language_disney.transpose()"
      ],
      "metadata": {
        "id": "bz2LIECy3gkR"
      },
      "execution_count": null,
      "outputs": []
    },
    {
      "cell_type": "markdown",
      "source": [],
      "metadata": {
        "id": "XtqXYLEekxg0"
      }
    },
    {
      "cell_type": "code",
      "source": [
        "# membuat plot top negara pada SVOD Disney+\n",
        "sns.catplot(data=top_language_prime,kind='bar',palette='cividis',height=5,aspect=3,orient='h')"
      ],
      "metadata": {
        "id": "gbZUpiJQ33En",
        "colab": {
          "base_uri": "https://localhost:8080/"
        },
        "outputId": "458f01ad-336a-4e3a-c135-dc26ec1d1b95"
      },
      "execution_count": null,
      "outputs": [
        {
          "output_type": "execute_result",
          "data": {
            "text/plain": [
              "<seaborn.axisgrid.FacetGrid at 0x7fc8117dacd0>"
            ]
          },
          "metadata": {},
          "execution_count": 71
        },
        {
          "output_type": "display_data",
          "data": {
            "text/plain": [
              "<Figure size 1080x360 with 1 Axes>"
            ],
            "image/png": "[encoded data removed]"
          },
          "metadata": {
            "needs_background": "light"
          }
        }
      ]
    },
    {
      "cell_type": "markdown",
      "source": [
        "##**Data Saving**"
      ],
      "metadata": {
        "id": "vQvfIqO-6i8a"
      }
    },
    {
      "cell_type": "code",
      "source": [
        "movies.to_csv('EDA_KELOMPOK4.csv', index=False)"
      ],
      "metadata": {
        "id": "QDEDSuJP6uZz"
      },
      "execution_count": null,
      "outputs": []
    },
    {
      "cell_type": "code",
      "source": [
        "# menyimpan data dalam bentuk .txt untuk dapat divisualisasikan di voyant tools\n",
        "filename = tweetFile.replace(\".json\", \".txt\")\n",
        "tau.saveTweets(cleaned_data, file=filename, type_=\"plain\")"
      ],
      "metadata": {
        "id": "wk8tm1V8qLYA"
      },
      "execution_count": null,
      "outputs": []
    },
    {
      "cell_type": "code",
      "source": [
        "# menyimpan data tweets yang masih raw secara keseluruhan\n",
        "from unidecode import unidecode\n",
        "tweets = [unidecode(t) for t in tweets]\n",
        "tau.saveTweets(tweets, file=filename.replace(\".txt\", \"_tweets.txt\"), type_=\"plain\")"
      ],
      "metadata": {
        "id": "1Q_-DSNEtNYk"
      },
      "execution_count": null,
      "outputs": []
    },
    {
      "cell_type": "markdown",
      "source": [
        "Data yang telah berhasil tersimpan dalam files akan divusalisasikan di voyant tools."
      ],
      "metadata": {
        "id": "OFGHAkUFtsrr"
      }
    }
  ],
  "metadata": {
    "colab": {
      "collapsed_sections": [
        "P5ysM-OZbxOF",
        "eXIolcvYiNy_",
        "c5_NiQxfgLLJ"
      ],
      "provenance": [],
      "include_colab_link": true
    },
    "kernelspec": {
      "display_name": "Python 3",
      "name": "python3"
    },
    "language_info": {
      "name": "python"
    }
  },
  "nbformat": 4,
  "nbformat_minor": 0
}